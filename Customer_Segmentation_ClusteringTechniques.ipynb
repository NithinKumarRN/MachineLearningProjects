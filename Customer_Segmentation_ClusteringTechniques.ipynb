{
 "cells": [
  {
   "cell_type": "code",
   "execution_count": 1,
   "metadata": {},
   "outputs": [],
   "source": [
    "## Loading Libraries\n",
    "\n",
    "import numpy as np,pandas as pd\n",
    "import matplotlib.pyplot as plt, seaborn as sns\n",
    "\n",
    "%matplotlib inline"
   ]
  },
  {
   "cell_type": "code",
   "execution_count": 2,
   "metadata": {},
   "outputs": [
    {
     "data": {
      "text/html": [
       "<div>\n",
       "<style scoped>\n",
       "    .dataframe tbody tr th:only-of-type {\n",
       "        vertical-align: middle;\n",
       "    }\n",
       "\n",
       "    .dataframe tbody tr th {\n",
       "        vertical-align: top;\n",
       "    }\n",
       "\n",
       "    .dataframe thead th {\n",
       "        text-align: right;\n",
       "    }\n",
       "</style>\n",
       "<table border=\"1\" class=\"dataframe\">\n",
       "  <thead>\n",
       "    <tr style=\"text-align: right;\">\n",
       "      <th></th>\n",
       "      <th>Cust_id</th>\n",
       "      <th>AVG_Actual_price_12</th>\n",
       "      <th>Purchase_Value</th>\n",
       "      <th>No_of_Items</th>\n",
       "      <th>Total_Discount</th>\n",
       "      <th>MONTH_SINCE_LAST_TRANSACTION</th>\n",
       "    </tr>\n",
       "  </thead>\n",
       "  <tbody>\n",
       "    <tr>\n",
       "      <th>0</th>\n",
       "      <td>1</td>\n",
       "      <td>300.000000</td>\n",
       "      <td>1200.00</td>\n",
       "      <td>4</td>\n",
       "      <td>0.00</td>\n",
       "      <td>11</td>\n",
       "    </tr>\n",
       "    <tr>\n",
       "      <th>1</th>\n",
       "      <td>2</td>\n",
       "      <td>2563.282500</td>\n",
       "      <td>41012.52</td>\n",
       "      <td>16</td>\n",
       "      <td>78737.48</td>\n",
       "      <td>2</td>\n",
       "    </tr>\n",
       "    <tr>\n",
       "      <th>2</th>\n",
       "      <td>4</td>\n",
       "      <td>3510.000000</td>\n",
       "      <td>7020.00</td>\n",
       "      <td>2</td>\n",
       "      <td>780.00</td>\n",
       "      <td>4</td>\n",
       "    </tr>\n",
       "    <tr>\n",
       "      <th>3</th>\n",
       "      <td>8</td>\n",
       "      <td>4530.000000</td>\n",
       "      <td>13590.00</td>\n",
       "      <td>3</td>\n",
       "      <td>1510.00</td>\n",
       "      <td>1</td>\n",
       "    </tr>\n",
       "    <tr>\n",
       "      <th>4</th>\n",
       "      <td>9</td>\n",
       "      <td>2428.076923</td>\n",
       "      <td>33455.00</td>\n",
       "      <td>15</td>\n",
       "      <td>17445.00</td>\n",
       "      <td>6</td>\n",
       "    </tr>\n",
       "  </tbody>\n",
       "</table>\n",
       "</div>"
      ],
      "text/plain": [
       "   Cust_id  AVG_Actual_price_12  Purchase_Value  No_of_Items  Total_Discount  \\\n",
       "0        1           300.000000         1200.00            4            0.00   \n",
       "1        2          2563.282500        41012.52           16        78737.48   \n",
       "2        4          3510.000000         7020.00            2          780.00   \n",
       "3        8          4530.000000        13590.00            3         1510.00   \n",
       "4        9          2428.076923        33455.00           15        17445.00   \n",
       "\n",
       "   MONTH_SINCE_LAST_TRANSACTION  \n",
       "0                            11  \n",
       "1                             2  \n",
       "2                             4  \n",
       "3                             1  \n",
       "4                             6  "
      ]
     },
     "execution_count": 2,
     "metadata": {},
     "output_type": "execute_result"
    }
   ],
   "source": [
    "## Loading Dataset\n",
    "\n",
    "market = pd.read_csv('Supermarket Purchase.csv')\n",
    "market.head()"
   ]
  },
  {
   "cell_type": "code",
   "execution_count": 3,
   "metadata": {},
   "outputs": [
    {
     "name": "stdout",
     "output_type": "stream",
     "text": [
      "<class 'pandas.core.frame.DataFrame'>\n",
      "RangeIndex: 702 entries, 0 to 701\n",
      "Data columns (total 6 columns):\n",
      "Cust_id                         702 non-null int64\n",
      "AVG_Actual_price_12             702 non-null float64\n",
      "Purchase_Value                  702 non-null float64\n",
      "No_of_Items                     702 non-null int64\n",
      "Total_Discount                  702 non-null float64\n",
      "MONTH_SINCE_LAST_TRANSACTION    702 non-null int64\n",
      "dtypes: float64(3), int64(3)\n",
      "memory usage: 33.0 KB\n"
     ]
    },
    {
     "data": {
      "text/html": [
       "<div>\n",
       "<style scoped>\n",
       "    .dataframe tbody tr th:only-of-type {\n",
       "        vertical-align: middle;\n",
       "    }\n",
       "\n",
       "    .dataframe tbody tr th {\n",
       "        vertical-align: top;\n",
       "    }\n",
       "\n",
       "    .dataframe thead th {\n",
       "        text-align: right;\n",
       "    }\n",
       "</style>\n",
       "<table border=\"1\" class=\"dataframe\">\n",
       "  <thead>\n",
       "    <tr style=\"text-align: right;\">\n",
       "      <th></th>\n",
       "      <th>Cust_id</th>\n",
       "      <th>AVG_Actual_price_12</th>\n",
       "      <th>Purchase_Value</th>\n",
       "      <th>No_of_Items</th>\n",
       "      <th>Total_Discount</th>\n",
       "      <th>MONTH_SINCE_LAST_TRANSACTION</th>\n",
       "    </tr>\n",
       "  </thead>\n",
       "  <tbody>\n",
       "    <tr>\n",
       "      <th>count</th>\n",
       "      <td>702.000000</td>\n",
       "      <td>702.000000</td>\n",
       "      <td>702.000000</td>\n",
       "      <td>702.000000</td>\n",
       "      <td>702.000000</td>\n",
       "      <td>702.000000</td>\n",
       "    </tr>\n",
       "    <tr>\n",
       "      <th>mean</th>\n",
       "      <td>501.414530</td>\n",
       "      <td>2642.877917</td>\n",
       "      <td>19820.633305</td>\n",
       "      <td>10.720798</td>\n",
       "      <td>20806.339088</td>\n",
       "      <td>5.029915</td>\n",
       "    </tr>\n",
       "    <tr>\n",
       "      <th>std</th>\n",
       "      <td>295.756706</td>\n",
       "      <td>1879.138285</td>\n",
       "      <td>34639.752609</td>\n",
       "      <td>20.038311</td>\n",
       "      <td>58427.798572</td>\n",
       "      <td>3.562840</td>\n",
       "    </tr>\n",
       "    <tr>\n",
       "      <th>min</th>\n",
       "      <td>1.000000</td>\n",
       "      <td>22.500000</td>\n",
       "      <td>45.000000</td>\n",
       "      <td>1.000000</td>\n",
       "      <td>-3962.480000</td>\n",
       "      <td>1.000000</td>\n",
       "    </tr>\n",
       "    <tr>\n",
       "      <th>25%</th>\n",
       "      <td>245.750000</td>\n",
       "      <td>1238.750000</td>\n",
       "      <td>4200.000000</td>\n",
       "      <td>2.000000</td>\n",
       "      <td>0.000000</td>\n",
       "      <td>2.000000</td>\n",
       "    </tr>\n",
       "    <tr>\n",
       "      <th>50%</th>\n",
       "      <td>486.500000</td>\n",
       "      <td>2100.000000</td>\n",
       "      <td>8660.000000</td>\n",
       "      <td>4.000000</td>\n",
       "      <td>2599.250000</td>\n",
       "      <td>4.000000</td>\n",
       "    </tr>\n",
       "    <tr>\n",
       "      <th>75%</th>\n",
       "      <td>763.750000</td>\n",
       "      <td>3700.000000</td>\n",
       "      <td>21197.000000</td>\n",
       "      <td>10.000000</td>\n",
       "      <td>17433.750000</td>\n",
       "      <td>8.000000</td>\n",
       "    </tr>\n",
       "    <tr>\n",
       "      <th>max</th>\n",
       "      <td>1006.000000</td>\n",
       "      <td>10000.000000</td>\n",
       "      <td>302721.740000</td>\n",
       "      <td>172.000000</td>\n",
       "      <td>734349.820000</td>\n",
       "      <td>12.000000</td>\n",
       "    </tr>\n",
       "  </tbody>\n",
       "</table>\n",
       "</div>"
      ],
      "text/plain": [
       "           Cust_id  AVG_Actual_price_12  Purchase_Value  No_of_Items  \\\n",
       "count   702.000000           702.000000      702.000000   702.000000   \n",
       "mean    501.414530          2642.877917    19820.633305    10.720798   \n",
       "std     295.756706          1879.138285    34639.752609    20.038311   \n",
       "min       1.000000            22.500000       45.000000     1.000000   \n",
       "25%     245.750000          1238.750000     4200.000000     2.000000   \n",
       "50%     486.500000          2100.000000     8660.000000     4.000000   \n",
       "75%     763.750000          3700.000000    21197.000000    10.000000   \n",
       "max    1006.000000         10000.000000   302721.740000   172.000000   \n",
       "\n",
       "       Total_Discount  MONTH_SINCE_LAST_TRANSACTION  \n",
       "count      702.000000                    702.000000  \n",
       "mean     20806.339088                      5.029915  \n",
       "std      58427.798572                      3.562840  \n",
       "min      -3962.480000                      1.000000  \n",
       "25%          0.000000                      2.000000  \n",
       "50%       2599.250000                      4.000000  \n",
       "75%      17433.750000                      8.000000  \n",
       "max     734349.820000                     12.000000  "
      ]
     },
     "execution_count": 3,
     "metadata": {},
     "output_type": "execute_result"
    }
   ],
   "source": [
    "## Initial checks \n",
    "\n",
    "market.info()\n",
    "market.describe()"
   ]
  },
  {
   "cell_type": "code",
   "execution_count": 4,
   "metadata": {},
   "outputs": [
    {
     "data": {
      "text/plain": [
       "<matplotlib.axes._subplots.AxesSubplot at 0xa8545f8>"
      ]
     },
     "execution_count": 4,
     "metadata": {},
     "output_type": "execute_result"
    },
    {
     "data": {
      "image/png": "[encoded data removed]",
      "text/plain": [
       "<Figure size 720x432 with 2 Axes>"
      ]
     },
     "metadata": {
      "needs_background": "light"
     },
     "output_type": "display_data"
    }
   ],
   "source": [
    "## Purchase Value is correlated with Number of Items and Discounts which is an expected trend.\n",
    "\n",
    "plt.figure(figsize=(10,6))\n",
    "sns.heatmap(market.corr(),annot=True,cmap='viridis')"
   ]
  },
  {
   "cell_type": "code",
   "execution_count": 5,
   "metadata": {},
   "outputs": [],
   "source": [
    "## Dropping irrelevant id column\n",
    "X = market.drop('Cust_id',axis=1)"
   ]
  },
  {
   "cell_type": "code",
   "execution_count": 6,
   "metadata": {},
   "outputs": [
    {
     "name": "stderr",
     "output_type": "stream",
     "text": [
      "C:\\Users\\Nithin\\Anaconda3\\lib\\site-packages\\sklearn\\preprocessing\\data.py:617: DataConversionWarning: Data with input dtype int64, float64 were all converted to float64 by StandardScaler.\n",
      "  return self.partial_fit(X, y)\n",
      "C:\\Users\\Nithin\\Anaconda3\\lib\\site-packages\\sklearn\\base.py:462: DataConversionWarning: Data with input dtype int64, float64 were all converted to float64 by StandardScaler.\n",
      "  return self.fit(X, **fit_params).transform(X)\n"
     ]
    }
   ],
   "source": [
    "from sklearn.preprocessing import StandardScaler\n",
    "X_scaled = StandardScaler().fit_transform(X)"
   ]
  },
  {
   "cell_type": "code",
   "execution_count": 7,
   "metadata": {},
   "outputs": [],
   "source": [
    "## Implementing Elbow method\n",
    "from scipy.spatial.distance import cdist\n",
    "from sklearn.cluster import KMeans"
   ]
  },
  {
   "cell_type": "code",
   "execution_count": 8,
   "metadata": {},
   "outputs": [],
   "source": [
    "def kmeans_elbow_method(df,krange,metric):\n",
    "\n",
    "    elbow = []\n",
    "    K = range(1,krange)\n",
    "    for k in K:\n",
    "        kmeans = KMeans(n_clusters=k)\n",
    "        kmeans.fit(df)\n",
    "\n",
    "        if metric=='cdist':\n",
    "            elbow.append(sum(np.min(cdist(df, kmeans.cluster_centers_, 'euclidean'), axis=1)) / df.shape[0])\n",
    "\n",
    "        elif metric=='inertia':\n",
    "            elbow.append(kmeans.inertia_)\n",
    "\n",
    "        elif metric=='score':\n",
    "            elbow.append(kmeans.score(df))\n",
    "\n",
    "    plt.plot(K,elbow,color='blue', linestyle='dashed', marker='o',markerfacecolor='red', markersize=10)\n",
    "    plt.xlabel('K')\n",
    "    plt.ylabel('{}'.format(metric))\n",
    "    plt.title('The Elbow Method showing the optimal k')\n",
    "    plt.show()\n",
    "    \n",
    "    return elbow"
   ]
  },
  {
   "cell_type": "code",
   "execution_count": 9,
   "metadata": {},
   "outputs": [
    {
     "data": {
      "image/png": "[encoded data removed]",
      "text/plain": [
       "<Figure size 432x288 with 1 Axes>"
      ]
     },
     "metadata": {
      "needs_background": "light"
     },
     "output_type": "display_data"
    }
   ],
   "source": [
    "wss = kmeans_elbow_method(X_scaled,10,'inertia')"
   ]
  },
  {
   "cell_type": "code",
   "execution_count": 10,
   "metadata": {},
   "outputs": [
    {
     "data": {
      "text/plain": [
       "0         NaN\n",
       "1   -0.362763\n",
       "2   -0.253388\n",
       "3   -0.252499\n",
       "4   -0.235183\n",
       "5   -0.102568\n",
       "6   -0.093100\n",
       "7   -0.096578\n",
       "8   -0.087349\n",
       "dtype: float64"
      ]
     },
     "execution_count": 10,
     "metadata": {},
     "output_type": "execute_result"
    }
   ],
   "source": [
    "# Checking for more info on which is the ideal point of elbow\n",
    "pd.Series(wss).pct_change()\n",
    "#mean_dist"
   ]
  },
  {
   "cell_type": "code",
   "execution_count": 11,
   "metadata": {},
   "outputs": [
    {
     "data": {
      "text/plain": [
       "KMeans(algorithm='auto', copy_x=True, init='k-means++', max_iter=300,\n",
       "    n_clusters=4, n_init=10, n_jobs=None, precompute_distances='auto',\n",
       "    random_state=None, tol=0.0001, verbose=0)"
      ]
     },
     "execution_count": 11,
     "metadata": {},
     "output_type": "execute_result"
    }
   ],
   "source": [
    "# Chosing the optimal number of clusters as 4\n",
    "\n",
    "kmeans = KMeans(n_clusters=4)\n",
    "kmeans.fit(X_scaled)"
   ]
  },
  {
   "cell_type": "code",
   "execution_count": 12,
   "metadata": {},
   "outputs": [
    {
     "data": {
      "text/plain": [
       "PCA(copy=True, iterated_power='auto', n_components=None, random_state=None,\n",
       "  svd_solver='auto', tol=0.0, whiten=False)"
      ]
     },
     "execution_count": 12,
     "metadata": {},
     "output_type": "execute_result"
    }
   ],
   "source": [
    "from sklearn.decomposition import PCA\n",
    "\n",
    "pca = PCA()\n",
    "pca.fit(X_scaled)"
   ]
  },
  {
   "cell_type": "code",
   "execution_count": 13,
   "metadata": {},
   "outputs": [
    {
     "data": {
      "text/plain": [
       "Text(2, 0.93, '*')"
      ]
     },
     "execution_count": 13,
     "metadata": {},
     "output_type": "execute_result"
    },
    {
     "data": {
      "image/png": "[encoded data removed]",
      "text/plain": [
       "<Figure size 432x288 with 1 Axes>"
      ]
     },
     "metadata": {
      "needs_background": "light"
     },
     "output_type": "display_data"
    }
   ],
   "source": [
    "## Almost 93% of information is captured by the first 2 Principal Components.\n",
    "\n",
    "plt.plot(np.cumsum(pca.explained_variance_ratio_))\n",
    "plt.annotate('*',xy=(2,0.93))"
   ]
  },
  {
   "cell_type": "code",
   "execution_count": 14,
   "metadata": {},
   "outputs": [
    {
     "data": {
      "text/plain": [
       "<matplotlib.collections.PathCollection at 0xc38d160>"
      ]
     },
     "execution_count": 14,
     "metadata": {},
     "output_type": "execute_result"
    },
    {
     "data": {
      "image/png": "[encoded data removed]",
      "text/plain": [
       "<Figure size 864x432 with 1 Axes>"
      ]
     },
     "metadata": {
      "needs_background": "light"
     },
     "output_type": "display_data"
    }
   ],
   "source": [
    "## Reducing variables to 2D Principal Components for visualization\n",
    "\n",
    "X_pca = PCA(n_components=2).fit_transform(X_scaled)\n",
    "\n",
    "plt.figure(figsize=(12,6))\n",
    "plt.scatter(X_pca[:,0],X_pca[:,1],c= kmeans.predict(X_scaled))"
   ]
  },
  {
   "cell_type": "code",
   "execution_count": 15,
   "metadata": {},
   "outputs": [],
   "source": [
    "X['segments'] = kmeans.labels_"
   ]
  },
  {
   "cell_type": "code",
   "execution_count": 16,
   "metadata": {},
   "outputs": [
    {
     "data": {
      "text/html": [
       "<div>\n",
       "<style scoped>\n",
       "    .dataframe tbody tr th:only-of-type {\n",
       "        vertical-align: middle;\n",
       "    }\n",
       "\n",
       "    .dataframe tbody tr th {\n",
       "        vertical-align: top;\n",
       "    }\n",
       "\n",
       "    .dataframe thead tr th {\n",
       "        text-align: left;\n",
       "    }\n",
       "\n",
       "    .dataframe thead tr:last-of-type th {\n",
       "        text-align: right;\n",
       "    }\n",
       "</style>\n",
       "<table border=\"1\" class=\"dataframe\">\n",
       "  <thead>\n",
       "    <tr>\n",
       "      <th></th>\n",
       "      <th colspan=\"8\" halign=\"left\">AVG_Actual_price_12</th>\n",
       "      <th colspan=\"2\" halign=\"left\">MONTH_SINCE_LAST_TRANSACTION</th>\n",
       "      <th>...</th>\n",
       "      <th colspan=\"2\" halign=\"left\">Purchase_Value</th>\n",
       "      <th colspan=\"8\" halign=\"left\">Total_Discount</th>\n",
       "    </tr>\n",
       "    <tr>\n",
       "      <th></th>\n",
       "      <th>count</th>\n",
       "      <th>mean</th>\n",
       "      <th>std</th>\n",
       "      <th>min</th>\n",
       "      <th>25%</th>\n",
       "      <th>50%</th>\n",
       "      <th>75%</th>\n",
       "      <th>max</th>\n",
       "      <th>count</th>\n",
       "      <th>mean</th>\n",
       "      <th>...</th>\n",
       "      <th>75%</th>\n",
       "      <th>max</th>\n",
       "      <th>count</th>\n",
       "      <th>mean</th>\n",
       "      <th>std</th>\n",
       "      <th>min</th>\n",
       "      <th>25%</th>\n",
       "      <th>50%</th>\n",
       "      <th>75%</th>\n",
       "      <th>max</th>\n",
       "    </tr>\n",
       "    <tr>\n",
       "      <th>segments</th>\n",
       "      <th></th>\n",
       "      <th></th>\n",
       "      <th></th>\n",
       "      <th></th>\n",
       "      <th></th>\n",
       "      <th></th>\n",
       "      <th></th>\n",
       "      <th></th>\n",
       "      <th></th>\n",
       "      <th></th>\n",
       "      <th></th>\n",
       "      <th></th>\n",
       "      <th></th>\n",
       "      <th></th>\n",
       "      <th></th>\n",
       "      <th></th>\n",
       "      <th></th>\n",
       "      <th></th>\n",
       "      <th></th>\n",
       "      <th></th>\n",
       "      <th></th>\n",
       "    </tr>\n",
       "  </thead>\n",
       "  <tbody>\n",
       "    <tr>\n",
       "      <th>0</th>\n",
       "      <td>288.0</td>\n",
       "      <td>1701.657864</td>\n",
       "      <td>855.556447</td>\n",
       "      <td>125.000000</td>\n",
       "      <td>1052.019231</td>\n",
       "      <td>1687.500000</td>\n",
       "      <td>2210.272059</td>\n",
       "      <td>4111.796875</td>\n",
       "      <td>288.0</td>\n",
       "      <td>2.565972</td>\n",
       "      <td>...</td>\n",
       "      <td>32773.6875</td>\n",
       "      <td>191192.12</td>\n",
       "      <td>288.0</td>\n",
       "      <td>27869.838611</td>\n",
       "      <td>36986.222567</td>\n",
       "      <td>-3962.48</td>\n",
       "      <td>1631.25</td>\n",
       "      <td>14152.75</td>\n",
       "      <td>39200.00</td>\n",
       "      <td>236339.39</td>\n",
       "    </tr>\n",
       "    <tr>\n",
       "      <th>1</th>\n",
       "      <td>163.0</td>\n",
       "      <td>5325.489141</td>\n",
       "      <td>1536.508710</td>\n",
       "      <td>3145.000000</td>\n",
       "      <td>4160.892857</td>\n",
       "      <td>5000.000000</td>\n",
       "      <td>6000.000000</td>\n",
       "      <td>10000.000000</td>\n",
       "      <td>163.0</td>\n",
       "      <td>3.938650</td>\n",
       "      <td>...</td>\n",
       "      <td>20705.9000</td>\n",
       "      <td>131450.00</td>\n",
       "      <td>163.0</td>\n",
       "      <td>2264.238650</td>\n",
       "      <td>4654.231321</td>\n",
       "      <td>-2495.64</td>\n",
       "      <td>0.00</td>\n",
       "      <td>510.00</td>\n",
       "      <td>2190.00</td>\n",
       "      <td>33200.00</td>\n",
       "    </tr>\n",
       "    <tr>\n",
       "      <th>2</th>\n",
       "      <td>237.0</td>\n",
       "      <td>1989.375946</td>\n",
       "      <td>1191.670114</td>\n",
       "      <td>22.500000</td>\n",
       "      <td>1050.000000</td>\n",
       "      <td>1875.000000</td>\n",
       "      <td>2731.666667</td>\n",
       "      <td>5500.000000</td>\n",
       "      <td>237.0</td>\n",
       "      <td>9.000000</td>\n",
       "      <td>...</td>\n",
       "      <td>8195.0000</td>\n",
       "      <td>41100.00</td>\n",
       "      <td>237.0</td>\n",
       "      <td>5739.567595</td>\n",
       "      <td>10412.069723</td>\n",
       "      <td>-336.71</td>\n",
       "      <td>0.00</td>\n",
       "      <td>895.00</td>\n",
       "      <td>6539.18</td>\n",
       "      <td>69904.00</td>\n",
       "    </tr>\n",
       "    <tr>\n",
       "      <th>3</th>\n",
       "      <td>14.0</td>\n",
       "      <td>1834.714562</td>\n",
       "      <td>839.374896</td>\n",
       "      <td>1026.325821</td>\n",
       "      <td>1198.593553</td>\n",
       "      <td>1673.846055</td>\n",
       "      <td>2112.388678</td>\n",
       "      <td>3705.147059</td>\n",
       "      <td>14.0</td>\n",
       "      <td>1.214286</td>\n",
       "      <td>...</td>\n",
       "      <td>250888.2500</td>\n",
       "      <td>302721.74</td>\n",
       "      <td>14.0</td>\n",
       "      <td>346442.007143</td>\n",
       "      <td>167015.261663</td>\n",
       "      <td>161040.00</td>\n",
       "      <td>225261.13</td>\n",
       "      <td>299851.55</td>\n",
       "      <td>432882.57</td>\n",
       "      <td>734349.82</td>\n",
       "    </tr>\n",
       "  </tbody>\n",
       "</table>\n",
       "<p>4 rows × 40 columns</p>\n",
       "</div>"
      ],
      "text/plain": [
       "         AVG_Actual_price_12                                         \\\n",
       "                       count         mean          std          min   \n",
       "segments                                                              \n",
       "0                      288.0  1701.657864   855.556447   125.000000   \n",
       "1                      163.0  5325.489141  1536.508710  3145.000000   \n",
       "2                      237.0  1989.375946  1191.670114    22.500000   \n",
       "3                       14.0  1834.714562   839.374896  1026.325821   \n",
       "\n",
       "                                                               \\\n",
       "                  25%          50%          75%           max   \n",
       "segments                                                        \n",
       "0         1052.019231  1687.500000  2210.272059   4111.796875   \n",
       "1         4160.892857  5000.000000  6000.000000  10000.000000   \n",
       "2         1050.000000  1875.000000  2731.666667   5500.000000   \n",
       "3         1198.593553  1673.846055  2112.388678   3705.147059   \n",
       "\n",
       "         MONTH_SINCE_LAST_TRANSACTION              ...     Purchase_Value  \\\n",
       "                                count      mean    ...                75%   \n",
       "segments                                           ...                      \n",
       "0                               288.0  2.565972    ...         32773.6875   \n",
       "1                               163.0  3.938650    ...         20705.9000   \n",
       "2                               237.0  9.000000    ...          8195.0000   \n",
       "3                                14.0  1.214286    ...        250888.2500   \n",
       "\n",
       "                    Total_Discount                                           \\\n",
       "                max          count           mean            std        min   \n",
       "segments                                                                      \n",
       "0         191192.12          288.0   27869.838611   36986.222567   -3962.48   \n",
       "1         131450.00          163.0    2264.238650    4654.231321   -2495.64   \n",
       "2          41100.00          237.0    5739.567595   10412.069723    -336.71   \n",
       "3         302721.74           14.0  346442.007143  167015.261663  161040.00   \n",
       "\n",
       "                                                      \n",
       "                25%        50%        75%        max  \n",
       "segments                                              \n",
       "0           1631.25   14152.75   39200.00  236339.39  \n",
       "1              0.00     510.00    2190.00   33200.00  \n",
       "2              0.00     895.00    6539.18   69904.00  \n",
       "3         225261.13  299851.55  432882.57  734349.82  \n",
       "\n",
       "[4 rows x 40 columns]"
      ]
     },
     "execution_count": 16,
     "metadata": {},
     "output_type": "execute_result"
    }
   ],
   "source": [
    "X.groupby('segments').describe()"
   ]
  },
  {
   "cell_type": "code",
   "execution_count": 17,
   "metadata": {},
   "outputs": [
    {
     "data": {
      "text/plain": [
       "1.1955735379985182"
      ]
     },
     "execution_count": 17,
     "metadata": {},
     "output_type": "execute_result"
    },
    {
     "data": {
      "image/png": "[encoded data removed]",
      "text/plain": [
       "<Figure size 432x288 with 1 Axes>"
      ]
     },
     "metadata": {
      "needs_background": "light"
     },
     "output_type": "display_data"
    }
   ],
   "source": [
    "plt.hist(market.AVG_Actual_price_12)\n",
    "market.AVG_Actual_price_12.kurtosis()"
   ]
  },
  {
   "cell_type": "code",
   "execution_count": 18,
   "metadata": {},
   "outputs": [],
   "source": [
    "from scipy.stats import shapiro,normaltest,anderson,f_oneway, kruskal\n",
    "\n",
    "def normality_tests(df,col):\n",
    "    \"\"\"Returns the results of Normality tests for Shapiro Wilk,D'Agostino,Anderson\n",
    "       and seaborn distribution plot of the variable\"\"\"\n",
    "    \n",
    "    print(\"Shapiro: \",shapiro(df[col].dropna().sample(30,random_state=0)))\n",
    "    print()\n",
    "    print(normaltest(df[col].dropna().sample(30,random_state=0)))\n",
    "    print()\n",
    "    print(anderson(df[col].dropna().sample(30,random_state=0)))\n",
    "    sns.distplot(df[col].dropna())\n",
    "    plt.show()"
   ]
  },
  {
   "cell_type": "code",
   "execution_count": 19,
   "metadata": {},
   "outputs": [
    {
     "name": "stdout",
     "output_type": "stream",
     "text": [
      "Shapiro:  (0.9325822591781616, 0.05752500891685486)\n",
      "\n",
      "NormaltestResult(statistic=2.3439196123529866, pvalue=0.30975927786275337)\n",
      "\n",
      "AndersonResult(statistic=0.6095543833244967, critical_values=array([0.521, 0.593, 0.712, 0.83 , 0.988]), significance_level=array([15. , 10. ,  5. ,  2.5,  1. ]))\n"
     ]
    },
    {
     "name": "stderr",
     "output_type": "stream",
     "text": [
      "C:\\Users\\Nithin\\Anaconda3\\lib\\site-packages\\scipy\\stats\\stats.py:1713: FutureWarning: Using a non-tuple sequence for multidimensional indexing is deprecated; use `arr[tuple(seq)]` instead of `arr[seq]`. In the future this will be interpreted as an array index, `arr[np.array(seq)]`, which will result either in an error or a different result.\n",
      "  return np.add.reduce(sorted[indexer] * weights, axis=axis) / sumval\n"
     ]
    },
    {
     "data": {
      "image/png": "[encoded data removed]",
      "text/plain": [
       "<Figure size 432x288 with 1 Axes>"
      ]
     },
     "metadata": {
      "needs_background": "light"
     },
     "output_type": "display_data"
    }
   ],
   "source": [
    "## To check Normality of Average Actual Price variable. Tests suggest borderline normality with p value between 5-10 %. \n",
    "\n",
    "normality_tests(market,'AVG_Actual_price_12')"
   ]
  },
  {
   "cell_type": "code",
   "execution_count": 20,
   "metadata": {},
   "outputs": [
    {
     "name": "stdout",
     "output_type": "stream",
     "text": [
      "Shapiro:  (0.7010599374771118, 1.6166584373422666e-06)\n",
      "\n",
      "NormaltestResult(statistic=16.92270905712776, pvalue=0.00021148541354133694)\n",
      "\n",
      "AndersonResult(statistic=3.6392939574759993, critical_values=array([0.521, 0.593, 0.712, 0.83 , 0.988]), significance_level=array([15. , 10. ,  5. ,  2.5,  1. ]))\n"
     ]
    },
    {
     "data": {
      "image/png": "[encoded data removed]",
      "text/plain": [
       "<Figure size 432x288 with 1 Axes>"
      ]
     },
     "metadata": {
      "needs_background": "light"
     },
     "output_type": "display_data"
    }
   ],
   "source": [
    "normality_tests(market,'Purchase_Value') ### Heavily Skewed\n",
    "#market.Purchase_Value.skew()"
   ]
  },
  {
   "cell_type": "code",
   "execution_count": 21,
   "metadata": {},
   "outputs": [],
   "source": [
    "### CHECKING IF THE CLUSTERS CREATED ARE ACTUALLY DIFFERENT FROM EACH OTHER USING STATISTICAL HYPTHESIS TESTS.\n",
    "\n",
    "\n",
    "def dictionary_mean(col):\n",
    "\n",
    "    \"\"\"Returns a Dictionary containing observations of listed variable based on each cluster \"\"\"\n",
    "\n",
    "    d = {}\n",
    "    for i in X['segments'].unique():\n",
    "        import pdb\n",
    "        #pdb.set_trace()\n",
    "        d[col +'_'+str(i) ] = X[X['segments']==i][col]\n",
    "        \n",
    "    return d"
   ]
  },
  {
   "cell_type": "code",
   "execution_count": 22,
   "metadata": {},
   "outputs": [
    {
     "data": {
      "text/plain": [
       "F_onewayResult(statistic=44.05223061822929, pvalue=2.6207189872306496e-14)"
      ]
     },
     "execution_count": 22,
     "metadata": {},
     "output_type": "execute_result"
    }
   ],
   "source": [
    "## Average Actual Price differs between the clusters significantly.\n",
    "\n",
    "d = dictionary_mean('AVG_Actual_price_12')\n",
    "\n",
    "f_oneway(d['AVG_Actual_price_12_0'].sample(14,random_state=2),\n",
    "        d['AVG_Actual_price_12_1'].sample(14,random_state=2),\n",
    "        d['AVG_Actual_price_12_2'].sample(14,random_state=2),\n",
    "       d['AVG_Actual_price_12_3'].sample(14,random_state=2))"
   ]
  },
  {
   "cell_type": "code",
   "execution_count": 23,
   "metadata": {},
   "outputs": [],
   "source": [
    "def cluster_significance_test(test,col):\n",
    "    \n",
    "    \"\"\"Returns the results of the Hypothesis test mentioned for the column.\n",
    "       Should be called after defining dictionary_mean function.\n",
    "       Min number of samples is equal to 35 or the no.of samples present in\n",
    "       the smallest class\"\"\"\n",
    "    \n",
    "    d = dictionary_mean(col)\n",
    "    \n",
    "    x = list(d.keys())\n",
    "    \n",
    "    min_length_lst = min([len(d[i]) for i in x])\n",
    "    \n",
    "    if min_length_lst<35:\n",
    "        size = min_length_lst\n",
    "    else:\n",
    "        size = 35\n",
    "\n",
    "    return f_oneway(d[x[0]].sample(size,random_state=2),\n",
    "                    d[x[1]].sample(size,random_state=2),\n",
    "                    d[x[2]].sample(size,random_state=2),\n",
    "                    d[x[3]].sample(size,random_state=2))\n",
    "    "
   ]
  },
  {
   "cell_type": "code",
   "execution_count": 24,
   "metadata": {
    "scrolled": true
   },
   "outputs": [
    {
     "data": {
      "text/plain": [
       "F_onewayResult(statistic=61.22051563357107, pvalue=4.475392474173911e-17)"
      ]
     },
     "execution_count": 24,
     "metadata": {},
     "output_type": "execute_result"
    }
   ],
   "source": [
    "cluster_significance_test(kruskal,'MONTH_SINCE_LAST_TRANSACTION')"
   ]
  },
  {
   "cell_type": "code",
   "execution_count": 25,
   "metadata": {},
   "outputs": [],
   "source": [
    "## CONCLUSION : THE CLUSTERING INDEED SPLIT THE OBSERVATIONS INTO CATEGORIES THAT ARE SIGNIFICANTLY DIFFERENT FROM EACH OTHER."
   ]
  },
  {
   "cell_type": "code",
   "execution_count": 26,
   "metadata": {},
   "outputs": [
    {
     "data": {
      "image/png": "[encoded data removed]",
      "text/plain": [
       "<Figure size 720x864 with 1 Axes>"
      ]
     },
     "metadata": {
      "needs_background": "light"
     },
     "output_type": "display_data"
    }
   ],
   "source": [
    "## HIERARCHIAL CLUSTERING\n",
    "\n",
    "##Importing Dendogram from scipy library.\n",
    "\n",
    "import scipy.cluster.hierarchy as sch\n",
    "\n",
    "plt.figure(figsize=(10,12))\n",
    "dendrogram = sch.dendrogram(sch.linkage(X_scaled,method='ward')) # plotting dendogram, longest uncut line is the topmost one.\n",
    "                                                                 # cutting which we will get 2 clusters."
   ]
  },
  {
   "cell_type": "code",
   "execution_count": 27,
   "metadata": {},
   "outputs": [],
   "source": [
    "## Fitting model with 2 clusters and classifying the datapoints using fit_predict.\n",
    "\n",
    "from sklearn.cluster import AgglomerativeClustering\n",
    "\n",
    "hc = AgglomerativeClustering(n_clusters=2,affinity='euclidean',linkage='ward')\n",
    "\n",
    "y_hc = hc.fit_predict(X_scaled)"
   ]
  },
  {
   "cell_type": "code",
   "execution_count": 28,
   "metadata": {},
   "outputs": [
    {
     "data": {
      "text/plain": [
       "<matplotlib.collections.PathCollection at 0xc9c1ef0>"
      ]
     },
     "execution_count": 28,
     "metadata": {},
     "output_type": "execute_result"
    },
    {
     "data": {
      "image/png": "[encoded data removed]",
      "text/plain": [
       "<Figure size 864x432 with 1 Axes>"
      ]
     },
     "metadata": {
      "needs_background": "light"
     },
     "output_type": "display_data"
    }
   ],
   "source": [
    "## PCA components plotted with the labels marked. 2 clusters are distinctly apart.\n",
    "\n",
    "X_pca = PCA(n_components=2).fit_transform(X_scaled)\n",
    "\n",
    "plt.figure(figsize=(12,6))\n",
    "plt.scatter(X_pca[:,0],X_pca[:,1],c= y_hc)"
   ]
  },
  {
   "cell_type": "code",
   "execution_count": 29,
   "metadata": {},
   "outputs": [],
   "source": [
    "## Creating another column with 2 segements.\n",
    "\n",
    "X['segments2'] = y_hc"
   ]
  },
  {
   "cell_type": "code",
   "execution_count": 30,
   "metadata": {},
   "outputs": [
    {
     "data": {
      "text/html": [
       "<div>\n",
       "<style scoped>\n",
       "    .dataframe tbody tr th:only-of-type {\n",
       "        vertical-align: middle;\n",
       "    }\n",
       "\n",
       "    .dataframe tbody tr th {\n",
       "        vertical-align: top;\n",
       "    }\n",
       "\n",
       "    .dataframe thead th {\n",
       "        text-align: right;\n",
       "    }\n",
       "</style>\n",
       "<table border=\"1\" class=\"dataframe\">\n",
       "  <thead>\n",
       "    <tr style=\"text-align: right;\">\n",
       "      <th></th>\n",
       "      <th>count</th>\n",
       "      <th>mean</th>\n",
       "      <th>std</th>\n",
       "      <th>min</th>\n",
       "      <th>25%</th>\n",
       "      <th>50%</th>\n",
       "      <th>75%</th>\n",
       "      <th>max</th>\n",
       "    </tr>\n",
       "    <tr>\n",
       "      <th>segments2</th>\n",
       "      <th></th>\n",
       "      <th></th>\n",
       "      <th></th>\n",
       "      <th></th>\n",
       "      <th></th>\n",
       "      <th></th>\n",
       "      <th></th>\n",
       "      <th></th>\n",
       "    </tr>\n",
       "  </thead>\n",
       "  <tbody>\n",
       "    <tr>\n",
       "      <th>0</th>\n",
       "      <td>693.0</td>\n",
       "      <td>2655.264478</td>\n",
       "      <td>1887.631428</td>\n",
       "      <td>22.500000</td>\n",
       "      <td>1237.500000</td>\n",
       "      <td>2100.000000</td>\n",
       "      <td>3705.147059</td>\n",
       "      <td>10000.000000</td>\n",
       "    </tr>\n",
       "    <tr>\n",
       "      <th>1</th>\n",
       "      <td>9.0</td>\n",
       "      <td>1689.112781</td>\n",
       "      <td>410.616014</td>\n",
       "      <td>1026.325821</td>\n",
       "      <td>1310.493827</td>\n",
       "      <td>1678.153649</td>\n",
       "      <td>2055.238095</td>\n",
       "      <td>2163.279221</td>\n",
       "    </tr>\n",
       "  </tbody>\n",
       "</table>\n",
       "</div>"
      ],
      "text/plain": [
       "           count         mean          std          min          25%  \\\n",
       "segments2                                                              \n",
       "0          693.0  2655.264478  1887.631428    22.500000  1237.500000   \n",
       "1            9.0  1689.112781   410.616014  1026.325821  1310.493827   \n",
       "\n",
       "                   50%          75%           max  \n",
       "segments2                                          \n",
       "0          2100.000000  3705.147059  10000.000000  \n",
       "1          1678.153649  2055.238095   2163.279221  "
      ]
     },
     "execution_count": 30,
     "metadata": {},
     "output_type": "execute_result"
    }
   ],
   "source": [
    "## Checking the differences between the clusters for different attributes starting with Avg.actual.price\n",
    "\n",
    "# Customers of Segment 0 are considerably more active and productive than segment 1\n",
    "\n",
    "X.groupby('segments2').describe()['AVG_Actual_price_12']"
   ]
  },
  {
   "cell_type": "code",
   "execution_count": 31,
   "metadata": {},
   "outputs": [
    {
     "data": {
      "text/html": [
       "<div>\n",
       "<style scoped>\n",
       "    .dataframe tbody tr th:only-of-type {\n",
       "        vertical-align: middle;\n",
       "    }\n",
       "\n",
       "    .dataframe tbody tr th {\n",
       "        vertical-align: top;\n",
       "    }\n",
       "\n",
       "    .dataframe thead th {\n",
       "        text-align: right;\n",
       "    }\n",
       "</style>\n",
       "<table border=\"1\" class=\"dataframe\">\n",
       "  <thead>\n",
       "    <tr style=\"text-align: right;\">\n",
       "      <th></th>\n",
       "      <th>count</th>\n",
       "      <th>mean</th>\n",
       "      <th>std</th>\n",
       "      <th>min</th>\n",
       "      <th>25%</th>\n",
       "      <th>50%</th>\n",
       "      <th>75%</th>\n",
       "      <th>max</th>\n",
       "    </tr>\n",
       "    <tr>\n",
       "      <th>segments2</th>\n",
       "      <th></th>\n",
       "      <th></th>\n",
       "      <th></th>\n",
       "      <th></th>\n",
       "      <th></th>\n",
       "      <th></th>\n",
       "      <th></th>\n",
       "      <th></th>\n",
       "    </tr>\n",
       "  </thead>\n",
       "  <tbody>\n",
       "    <tr>\n",
       "      <th>0</th>\n",
       "      <td>693.0</td>\n",
       "      <td>16940.017114</td>\n",
       "      <td>23245.318560</td>\n",
       "      <td>45.00</td>\n",
       "      <td>4200.0</td>\n",
       "      <td>8400.0</td>\n",
       "      <td>19920.0</td>\n",
       "      <td>191192.12</td>\n",
       "    </tr>\n",
       "    <tr>\n",
       "      <th>1</th>\n",
       "      <td>9.0</td>\n",
       "      <td>241628.080000</td>\n",
       "      <td>48325.251486</td>\n",
       "      <td>170390.16</td>\n",
       "      <td>206681.9</td>\n",
       "      <td>234203.0</td>\n",
       "      <td>286244.5</td>\n",
       "      <td>302721.74</td>\n",
       "    </tr>\n",
       "  </tbody>\n",
       "</table>\n",
       "</div>"
      ],
      "text/plain": [
       "           count           mean           std        min       25%       50%  \\\n",
       "segments2                                                                      \n",
       "0          693.0   16940.017114  23245.318560      45.00    4200.0    8400.0   \n",
       "1            9.0  241628.080000  48325.251486  170390.16  206681.9  234203.0   \n",
       "\n",
       "                75%        max  \n",
       "segments2                       \n",
       "0           19920.0  191192.12  \n",
       "1          286244.5  302721.74  "
      ]
     },
     "execution_count": 31,
     "metadata": {},
     "output_type": "execute_result"
    }
   ],
   "source": [
    "## Purchase value seems to depict a pattern. Segment 1 customers are at the high end of transactions.\n",
    "\n",
    "X.groupby('segments2').describe()['Purchase_Value']"
   ]
  },
  {
   "cell_type": "code",
   "execution_count": 32,
   "metadata": {},
   "outputs": [
    {
     "data": {
      "text/html": [
       "<div>\n",
       "<style scoped>\n",
       "    .dataframe tbody tr th:only-of-type {\n",
       "        vertical-align: middle;\n",
       "    }\n",
       "\n",
       "    .dataframe tbody tr th {\n",
       "        vertical-align: top;\n",
       "    }\n",
       "\n",
       "    .dataframe thead th {\n",
       "        text-align: right;\n",
       "    }\n",
       "</style>\n",
       "<table border=\"1\" class=\"dataframe\">\n",
       "  <thead>\n",
       "    <tr style=\"text-align: right;\">\n",
       "      <th></th>\n",
       "      <th>count</th>\n",
       "      <th>mean</th>\n",
       "      <th>std</th>\n",
       "      <th>min</th>\n",
       "      <th>25%</th>\n",
       "      <th>50%</th>\n",
       "      <th>75%</th>\n",
       "      <th>max</th>\n",
       "    </tr>\n",
       "    <tr>\n",
       "      <th>segments2</th>\n",
       "      <th></th>\n",
       "      <th></th>\n",
       "      <th></th>\n",
       "      <th></th>\n",
       "      <th></th>\n",
       "      <th></th>\n",
       "      <th></th>\n",
       "      <th></th>\n",
       "    </tr>\n",
       "  </thead>\n",
       "  <tbody>\n",
       "    <tr>\n",
       "      <th>0</th>\n",
       "      <td>693.0</td>\n",
       "      <td>9.037518</td>\n",
       "      <td>13.385407</td>\n",
       "      <td>1.0</td>\n",
       "      <td>2.0</td>\n",
       "      <td>4.0</td>\n",
       "      <td>10.0</td>\n",
       "      <td>113.0</td>\n",
       "    </tr>\n",
       "    <tr>\n",
       "      <th>1</th>\n",
       "      <td>9.0</td>\n",
       "      <td>140.333333</td>\n",
       "      <td>23.270153</td>\n",
       "      <td>104.0</td>\n",
       "      <td>126.0</td>\n",
       "      <td>146.0</td>\n",
       "      <td>154.0</td>\n",
       "      <td>172.0</td>\n",
       "    </tr>\n",
       "  </tbody>\n",
       "</table>\n",
       "</div>"
      ],
      "text/plain": [
       "           count        mean        std    min    25%    50%    75%    max\n",
       "segments2                                                                 \n",
       "0          693.0    9.037518  13.385407    1.0    2.0    4.0   10.0  113.0\n",
       "1            9.0  140.333333  23.270153  104.0  126.0  146.0  154.0  172.0"
      ]
     },
     "execution_count": 32,
     "metadata": {},
     "output_type": "execute_result"
    }
   ],
   "source": [
    "## Number of Items as well shows considerable difference betweeen Segments. Segment 1 buys lots more stuff than Segment 0.\n",
    "\n",
    "## Could be the case that Segment 1 include wholesale buyers and Segment 0 are retailers.\n",
    "\n",
    "X.groupby('segments2').describe()['No_of_Items']"
   ]
  },
  {
   "cell_type": "code",
   "execution_count": 33,
   "metadata": {},
   "outputs": [
    {
     "data": {
      "text/html": [
       "<div>\n",
       "<style scoped>\n",
       "    .dataframe tbody tr th:only-of-type {\n",
       "        vertical-align: middle;\n",
       "    }\n",
       "\n",
       "    .dataframe tbody tr th {\n",
       "        vertical-align: top;\n",
       "    }\n",
       "\n",
       "    .dataframe thead th {\n",
       "        text-align: right;\n",
       "    }\n",
       "</style>\n",
       "<table border=\"1\" class=\"dataframe\">\n",
       "  <thead>\n",
       "    <tr style=\"text-align: right;\">\n",
       "      <th></th>\n",
       "      <th>count</th>\n",
       "      <th>mean</th>\n",
       "      <th>std</th>\n",
       "      <th>min</th>\n",
       "      <th>25%</th>\n",
       "      <th>50%</th>\n",
       "      <th>75%</th>\n",
       "      <th>max</th>\n",
       "    </tr>\n",
       "    <tr>\n",
       "      <th>segments2</th>\n",
       "      <th></th>\n",
       "      <th></th>\n",
       "      <th></th>\n",
       "      <th></th>\n",
       "      <th></th>\n",
       "      <th></th>\n",
       "      <th></th>\n",
       "      <th></th>\n",
       "    </tr>\n",
       "  </thead>\n",
       "  <tbody>\n",
       "    <tr>\n",
       "      <th>0</th>\n",
       "      <td>693.0</td>\n",
       "      <td>16136.372496</td>\n",
       "      <td>36295.311364</td>\n",
       "      <td>-3962.48</td>\n",
       "      <td>0.00</td>\n",
       "      <td>2330.00</td>\n",
       "      <td>16420.0</td>\n",
       "      <td>406350.00</td>\n",
       "    </tr>\n",
       "    <tr>\n",
       "      <th>1</th>\n",
       "      <td>9.0</td>\n",
       "      <td>380393.766667</td>\n",
       "      <td>194496.723583</td>\n",
       "      <td>163280.50</td>\n",
       "      <td>211364.84</td>\n",
       "      <td>350467.88</td>\n",
       "      <td>524174.0</td>\n",
       "      <td>734349.82</td>\n",
       "    </tr>\n",
       "  </tbody>\n",
       "</table>\n",
       "</div>"
      ],
      "text/plain": [
       "           count           mean            std        min        25%  \\\n",
       "segments2                                                              \n",
       "0          693.0   16136.372496   36295.311364   -3962.48       0.00   \n",
       "1            9.0  380393.766667  194496.723583  163280.50  211364.84   \n",
       "\n",
       "                 50%       75%        max  \n",
       "segments2                                  \n",
       "0            2330.00   16420.0  406350.00  \n",
       "1          350467.88  524174.0  734349.82  "
      ]
     },
     "execution_count": 33,
     "metadata": {},
     "output_type": "execute_result"
    }
   ],
   "source": [
    "## Segment 1 buyers enjoy higher discount in lieu for their heavy purchases.\n",
    "\n",
    "X.groupby('segments2').describe()['Total_Discount']"
   ]
  },
  {
   "cell_type": "code",
   "execution_count": 34,
   "metadata": {
    "scrolled": true
   },
   "outputs": [
    {
     "data": {
      "text/html": [
       "<div>\n",
       "<style scoped>\n",
       "    .dataframe tbody tr th:only-of-type {\n",
       "        vertical-align: middle;\n",
       "    }\n",
       "\n",
       "    .dataframe tbody tr th {\n",
       "        vertical-align: top;\n",
       "    }\n",
       "\n",
       "    .dataframe thead th {\n",
       "        text-align: right;\n",
       "    }\n",
       "</style>\n",
       "<table border=\"1\" class=\"dataframe\">\n",
       "  <thead>\n",
       "    <tr style=\"text-align: right;\">\n",
       "      <th></th>\n",
       "      <th>count</th>\n",
       "      <th>mean</th>\n",
       "      <th>std</th>\n",
       "      <th>min</th>\n",
       "      <th>25%</th>\n",
       "      <th>50%</th>\n",
       "      <th>75%</th>\n",
       "      <th>max</th>\n",
       "    </tr>\n",
       "    <tr>\n",
       "      <th>segments2</th>\n",
       "      <th></th>\n",
       "      <th></th>\n",
       "      <th></th>\n",
       "      <th></th>\n",
       "      <th></th>\n",
       "      <th></th>\n",
       "      <th></th>\n",
       "      <th></th>\n",
       "    </tr>\n",
       "  </thead>\n",
       "  <tbody>\n",
       "    <tr>\n",
       "      <th>0</th>\n",
       "      <td>693.0</td>\n",
       "      <td>5.080808</td>\n",
       "      <td>3.557430</td>\n",
       "      <td>1.0</td>\n",
       "      <td>2.0</td>\n",
       "      <td>4.0</td>\n",
       "      <td>8.0</td>\n",
       "      <td>12.0</td>\n",
       "    </tr>\n",
       "    <tr>\n",
       "      <th>1</th>\n",
       "      <td>9.0</td>\n",
       "      <td>1.111111</td>\n",
       "      <td>0.333333</td>\n",
       "      <td>1.0</td>\n",
       "      <td>1.0</td>\n",
       "      <td>1.0</td>\n",
       "      <td>1.0</td>\n",
       "      <td>2.0</td>\n",
       "    </tr>\n",
       "  </tbody>\n",
       "</table>\n",
       "</div>"
      ],
      "text/plain": [
       "           count      mean       std  min  25%  50%  75%   max\n",
       "segments2                                                     \n",
       "0          693.0  5.080808  3.557430  1.0  2.0  4.0  8.0  12.0\n",
       "1            9.0  1.111111  0.333333  1.0  1.0  1.0  1.0   2.0"
      ]
     },
     "execution_count": 34,
     "metadata": {},
     "output_type": "execute_result"
    }
   ],
   "source": [
    "## Segment 1 players are very active and their month since last transaction on average is way less than retail customers.\n",
    "\n",
    "X.groupby('segments2').describe()['MONTH_SINCE_LAST_TRANSACTION']"
   ]
  },
  {
   "cell_type": "code",
   "execution_count": 35,
   "metadata": {},
   "outputs": [
    {
     "data": {
      "text/html": [
       "<div>\n",
       "<style scoped>\n",
       "    .dataframe tbody tr th:only-of-type {\n",
       "        vertical-align: middle;\n",
       "    }\n",
       "\n",
       "    .dataframe tbody tr th {\n",
       "        vertical-align: top;\n",
       "    }\n",
       "\n",
       "    .dataframe thead th {\n",
       "        text-align: right;\n",
       "    }\n",
       "</style>\n",
       "<table border=\"1\" class=\"dataframe\">\n",
       "  <thead>\n",
       "    <tr style=\"text-align: right;\">\n",
       "      <th></th>\n",
       "      <th>AVG_Actual_price_12</th>\n",
       "      <th>Purchase_Value</th>\n",
       "      <th>No_of_Items</th>\n",
       "      <th>Total_Discount</th>\n",
       "      <th>MONTH_SINCE_LAST_TRANSACTION</th>\n",
       "      <th>segments</th>\n",
       "      <th>segments2</th>\n",
       "    </tr>\n",
       "  </thead>\n",
       "  <tbody>\n",
       "    <tr>\n",
       "      <th>16</th>\n",
       "      <td>1276.385086</td>\n",
       "      <td>206681.90</td>\n",
       "      <td>172</td>\n",
       "      <td>291783.10</td>\n",
       "      <td>1</td>\n",
       "      <td>3</td>\n",
       "      <td>1</td>\n",
       "    </tr>\n",
       "    <tr>\n",
       "      <th>32</th>\n",
       "      <td>1669.538462</td>\n",
       "      <td>185976.00</td>\n",
       "      <td>104</td>\n",
       "      <td>524174.00</td>\n",
       "      <td>1</td>\n",
       "      <td>3</td>\n",
       "      <td>1</td>\n",
       "    </tr>\n",
       "    <tr>\n",
       "      <th>67</th>\n",
       "      <td>2163.279221</td>\n",
       "      <td>286244.50</td>\n",
       "      <td>154</td>\n",
       "      <td>163280.50</td>\n",
       "      <td>1</td>\n",
       "      <td>3</td>\n",
       "      <td>1</td>\n",
       "    </tr>\n",
       "    <tr>\n",
       "      <th>267</th>\n",
       "      <td>1026.325821</td>\n",
       "      <td>170390.16</td>\n",
       "      <td>149</td>\n",
       "      <td>211364.84</td>\n",
       "      <td>1</td>\n",
       "      <td>3</td>\n",
       "      <td>1</td>\n",
       "    </tr>\n",
       "    <tr>\n",
       "      <th>274</th>\n",
       "      <td>1678.153649</td>\n",
       "      <td>298429.24</td>\n",
       "      <td>168</td>\n",
       "      <td>441726.76</td>\n",
       "      <td>1</td>\n",
       "      <td>3</td>\n",
       "      <td>1</td>\n",
       "    </tr>\n",
       "    <tr>\n",
       "      <th>327</th>\n",
       "      <td>2131.438872</td>\n",
       "      <td>302721.74</td>\n",
       "      <td>146</td>\n",
       "      <td>350467.88</td>\n",
       "      <td>1</td>\n",
       "      <td>3</td>\n",
       "      <td>1</td>\n",
       "    </tr>\n",
       "    <tr>\n",
       "      <th>484</th>\n",
       "      <td>2055.238095</td>\n",
       "      <td>256450.00</td>\n",
       "      <td>126</td>\n",
       "      <td>170200.00</td>\n",
       "      <td>1</td>\n",
       "      <td>3</td>\n",
       "      <td>1</td>\n",
       "    </tr>\n",
       "    <tr>\n",
       "      <th>497</th>\n",
       "      <td>1310.493827</td>\n",
       "      <td>234203.00</td>\n",
       "      <td>128</td>\n",
       "      <td>536197.00</td>\n",
       "      <td>1</td>\n",
       "      <td>3</td>\n",
       "      <td>1</td>\n",
       "    </tr>\n",
       "    <tr>\n",
       "      <th>691</th>\n",
       "      <td>1891.162000</td>\n",
       "      <td>233556.18</td>\n",
       "      <td>116</td>\n",
       "      <td>734349.82</td>\n",
       "      <td>2</td>\n",
       "      <td>3</td>\n",
       "      <td>1</td>\n",
       "    </tr>\n",
       "  </tbody>\n",
       "</table>\n",
       "</div>"
      ],
      "text/plain": [
       "     AVG_Actual_price_12  Purchase_Value  No_of_Items  Total_Discount  \\\n",
       "16           1276.385086       206681.90          172       291783.10   \n",
       "32           1669.538462       185976.00          104       524174.00   \n",
       "67           2163.279221       286244.50          154       163280.50   \n",
       "267          1026.325821       170390.16          149       211364.84   \n",
       "274          1678.153649       298429.24          168       441726.76   \n",
       "327          2131.438872       302721.74          146       350467.88   \n",
       "484          2055.238095       256450.00          126       170200.00   \n",
       "497          1310.493827       234203.00          128       536197.00   \n",
       "691          1891.162000       233556.18          116       734349.82   \n",
       "\n",
       "     MONTH_SINCE_LAST_TRANSACTION  segments  segments2  \n",
       "16                              1         3          1  \n",
       "32                              1         3          1  \n",
       "67                              1         3          1  \n",
       "267                             1         3          1  \n",
       "274                             1         3          1  \n",
       "327                             1         3          1  \n",
       "484                             1         3          1  \n",
       "497                             1         3          1  \n",
       "691                             2         3          1  "
      ]
     },
     "execution_count": 35,
     "metadata": {},
     "output_type": "execute_result"
    }
   ],
   "source": [
    "X[X['segments2']==1]  ## Lots of items purchases and at high prices. These are not retail customers for sure!!!"
   ]
  },
  {
   "cell_type": "code",
   "execution_count": 36,
   "metadata": {},
   "outputs": [],
   "source": [
    "## CONCLUSION 2: CUSTOMERS CAN BE CLASSIFIED INTO THE RETAILERS AND WHOLE SALE BUYERS/DEALERS. "
   ]
  }
 ],
 "metadata": {
  "kernelspec": {
   "display_name": "Python 3",
   "language": "python",
   "name": "python3"
  },
  "language_info": {
   "codemirror_mode": {
    "name": "ipython",
    "version": 3
   },
   "file_extension": ".py",
   "mimetype": "text/x-python",
   "name": "python",
   "nbconvert_exporter": "python",
   "pygments_lexer": "ipython3",
   "version": "3.7.1"
  }
 },
 "nbformat": 4,
 "nbformat_minor": 2
}
