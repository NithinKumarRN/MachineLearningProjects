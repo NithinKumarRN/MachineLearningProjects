{
 "cells": [
  {
   "cell_type": "markdown",
   "metadata": {},
   "source": [
    " # <font color=red> MERCEDES GREENER MANUFACTURING PROJECT</font>"
   ]
  },
  {
   "cell_type": "markdown",
   "metadata": {},
   "source": [
    "## Agenda\n",
    "\n",
    "## 1. Importing libraries,Reading in Dataset.\n",
    "    \n",
    "    \n",
    "## 2. Exploratory Data Analysis of Variables\n",
    "\n",
    "\n",
    " > **Dealing with Numerical as well as Categorical variables.**<br>\n",
    " > **Handling Outliers, Missing and/or Duplicate values.**<br>\n",
    " > **Visualize the distributions.**<br>\n",
    "    \n",
    "## 3. Data Preprocessing - Feature Selection and Scaling.\n",
    "    \n",
    "## 4. Principal Component Analysis for dealing with Curse Of Dimensionality\n",
    "    \n",
    "## 5. Evaluating Results on multiple models based on regression metrics - R2 and RMSE.\n",
    "    \n",
    "## 6. Hyperparameter Tuning with Gridsearch to finetune performance and results"
   ]
  },
  {
   "cell_type": "markdown",
   "metadata": {},
   "source": [
    "__*IMPORTING THE LIBRARIES AND LOADING THE DATASETS*__"
   ]
  },
  {
   "cell_type": "code",
   "execution_count": 224,
   "metadata": {},
   "outputs": [
    {
     "data": {
      "text/html": [
       "<div>\n",
       "<style>\n",
       "    .dataframe thead tr:only-child th {\n",
       "        text-align: right;\n",
       "    }\n",
       "\n",
       "    .dataframe thead th {\n",
       "        text-align: left;\n",
       "    }\n",
       "\n",
       "    .dataframe tbody tr th {\n",
       "        vertical-align: top;\n",
       "    }\n",
       "</style>\n",
       "<table border=\"1\" class=\"dataframe\">\n",
       "  <thead>\n",
       "    <tr style=\"text-align: right;\">\n",
       "      <th></th>\n",
       "      <th>ID</th>\n",
       "      <th>y</th>\n",
       "      <th>X0</th>\n",
       "      <th>X1</th>\n",
       "      <th>X2</th>\n",
       "      <th>X3</th>\n",
       "      <th>X4</th>\n",
       "      <th>X5</th>\n",
       "      <th>X6</th>\n",
       "      <th>X8</th>\n",
       "      <th>...</th>\n",
       "      <th>X375</th>\n",
       "      <th>X376</th>\n",
       "      <th>X377</th>\n",
       "      <th>X378</th>\n",
       "      <th>X379</th>\n",
       "      <th>X380</th>\n",
       "      <th>X382</th>\n",
       "      <th>X383</th>\n",
       "      <th>X384</th>\n",
       "      <th>X385</th>\n",
       "    </tr>\n",
       "  </thead>\n",
       "  <tbody>\n",
       "    <tr>\n",
       "      <th>3966</th>\n",
       "      <td>7952</td>\n",
       "      <td>115.15</td>\n",
       "      <td>al</td>\n",
       "      <td>o</td>\n",
       "      <td>ae</td>\n",
       "      <td>f</td>\n",
       "      <td>d</td>\n",
       "      <td>w</td>\n",
       "      <td>g</td>\n",
       "      <td>k</td>\n",
       "      <td>...</td>\n",
       "      <td>0</td>\n",
       "      <td>0</td>\n",
       "      <td>0</td>\n",
       "      <td>0</td>\n",
       "      <td>0</td>\n",
       "      <td>0</td>\n",
       "      <td>0</td>\n",
       "      <td>0</td>\n",
       "      <td>0</td>\n",
       "      <td>0</td>\n",
       "    </tr>\n",
       "    <tr>\n",
       "      <th>1817</th>\n",
       "      <td>3651</td>\n",
       "      <td>99.99</td>\n",
       "      <td>ay</td>\n",
       "      <td>aa</td>\n",
       "      <td>as</td>\n",
       "      <td>c</td>\n",
       "      <td>d</td>\n",
       "      <td>ae</td>\n",
       "      <td>g</td>\n",
       "      <td>s</td>\n",
       "      <td>...</td>\n",
       "      <td>1</td>\n",
       "      <td>0</td>\n",
       "      <td>0</td>\n",
       "      <td>0</td>\n",
       "      <td>0</td>\n",
       "      <td>0</td>\n",
       "      <td>0</td>\n",
       "      <td>0</td>\n",
       "      <td>0</td>\n",
       "      <td>0</td>\n",
       "    </tr>\n",
       "    <tr>\n",
       "      <th>2332</th>\n",
       "      <td>4674</td>\n",
       "      <td>90.78</td>\n",
       "      <td>z</td>\n",
       "      <td>aa</td>\n",
       "      <td>ai</td>\n",
       "      <td>c</td>\n",
       "      <td>d</td>\n",
       "      <td>k</td>\n",
       "      <td>g</td>\n",
       "      <td>n</td>\n",
       "      <td>...</td>\n",
       "      <td>1</td>\n",
       "      <td>0</td>\n",
       "      <td>0</td>\n",
       "      <td>0</td>\n",
       "      <td>0</td>\n",
       "      <td>0</td>\n",
       "      <td>0</td>\n",
       "      <td>0</td>\n",
       "      <td>0</td>\n",
       "      <td>0</td>\n",
       "    </tr>\n",
       "    <tr>\n",
       "      <th>2610</th>\n",
       "      <td>5226</td>\n",
       "      <td>89.14</td>\n",
       "      <td>u</td>\n",
       "      <td>m</td>\n",
       "      <td>as</td>\n",
       "      <td>e</td>\n",
       "      <td>d</td>\n",
       "      <td>m</td>\n",
       "      <td>d</td>\n",
       "      <td>e</td>\n",
       "      <td>...</td>\n",
       "      <td>1</td>\n",
       "      <td>0</td>\n",
       "      <td>0</td>\n",
       "      <td>0</td>\n",
       "      <td>0</td>\n",
       "      <td>0</td>\n",
       "      <td>0</td>\n",
       "      <td>0</td>\n",
       "      <td>0</td>\n",
       "      <td>0</td>\n",
       "    </tr>\n",
       "    <tr>\n",
       "      <th>248</th>\n",
       "      <td>494</td>\n",
       "      <td>122.69</td>\n",
       "      <td>w</td>\n",
       "      <td>l</td>\n",
       "      <td>ae</td>\n",
       "      <td>f</td>\n",
       "      <td>d</td>\n",
       "      <td>i</td>\n",
       "      <td>g</td>\n",
       "      <td>r</td>\n",
       "      <td>...</td>\n",
       "      <td>1</td>\n",
       "      <td>0</td>\n",
       "      <td>0</td>\n",
       "      <td>0</td>\n",
       "      <td>0</td>\n",
       "      <td>0</td>\n",
       "      <td>0</td>\n",
       "      <td>0</td>\n",
       "      <td>0</td>\n",
       "      <td>0</td>\n",
       "    </tr>\n",
       "  </tbody>\n",
       "</table>\n",
       "<p>5 rows × 378 columns</p>\n",
       "</div>"
      ],
      "text/plain": [
       "        ID       y  X0  X1  X2 X3 X4  X5 X6 X8  ...   X375  X376  X377  X378  \\\n",
       "3966  7952  115.15  al   o  ae  f  d   w  g  k  ...      0     0     0     0   \n",
       "1817  3651   99.99  ay  aa  as  c  d  ae  g  s  ...      1     0     0     0   \n",
       "2332  4674   90.78   z  aa  ai  c  d   k  g  n  ...      1     0     0     0   \n",
       "2610  5226   89.14   u   m  as  e  d   m  d  e  ...      1     0     0     0   \n",
       "248    494  122.69   w   l  ae  f  d   i  g  r  ...      1     0     0     0   \n",
       "\n",
       "      X379  X380  X382  X383  X384  X385  \n",
       "3966     0     0     0     0     0     0  \n",
       "1817     0     0     0     0     0     0  \n",
       "2332     0     0     0     0     0     0  \n",
       "2610     0     0     0     0     0     0  \n",
       "248      0     0     0     0     0     0  \n",
       "\n",
       "[5 rows x 378 columns]"
      ]
     },
     "execution_count": 224,
     "metadata": {},
     "output_type": "execute_result"
    }
   ],
   "source": [
    "import numpy as np\n",
    "import pandas as pd\n",
    "import matplotlib.pyplot as plt\n",
    "%matplotlib inline\n",
    "import seaborn as sns\n",
    "from sklearn.preprocessing import StandardScaler\n",
    "from sklearn.decomposition import PCA\n",
    "from sklearn.model_selection import cross_val_score,GridSearchCV\n",
    "from sklearn.linear_model import LinearRegression\n",
    "from sklearn.tree import DecisionTreeRegressor\n",
    "from sklearn.ensemble import RandomForestRegressor\n",
    "from sklearn.neighbors import KNeighborsRegressor\n",
    "from sklearn.svm import SVR\n",
    "import statsmodels.formula.api as sm\n",
    "\n",
    " ### IMPORTING THE TRAINING SET\n",
    "mercedes_train = pd.read_csv('train.csv')\n",
    "mercedes_train.sample(5)"
   ]
  },
  {
   "cell_type": "markdown",
   "metadata": {},
   "source": [
    "### Quick check of the shape and structure of Dataset\n",
    "\n",
    "** Dataset consists of 4209 rows and 378 columns**"
   ]
  },
  {
   "cell_type": "code",
   "execution_count": 225,
   "metadata": {},
   "outputs": [
    {
     "name": "stdout",
     "output_type": "stream",
     "text": [
      "(4209, 378)\n",
      "<class 'pandas.core.frame.DataFrame'>\n",
      "RangeIndex: 4209 entries, 0 to 4208\n",
      "Columns: 378 entries, ID to X385\n",
      "dtypes: float64(1), int64(369), object(8)\n",
      "memory usage: 12.1+ MB\n"
     ]
    }
   ],
   "source": [
    "print(mercedes_train.shape) ## CHECKING SHAPE OF DATASET\n",
    "mercedes_train.info( )## BASIC CHECK ON COLUMNS,DATA TYPES ETC"
   ]
  },
  {
   "cell_type": "markdown",
   "metadata": {},
   "source": [
    "### Descriptive stats of numerical ( categorical binary) and categorical (labelled) variables."
   ]
  },
  {
   "cell_type": "code",
   "execution_count": 313,
   "metadata": {},
   "outputs": [
    {
     "data": {
      "text/html": [
       "<div>\n",
       "<style>\n",
       "    .dataframe thead tr:only-child th {\n",
       "        text-align: right;\n",
       "    }\n",
       "\n",
       "    .dataframe thead th {\n",
       "        text-align: left;\n",
       "    }\n",
       "\n",
       "    .dataframe tbody tr th {\n",
       "        vertical-align: top;\n",
       "    }\n",
       "</style>\n",
       "<table border=\"1\" class=\"dataframe\">\n",
       "  <thead>\n",
       "    <tr style=\"text-align: right;\">\n",
       "      <th></th>\n",
       "      <th>ID</th>\n",
       "      <th>y</th>\n",
       "      <th>X10</th>\n",
       "      <th>X11</th>\n",
       "      <th>X12</th>\n",
       "      <th>X13</th>\n",
       "      <th>X14</th>\n",
       "      <th>X15</th>\n",
       "      <th>X16</th>\n",
       "      <th>X17</th>\n",
       "      <th>...</th>\n",
       "      <th>X375</th>\n",
       "      <th>X376</th>\n",
       "      <th>X377</th>\n",
       "      <th>X378</th>\n",
       "      <th>X379</th>\n",
       "      <th>X380</th>\n",
       "      <th>X382</th>\n",
       "      <th>X383</th>\n",
       "      <th>X384</th>\n",
       "      <th>X385</th>\n",
       "    </tr>\n",
       "  </thead>\n",
       "  <tbody>\n",
       "    <tr>\n",
       "      <th>count</th>\n",
       "      <td>4209.000000</td>\n",
       "      <td>4209.000000</td>\n",
       "      <td>4209.000000</td>\n",
       "      <td>4209.0</td>\n",
       "      <td>4209.000000</td>\n",
       "      <td>4209.000000</td>\n",
       "      <td>4209.000000</td>\n",
       "      <td>4209.000000</td>\n",
       "      <td>4209.000000</td>\n",
       "      <td>4209.000000</td>\n",
       "      <td>...</td>\n",
       "      <td>4209.000000</td>\n",
       "      <td>4209.000000</td>\n",
       "      <td>4209.000000</td>\n",
       "      <td>4209.000000</td>\n",
       "      <td>4209.000000</td>\n",
       "      <td>4209.000000</td>\n",
       "      <td>4209.000000</td>\n",
       "      <td>4209.000000</td>\n",
       "      <td>4209.000000</td>\n",
       "      <td>4209.000000</td>\n",
       "    </tr>\n",
       "    <tr>\n",
       "      <th>mean</th>\n",
       "      <td>4205.960798</td>\n",
       "      <td>100.669318</td>\n",
       "      <td>0.013305</td>\n",
       "      <td>0.0</td>\n",
       "      <td>0.075077</td>\n",
       "      <td>0.057971</td>\n",
       "      <td>0.428130</td>\n",
       "      <td>0.000475</td>\n",
       "      <td>0.002613</td>\n",
       "      <td>0.007603</td>\n",
       "      <td>...</td>\n",
       "      <td>0.318841</td>\n",
       "      <td>0.057258</td>\n",
       "      <td>0.314802</td>\n",
       "      <td>0.020670</td>\n",
       "      <td>0.009503</td>\n",
       "      <td>0.008078</td>\n",
       "      <td>0.007603</td>\n",
       "      <td>0.001663</td>\n",
       "      <td>0.000475</td>\n",
       "      <td>0.001426</td>\n",
       "    </tr>\n",
       "    <tr>\n",
       "      <th>std</th>\n",
       "      <td>2437.608688</td>\n",
       "      <td>12.679381</td>\n",
       "      <td>0.114590</td>\n",
       "      <td>0.0</td>\n",
       "      <td>0.263547</td>\n",
       "      <td>0.233716</td>\n",
       "      <td>0.494867</td>\n",
       "      <td>0.021796</td>\n",
       "      <td>0.051061</td>\n",
       "      <td>0.086872</td>\n",
       "      <td>...</td>\n",
       "      <td>0.466082</td>\n",
       "      <td>0.232363</td>\n",
       "      <td>0.464492</td>\n",
       "      <td>0.142294</td>\n",
       "      <td>0.097033</td>\n",
       "      <td>0.089524</td>\n",
       "      <td>0.086872</td>\n",
       "      <td>0.040752</td>\n",
       "      <td>0.021796</td>\n",
       "      <td>0.037734</td>\n",
       "    </tr>\n",
       "    <tr>\n",
       "      <th>min</th>\n",
       "      <td>0.000000</td>\n",
       "      <td>72.110000</td>\n",
       "      <td>0.000000</td>\n",
       "      <td>0.0</td>\n",
       "      <td>0.000000</td>\n",
       "      <td>0.000000</td>\n",
       "      <td>0.000000</td>\n",
       "      <td>0.000000</td>\n",
       "      <td>0.000000</td>\n",
       "      <td>0.000000</td>\n",
       "      <td>...</td>\n",
       "      <td>0.000000</td>\n",
       "      <td>0.000000</td>\n",
       "      <td>0.000000</td>\n",
       "      <td>0.000000</td>\n",
       "      <td>0.000000</td>\n",
       "      <td>0.000000</td>\n",
       "      <td>0.000000</td>\n",
       "      <td>0.000000</td>\n",
       "      <td>0.000000</td>\n",
       "      <td>0.000000</td>\n",
       "    </tr>\n",
       "    <tr>\n",
       "      <th>25%</th>\n",
       "      <td>2095.000000</td>\n",
       "      <td>90.820000</td>\n",
       "      <td>0.000000</td>\n",
       "      <td>0.0</td>\n",
       "      <td>0.000000</td>\n",
       "      <td>0.000000</td>\n",
       "      <td>0.000000</td>\n",
       "      <td>0.000000</td>\n",
       "      <td>0.000000</td>\n",
       "      <td>0.000000</td>\n",
       "      <td>...</td>\n",
       "      <td>0.000000</td>\n",
       "      <td>0.000000</td>\n",
       "      <td>0.000000</td>\n",
       "      <td>0.000000</td>\n",
       "      <td>0.000000</td>\n",
       "      <td>0.000000</td>\n",
       "      <td>0.000000</td>\n",
       "      <td>0.000000</td>\n",
       "      <td>0.000000</td>\n",
       "      <td>0.000000</td>\n",
       "    </tr>\n",
       "    <tr>\n",
       "      <th>50%</th>\n",
       "      <td>4220.000000</td>\n",
       "      <td>99.150000</td>\n",
       "      <td>0.000000</td>\n",
       "      <td>0.0</td>\n",
       "      <td>0.000000</td>\n",
       "      <td>0.000000</td>\n",
       "      <td>0.000000</td>\n",
       "      <td>0.000000</td>\n",
       "      <td>0.000000</td>\n",
       "      <td>0.000000</td>\n",
       "      <td>...</td>\n",
       "      <td>0.000000</td>\n",
       "      <td>0.000000</td>\n",
       "      <td>0.000000</td>\n",
       "      <td>0.000000</td>\n",
       "      <td>0.000000</td>\n",
       "      <td>0.000000</td>\n",
       "      <td>0.000000</td>\n",
       "      <td>0.000000</td>\n",
       "      <td>0.000000</td>\n",
       "      <td>0.000000</td>\n",
       "    </tr>\n",
       "    <tr>\n",
       "      <th>75%</th>\n",
       "      <td>6314.000000</td>\n",
       "      <td>109.010000</td>\n",
       "      <td>0.000000</td>\n",
       "      <td>0.0</td>\n",
       "      <td>0.000000</td>\n",
       "      <td>0.000000</td>\n",
       "      <td>1.000000</td>\n",
       "      <td>0.000000</td>\n",
       "      <td>0.000000</td>\n",
       "      <td>0.000000</td>\n",
       "      <td>...</td>\n",
       "      <td>1.000000</td>\n",
       "      <td>0.000000</td>\n",
       "      <td>1.000000</td>\n",
       "      <td>0.000000</td>\n",
       "      <td>0.000000</td>\n",
       "      <td>0.000000</td>\n",
       "      <td>0.000000</td>\n",
       "      <td>0.000000</td>\n",
       "      <td>0.000000</td>\n",
       "      <td>0.000000</td>\n",
       "    </tr>\n",
       "    <tr>\n",
       "      <th>max</th>\n",
       "      <td>8417.000000</td>\n",
       "      <td>265.320000</td>\n",
       "      <td>1.000000</td>\n",
       "      <td>0.0</td>\n",
       "      <td>1.000000</td>\n",
       "      <td>1.000000</td>\n",
       "      <td>1.000000</td>\n",
       "      <td>1.000000</td>\n",
       "      <td>1.000000</td>\n",
       "      <td>1.000000</td>\n",
       "      <td>...</td>\n",
       "      <td>1.000000</td>\n",
       "      <td>1.000000</td>\n",
       "      <td>1.000000</td>\n",
       "      <td>1.000000</td>\n",
       "      <td>1.000000</td>\n",
       "      <td>1.000000</td>\n",
       "      <td>1.000000</td>\n",
       "      <td>1.000000</td>\n",
       "      <td>1.000000</td>\n",
       "      <td>1.000000</td>\n",
       "    </tr>\n",
       "  </tbody>\n",
       "</table>\n",
       "<p>8 rows × 370 columns</p>\n",
       "</div>"
      ],
      "text/plain": [
       "                ID            y          X10     X11          X12  \\\n",
       "count  4209.000000  4209.000000  4209.000000  4209.0  4209.000000   \n",
       "mean   4205.960798   100.669318     0.013305     0.0     0.075077   \n",
       "std    2437.608688    12.679381     0.114590     0.0     0.263547   \n",
       "min       0.000000    72.110000     0.000000     0.0     0.000000   \n",
       "25%    2095.000000    90.820000     0.000000     0.0     0.000000   \n",
       "50%    4220.000000    99.150000     0.000000     0.0     0.000000   \n",
       "75%    6314.000000   109.010000     0.000000     0.0     0.000000   \n",
       "max    8417.000000   265.320000     1.000000     0.0     1.000000   \n",
       "\n",
       "               X13          X14          X15          X16          X17  \\\n",
       "count  4209.000000  4209.000000  4209.000000  4209.000000  4209.000000   \n",
       "mean      0.057971     0.428130     0.000475     0.002613     0.007603   \n",
       "std       0.233716     0.494867     0.021796     0.051061     0.086872   \n",
       "min       0.000000     0.000000     0.000000     0.000000     0.000000   \n",
       "25%       0.000000     0.000000     0.000000     0.000000     0.000000   \n",
       "50%       0.000000     0.000000     0.000000     0.000000     0.000000   \n",
       "75%       0.000000     1.000000     0.000000     0.000000     0.000000   \n",
       "max       1.000000     1.000000     1.000000     1.000000     1.000000   \n",
       "\n",
       "          ...              X375         X376         X377         X378  \\\n",
       "count     ...       4209.000000  4209.000000  4209.000000  4209.000000   \n",
       "mean      ...          0.318841     0.057258     0.314802     0.020670   \n",
       "std       ...          0.466082     0.232363     0.464492     0.142294   \n",
       "min       ...          0.000000     0.000000     0.000000     0.000000   \n",
       "25%       ...          0.000000     0.000000     0.000000     0.000000   \n",
       "50%       ...          0.000000     0.000000     0.000000     0.000000   \n",
       "75%       ...          1.000000     0.000000     1.000000     0.000000   \n",
       "max       ...          1.000000     1.000000     1.000000     1.000000   \n",
       "\n",
       "              X379         X380         X382         X383         X384  \\\n",
       "count  4209.000000  4209.000000  4209.000000  4209.000000  4209.000000   \n",
       "mean      0.009503     0.008078     0.007603     0.001663     0.000475   \n",
       "std       0.097033     0.089524     0.086872     0.040752     0.021796   \n",
       "min       0.000000     0.000000     0.000000     0.000000     0.000000   \n",
       "25%       0.000000     0.000000     0.000000     0.000000     0.000000   \n",
       "50%       0.000000     0.000000     0.000000     0.000000     0.000000   \n",
       "75%       0.000000     0.000000     0.000000     0.000000     0.000000   \n",
       "max       1.000000     1.000000     1.000000     1.000000     1.000000   \n",
       "\n",
       "              X385  \n",
       "count  4209.000000  \n",
       "mean      0.001426  \n",
       "std       0.037734  \n",
       "min       0.000000  \n",
       "25%       0.000000  \n",
       "50%       0.000000  \n",
       "75%       0.000000  \n",
       "max       1.000000  \n",
       "\n",
       "[8 rows x 370 columns]"
      ]
     },
     "execution_count": 313,
     "metadata": {},
     "output_type": "execute_result"
    }
   ],
   "source": [
    "categ_df = mercedes_train.select_dtypes(exclude=[np.number])\n",
    "numeric_df = mercedes_train.select_dtypes(include=[np.number])\n",
    "\n",
    "numeric_df.describe()"
   ]
  },
  {
   "cell_type": "code",
   "execution_count": 228,
   "metadata": {},
   "outputs": [
    {
     "data": {
      "text/html": [
       "<div>\n",
       "<style>\n",
       "    .dataframe thead tr:only-child th {\n",
       "        text-align: right;\n",
       "    }\n",
       "\n",
       "    .dataframe thead th {\n",
       "        text-align: left;\n",
       "    }\n",
       "\n",
       "    .dataframe tbody tr th {\n",
       "        vertical-align: top;\n",
       "    }\n",
       "</style>\n",
       "<table border=\"1\" class=\"dataframe\">\n",
       "  <thead>\n",
       "    <tr style=\"text-align: right;\">\n",
       "      <th></th>\n",
       "      <th>X0</th>\n",
       "      <th>X1</th>\n",
       "      <th>X2</th>\n",
       "      <th>X3</th>\n",
       "      <th>X4</th>\n",
       "      <th>X5</th>\n",
       "      <th>X6</th>\n",
       "      <th>X8</th>\n",
       "    </tr>\n",
       "  </thead>\n",
       "  <tbody>\n",
       "    <tr>\n",
       "      <th>count</th>\n",
       "      <td>4209</td>\n",
       "      <td>4209</td>\n",
       "      <td>4209</td>\n",
       "      <td>4209</td>\n",
       "      <td>4209</td>\n",
       "      <td>4209</td>\n",
       "      <td>4209</td>\n",
       "      <td>4209</td>\n",
       "    </tr>\n",
       "    <tr>\n",
       "      <th>unique</th>\n",
       "      <td>47</td>\n",
       "      <td>27</td>\n",
       "      <td>44</td>\n",
       "      <td>7</td>\n",
       "      <td>4</td>\n",
       "      <td>29</td>\n",
       "      <td>12</td>\n",
       "      <td>25</td>\n",
       "    </tr>\n",
       "    <tr>\n",
       "      <th>top</th>\n",
       "      <td>z</td>\n",
       "      <td>aa</td>\n",
       "      <td>as</td>\n",
       "      <td>c</td>\n",
       "      <td>d</td>\n",
       "      <td>v</td>\n",
       "      <td>g</td>\n",
       "      <td>j</td>\n",
       "    </tr>\n",
       "    <tr>\n",
       "      <th>freq</th>\n",
       "      <td>360</td>\n",
       "      <td>833</td>\n",
       "      <td>1659</td>\n",
       "      <td>1942</td>\n",
       "      <td>4205</td>\n",
       "      <td>231</td>\n",
       "      <td>1042</td>\n",
       "      <td>277</td>\n",
       "    </tr>\n",
       "  </tbody>\n",
       "</table>\n",
       "</div>"
      ],
      "text/plain": [
       "          X0    X1    X2    X3    X4    X5    X6    X8\n",
       "count   4209  4209  4209  4209  4209  4209  4209  4209\n",
       "unique    47    27    44     7     4    29    12    25\n",
       "top        z    aa    as     c     d     v     g     j\n",
       "freq     360   833  1659  1942  4205   231  1042   277"
      ]
     },
     "execution_count": 228,
     "metadata": {},
     "output_type": "execute_result"
    }
   ],
   "source": [
    "categ_df.describe()"
   ]
  },
  {
   "cell_type": "markdown",
   "metadata": {},
   "source": [
    "# ANALYZING THE TARGET VARIABLE"
   ]
  },
  {
   "cell_type": "markdown",
   "metadata": {},
   "source": [
    "**Distribution of Testing times**"
   ]
  },
  {
   "cell_type": "code",
   "execution_count": 229,
   "metadata": {},
   "outputs": [
    {
     "data": {
      "text/plain": [
       "<matplotlib.text.Text at 0x151c0f28>"
      ]
     },
     "execution_count": 229,
     "metadata": {},
     "output_type": "execute_result"
    },
    {
     "data": {
      "image/png": "[encoded data removed]",
      "text/plain": [
       "<matplotlib.figure.Figure at 0x151bb438>"
      ]
     },
     "metadata": {},
     "output_type": "display_data"
    }
   ],
   "source": [
    "plt.figure(figsize=(10,8))\n",
    "sns.set_style('darkgrid')\n",
    "sns.distplot(mercedes_train.y,kde=False,color='orange')\n",
    "plt.xlim(70,160)\n",
    "plt.xlabel('Testing Times')\n",
    "plt.ylabel('Frequency Distribution')"
   ]
  },
  {
   "cell_type": "markdown",
   "metadata": {},
   "source": [
    "- **In the plot above, we can see that most of the values are centered around the 90-110 range.**\n",
    "- ** Now, let's check for the presence of outliers in the distribution.**"
   ]
  },
  {
   "cell_type": "code",
   "execution_count": 230,
   "metadata": {},
   "outputs": [
    {
     "data": {
      "text/plain": [
       "<matplotlib.text.Annotation at 0x14f29748>"
      ]
     },
     "execution_count": 230,
     "metadata": {},
     "output_type": "execute_result"
    },
    {
     "data": {
      "image/png": "[encoded data removed]",
      "text/plain": [
       "<matplotlib.figure.Figure at 0x14f266a0>"
      ]
     },
     "metadata": {},
     "output_type": "display_data"
    }
   ],
   "source": [
    "plt.scatter(x=range(len(mercedes_train)),y=sorted(mercedes_train.y))\n",
    "plt.annotate('Outlier',xy=(3700,260))"
   ]
  },
  {
   "cell_type": "markdown",
   "metadata": {},
   "source": [
    "- **From the above plot, it is clear that a few values are present in the dataset that are extreme in nature**\n",
    "- **We will take a closer look below for checking the minimum and maximum values**"
   ]
  },
  {
   "cell_type": "markdown",
   "metadata": {},
   "source": [
    "## Identifying Outliers\n",
    "\n",
    "- **Any values that are beyond the value of 3*IQR on either side of the 25 and 75 percentile are considered as Outliers.**\n",
    "- **IQR is known as the Inter Quartile Range- i.e the difference between the 75 and 25 percentiles.**"
   ]
  },
  {
   "cell_type": "code",
   "execution_count": 231,
   "metadata": {},
   "outputs": [
    {
     "name": "stdout",
     "output_type": "stream",
     "text": [
      "count    4209.000000\n",
      "mean      100.669318\n",
      "std        12.679381\n",
      "min        72.110000\n",
      "25%        90.820000\n",
      "50%        99.150000\n",
      "75%       109.010000\n",
      "max       265.320000\n",
      "Name: y, dtype: float64\n"
     ]
    },
    {
     "data": {
      "text/plain": [
       "<matplotlib.text.Annotation at 0x14ef40b8>"
      ]
     },
     "execution_count": 231,
     "metadata": {},
     "output_type": "execute_result"
    },
    {
     "data": {
      "image/png": "[encoded data removed]",
      "text/plain": [
       "<matplotlib.figure.Figure at 0x14f15710>"
      ]
     },
     "metadata": {},
     "output_type": "display_data"
    }
   ],
   "source": [
    "print(mercedes_train.y.describe())\n",
    "sns.boxplot(y='y',data=mercedes_train)\n",
    "plt.annotate('Extreme Outlier',xy=(-0.3,255))"
   ]
  },
  {
   "cell_type": "code",
   "execution_count": 232,
   "metadata": {},
   "outputs": [
    {
     "name": "stdout",
     "output_type": "stream",
     "text": [
      "Inter Quartile Range : 18.190000000000012\n",
      "Upper Limit:  163.58000000000004\n",
      "Lower Limit:  36.24999999999996\n",
      "Outliers are: \n",
      " 342     169.91\n",
      "883     265.32\n",
      "1459    167.45\n",
      "3133    165.52\n",
      "Name: y, dtype: float64\n"
     ]
    }
   ],
   "source": [
    "mercedes_train.y.describe()\n",
    "level_25 = mercedes_train.y.describe().loc['25%']\n",
    "level_75 = mercedes_train.y.describe().loc['75%']\n",
    "inter_quartile_range = level_75 - level_25\n",
    "print(\"Inter Quartile Range :\",inter_quartile_range)\n",
    "upper_limit = level_75 + 3*inter_quartile_range\n",
    "lower_limit = level_25 -  3*inter_quartile_range\n",
    "print(\"Upper Limit: \",upper_limit)\n",
    "print(\"Lower Limit: \",lower_limit)\n",
    "\n",
    "print(\"Outliers are: \\n\",mercedes_train['y'][(mercedes_train['y']<lower_limit)|(mercedes_train['y']>upper_limit)])"
   ]
  },
  {
   "cell_type": "markdown",
   "metadata": {},
   "source": [
    "__*Four Outliers are found that falls into the upper end of the 3 x IQR category*__"
   ]
  },
  {
   "cell_type": "markdown",
   "metadata": {},
   "source": [
    "## INSPECTING CATEGORICAL COLUMNS\n",
    "\n",
    "### Categorical columns seems to be extremely imbalanced in terms of the distribution of classes.\n",
    "### We'll plot the classes of each categorical columns to see the distributions."
   ]
  },
  {
   "cell_type": "code",
   "execution_count": 233,
   "metadata": {},
   "outputs": [
    {
     "data": {
      "image/png": "[encoded data removed]",
      "text/plain": [
       "<matplotlib.figure.Figure at 0x14dfa470>"
      ]
     },
     "metadata": {},
     "output_type": "display_data"
    },
    {
     "data": {
      "image/png": "[encoded data removed]",
      "text/plain": [
       "<matplotlib.figure.Figure at 0x1313fda0>"
      ]
     },
     "metadata": {},
     "output_type": "display_data"
    },
    {
     "data": {
      "image/png": "[encoded data removed]",
      "text/plain": [
       "<matplotlib.figure.Figure at 0x131f3f60>"
      ]
     },
     "metadata": {},
     "output_type": "display_data"
    },
    {
     "data": {
      "image/png": "[encoded data removed]",
      "text/plain": [
       "<matplotlib.figure.Figure at 0x13315630>"
      ]
     },
     "metadata": {},
     "output_type": "display_data"
    },
    {
     "data": {
      "image/png": "[encoded data removed]",
      "text/plain": [
       "<matplotlib.figure.Figure at 0x1335f7f0>"
      ]
     },
     "metadata": {},
     "output_type": "display_data"
    },
    {
     "data": {
      "image/png": "[encoded data removed]",
      "text/plain": [
       "<matplotlib.figure.Figure at 0x14e34dd8>"
      ]
     },
     "metadata": {},
     "output_type": "display_data"
    },
    {
     "data": {
      "image/png": "[encoded data removed]",
      "text/plain": [
       "<matplotlib.figure.Figure at 0x132fa400>"
      ]
     },
     "metadata": {},
     "output_type": "display_data"
    },
    {
     "data": {
      "image/png": "[encoded data removed]",
      "text/plain": [
       "<matplotlib.figure.Figure at 0x1316f898>"
      ]
     },
     "metadata": {},
     "output_type": "display_data"
    }
   ],
   "source": [
    "categ_df = mercedes_train.select_dtypes(exclude=[np.number])\n",
    "\n",
    "for i in list(categ_df.columns):\n",
    "    plt.figure(figsize=(8,6))\n",
    "    categ_df[i].value_counts().sort_values(ascending=False).plot.bar()\n",
    "    plt.show()"
   ]
  },
  {
   "cell_type": "markdown",
   "metadata": {},
   "source": [
    "** We'll take a closer look at the percentages of total values that the classes occupy in each Categorical column.**\n",
    "** We have defined a percentage function which will return the series containing classes which contribute to the given percentage(80% here) of the total**"
   ]
  },
  {
   "cell_type": "code",
   "execution_count": 234,
   "metadata": {
    "collapsed": true
   },
   "outputs": [],
   "source": [
    "def percentage(df,col,pct):\n",
    "    n = df[col].nunique()\n",
    "    for i in range(1,n+1):\n",
    "        if (sum(df[col].value_counts()[:i]))/(df[col].shape[0]) > pct:\n",
    "            series = pd.Series(df[col].value_counts()[:i])\n",
    "            return series\n",
    "        else:\n",
    "            continue"
   ]
  },
  {
   "cell_type": "code",
   "execution_count": 235,
   "metadata": {},
   "outputs": [
    {
     "name": "stdout",
     "output_type": "stream",
     "text": [
      "**********\n",
      "\n",
      "\n",
      "Total Classes:  47\n",
      "14\n",
      "z     360\n",
      "ak    349\n",
      "y     324\n",
      "ay    313\n",
      "t     306\n",
      "x     300\n",
      "o     269\n",
      "f     227\n",
      "n     195\n",
      "w     182\n",
      "j     181\n",
      "az    175\n",
      "aj    151\n",
      "s     106\n",
      "Name: X0, dtype: int64\n",
      "**********\n",
      "\n",
      "\n",
      "Total Classes:  27\n",
      "7\n",
      "aa    833\n",
      "s     598\n",
      "b     592\n",
      "l     590\n",
      "v     408\n",
      "r     251\n",
      "i     203\n",
      "Name: X1, dtype: int64\n",
      "**********\n",
      "\n",
      "\n",
      "Total Classes:  44\n",
      "7\n",
      "as    1659\n",
      "ae     496\n",
      "ai     415\n",
      "m      367\n",
      "ak     265\n",
      "r      153\n",
      "n      137\n",
      "Name: X2, dtype: int64\n",
      "**********\n",
      "\n",
      "\n",
      "Total Classes:  7\n",
      "3\n",
      "c    1942\n",
      "f    1076\n",
      "a     440\n",
      "Name: X3, dtype: int64\n",
      "**********\n",
      "\n",
      "\n",
      "Total Classes:  4\n",
      "1\n",
      "d    4205\n",
      "Name: X4, dtype: int64\n",
      "**********\n",
      "\n",
      "\n",
      "Total Classes:  29\n",
      "17\n",
      "v     231\n",
      "w     231\n",
      "q     220\n",
      "r     215\n",
      "d     214\n",
      "s     214\n",
      "n     212\n",
      "m     208\n",
      "p     208\n",
      "i     207\n",
      "ae    205\n",
      "ag    204\n",
      "ac    200\n",
      "ab    197\n",
      "l     195\n",
      "af    188\n",
      "ad    185\n",
      "Name: X5, dtype: int64\n",
      "**********\n",
      "\n",
      "\n",
      "Total Classes:  12\n",
      "5\n",
      "g    1042\n",
      "j    1039\n",
      "d     625\n",
      "i     488\n",
      "l     478\n",
      "Name: X6, dtype: int64\n",
      "**********\n",
      "\n",
      "\n",
      "Total Classes:  25\n",
      "18\n",
      "j    277\n",
      "s    255\n",
      "f    243\n",
      "n    242\n",
      "i    237\n",
      "e    225\n",
      "r    219\n",
      "a    210\n",
      "w    196\n",
      "v    194\n",
      "b    190\n",
      "k    176\n",
      "o    163\n",
      "m    155\n",
      "g    130\n",
      "t    119\n",
      "u    119\n",
      "h    117\n",
      "Name: X8, dtype: int64\n"
     ]
    }
   ],
   "source": [
    "for i in list(categ_df.columns):\n",
    "    print('*'*10+'\\n\\n')\n",
    "    ser = percentage(mercedes_train,i,0.80)\n",
    "    print('Total Classes: ',mercedes_train[i].nunique())\n",
    "    print(len(ser))\n",
    "    print(ser)"
   ]
  },
  {
   "cell_type": "markdown",
   "metadata": {},
   "source": [
    "## INSPECTING NUMERICAL COLUMNS\n",
    "\n",
    "- **While checking numerical columns, anomalies with mean and standard deviations as zeros were found in several cases as shown below**"
   ]
  },
  {
   "cell_type": "code",
   "execution_count": 236,
   "metadata": {},
   "outputs": [
    {
     "name": "stdout",
     "output_type": "stream",
     "text": [
      "['X11', 'X93', 'X107', 'X233', 'X235', 'X268', 'X289', 'X290', 'X293', 'X297', 'X330', 'X347']\n"
     ]
    },
    {
     "data": {
      "text/html": [
       "<div>\n",
       "<style>\n",
       "    .dataframe thead tr:only-child th {\n",
       "        text-align: right;\n",
       "    }\n",
       "\n",
       "    .dataframe thead th {\n",
       "        text-align: left;\n",
       "    }\n",
       "\n",
       "    .dataframe tbody tr th {\n",
       "        vertical-align: top;\n",
       "    }\n",
       "</style>\n",
       "<table border=\"1\" class=\"dataframe\">\n",
       "  <thead>\n",
       "    <tr style=\"text-align: right;\">\n",
       "      <th></th>\n",
       "      <th>X11</th>\n",
       "      <th>X93</th>\n",
       "      <th>X107</th>\n",
       "      <th>X233</th>\n",
       "      <th>X235</th>\n",
       "      <th>X268</th>\n",
       "      <th>X289</th>\n",
       "      <th>X290</th>\n",
       "      <th>X293</th>\n",
       "      <th>X297</th>\n",
       "      <th>X330</th>\n",
       "      <th>X347</th>\n",
       "    </tr>\n",
       "  </thead>\n",
       "  <tbody>\n",
       "    <tr>\n",
       "      <th>count</th>\n",
       "      <td>4209.0</td>\n",
       "      <td>4209.0</td>\n",
       "      <td>4209.0</td>\n",
       "      <td>4209.0</td>\n",
       "      <td>4209.0</td>\n",
       "      <td>4209.0</td>\n",
       "      <td>4209.0</td>\n",
       "      <td>4209.0</td>\n",
       "      <td>4209.0</td>\n",
       "      <td>4209.0</td>\n",
       "      <td>4209.0</td>\n",
       "      <td>4209.0</td>\n",
       "    </tr>\n",
       "    <tr>\n",
       "      <th>mean</th>\n",
       "      <td>0.0</td>\n",
       "      <td>0.0</td>\n",
       "      <td>0.0</td>\n",
       "      <td>0.0</td>\n",
       "      <td>0.0</td>\n",
       "      <td>0.0</td>\n",
       "      <td>0.0</td>\n",
       "      <td>0.0</td>\n",
       "      <td>0.0</td>\n",
       "      <td>0.0</td>\n",
       "      <td>0.0</td>\n",
       "      <td>0.0</td>\n",
       "    </tr>\n",
       "    <tr>\n",
       "      <th>std</th>\n",
       "      <td>0.0</td>\n",
       "      <td>0.0</td>\n",
       "      <td>0.0</td>\n",
       "      <td>0.0</td>\n",
       "      <td>0.0</td>\n",
       "      <td>0.0</td>\n",
       "      <td>0.0</td>\n",
       "      <td>0.0</td>\n",
       "      <td>0.0</td>\n",
       "      <td>0.0</td>\n",
       "      <td>0.0</td>\n",
       "      <td>0.0</td>\n",
       "    </tr>\n",
       "    <tr>\n",
       "      <th>min</th>\n",
       "      <td>0.0</td>\n",
       "      <td>0.0</td>\n",
       "      <td>0.0</td>\n",
       "      <td>0.0</td>\n",
       "      <td>0.0</td>\n",
       "      <td>0.0</td>\n",
       "      <td>0.0</td>\n",
       "      <td>0.0</td>\n",
       "      <td>0.0</td>\n",
       "      <td>0.0</td>\n",
       "      <td>0.0</td>\n",
       "      <td>0.0</td>\n",
       "    </tr>\n",
       "    <tr>\n",
       "      <th>25%</th>\n",
       "      <td>0.0</td>\n",
       "      <td>0.0</td>\n",
       "      <td>0.0</td>\n",
       "      <td>0.0</td>\n",
       "      <td>0.0</td>\n",
       "      <td>0.0</td>\n",
       "      <td>0.0</td>\n",
       "      <td>0.0</td>\n",
       "      <td>0.0</td>\n",
       "      <td>0.0</td>\n",
       "      <td>0.0</td>\n",
       "      <td>0.0</td>\n",
       "    </tr>\n",
       "    <tr>\n",
       "      <th>50%</th>\n",
       "      <td>0.0</td>\n",
       "      <td>0.0</td>\n",
       "      <td>0.0</td>\n",
       "      <td>0.0</td>\n",
       "      <td>0.0</td>\n",
       "      <td>0.0</td>\n",
       "      <td>0.0</td>\n",
       "      <td>0.0</td>\n",
       "      <td>0.0</td>\n",
       "      <td>0.0</td>\n",
       "      <td>0.0</td>\n",
       "      <td>0.0</td>\n",
       "    </tr>\n",
       "    <tr>\n",
       "      <th>75%</th>\n",
       "      <td>0.0</td>\n",
       "      <td>0.0</td>\n",
       "      <td>0.0</td>\n",
       "      <td>0.0</td>\n",
       "      <td>0.0</td>\n",
       "      <td>0.0</td>\n",
       "      <td>0.0</td>\n",
       "      <td>0.0</td>\n",
       "      <td>0.0</td>\n",
       "      <td>0.0</td>\n",
       "      <td>0.0</td>\n",
       "      <td>0.0</td>\n",
       "    </tr>\n",
       "    <tr>\n",
       "      <th>max</th>\n",
       "      <td>0.0</td>\n",
       "      <td>0.0</td>\n",
       "      <td>0.0</td>\n",
       "      <td>0.0</td>\n",
       "      <td>0.0</td>\n",
       "      <td>0.0</td>\n",
       "      <td>0.0</td>\n",
       "      <td>0.0</td>\n",
       "      <td>0.0</td>\n",
       "      <td>0.0</td>\n",
       "      <td>0.0</td>\n",
       "      <td>0.0</td>\n",
       "    </tr>\n",
       "  </tbody>\n",
       "</table>\n",
       "</div>"
      ],
      "text/plain": [
       "          X11     X93    X107    X233    X235    X268    X289    X290    X293  \\\n",
       "count  4209.0  4209.0  4209.0  4209.0  4209.0  4209.0  4209.0  4209.0  4209.0   \n",
       "mean      0.0     0.0     0.0     0.0     0.0     0.0     0.0     0.0     0.0   \n",
       "std       0.0     0.0     0.0     0.0     0.0     0.0     0.0     0.0     0.0   \n",
       "min       0.0     0.0     0.0     0.0     0.0     0.0     0.0     0.0     0.0   \n",
       "25%       0.0     0.0     0.0     0.0     0.0     0.0     0.0     0.0     0.0   \n",
       "50%       0.0     0.0     0.0     0.0     0.0     0.0     0.0     0.0     0.0   \n",
       "75%       0.0     0.0     0.0     0.0     0.0     0.0     0.0     0.0     0.0   \n",
       "max       0.0     0.0     0.0     0.0     0.0     0.0     0.0     0.0     0.0   \n",
       "\n",
       "         X297    X330    X347  \n",
       "count  4209.0  4209.0  4209.0  \n",
       "mean      0.0     0.0     0.0  \n",
       "std       0.0     0.0     0.0  \n",
       "min       0.0     0.0     0.0  \n",
       "25%       0.0     0.0     0.0  \n",
       "50%       0.0     0.0     0.0  \n",
       "75%       0.0     0.0     0.0  \n",
       "max       0.0     0.0     0.0  "
      ]
     },
     "execution_count": 236,
     "metadata": {},
     "output_type": "execute_result"
    }
   ],
   "source": [
    "### CHECKING FOR ANOMALIES IN NUMERICAL COLUMNS\n",
    "\n",
    "null_cols = numeric_df.describe().loc['mean'][numeric_df.describe().loc['mean']==0].index\n",
    "null_cols = list(null_cols)\n",
    "print(null_cols)\n",
    "mercedes_train[null_cols].describe()   ### all values are found to be zeros."
   ]
  },
  {
   "cell_type": "markdown",
   "metadata": {},
   "source": [
    "## CHECKING FOR MISSING AND DUPLICATE VALUES \n",
    "\n",
    "**It's essential that we deal with the Missing and Duplicate values in Dataset before feeding the data to the model.<br>\n",
    "Else, it will add a lot of unwanted noise and confusion in predicting the values.**"
   ]
  },
  {
   "cell_type": "code",
   "execution_count": 237,
   "metadata": {},
   "outputs": [
    {
     "data": {
      "text/plain": [
       "0"
      ]
     },
     "execution_count": 237,
     "metadata": {},
     "output_type": "execute_result"
    }
   ],
   "source": [
    "null_ser = mercedes_train.drop('y',axis=1).apply(lambda x: sum(x.isnull()))\n",
    "sum(null_ser.isnull()) ## CHECKING FOR MISSING VALUES (NONE FOUND)"
   ]
  },
  {
   "cell_type": "markdown",
   "metadata": {},
   "source": [
    "### CHECKING FOR DUPLICATES\n",
    "\n",
    "**After removing ID and target variable from the dataset, the columns were checked for duplicate values<br>Quite a few of them were noticed inwhich for the same set of values, different testing times were found.<br>This needs to be removed inorder to avoid confusing the model into making incorrect predictions.**"
   ]
  },
  {
   "cell_type": "code",
   "execution_count": 238,
   "metadata": {},
   "outputs": [
    {
     "data": {
      "text/html": [
       "<div>\n",
       "<style>\n",
       "    .dataframe thead tr:only-child th {\n",
       "        text-align: right;\n",
       "    }\n",
       "\n",
       "    .dataframe thead th {\n",
       "        text-align: left;\n",
       "    }\n",
       "\n",
       "    .dataframe tbody tr th {\n",
       "        vertical-align: top;\n",
       "    }\n",
       "</style>\n",
       "<table border=\"1\" class=\"dataframe\">\n",
       "  <thead>\n",
       "    <tr style=\"text-align: right;\">\n",
       "      <th></th>\n",
       "      <th>ID</th>\n",
       "      <th>y</th>\n",
       "      <th>X0</th>\n",
       "      <th>X1</th>\n",
       "      <th>X2</th>\n",
       "      <th>X3</th>\n",
       "      <th>X4</th>\n",
       "      <th>X5</th>\n",
       "      <th>X6</th>\n",
       "      <th>X8</th>\n",
       "      <th>...</th>\n",
       "      <th>X375</th>\n",
       "      <th>X376</th>\n",
       "      <th>X377</th>\n",
       "      <th>X378</th>\n",
       "      <th>X379</th>\n",
       "      <th>X380</th>\n",
       "      <th>X382</th>\n",
       "      <th>X383</th>\n",
       "      <th>X384</th>\n",
       "      <th>X385</th>\n",
       "    </tr>\n",
       "  </thead>\n",
       "  <tbody>\n",
       "    <tr>\n",
       "      <th>4023</th>\n",
       "      <td>8073</td>\n",
       "      <td>82.44</td>\n",
       "      <td>az</td>\n",
       "      <td>v</td>\n",
       "      <td>n</td>\n",
       "      <td>f</td>\n",
       "      <td>d</td>\n",
       "      <td>w</td>\n",
       "      <td>g</td>\n",
       "      <td>f</td>\n",
       "      <td>...</td>\n",
       "      <td>0</td>\n",
       "      <td>0</td>\n",
       "      <td>0</td>\n",
       "      <td>1</td>\n",
       "      <td>0</td>\n",
       "      <td>0</td>\n",
       "      <td>0</td>\n",
       "      <td>0</td>\n",
       "      <td>0</td>\n",
       "      <td>0</td>\n",
       "    </tr>\n",
       "    <tr>\n",
       "      <th>1122</th>\n",
       "      <td>2227</td>\n",
       "      <td>121.03</td>\n",
       "      <td>ap</td>\n",
       "      <td>l</td>\n",
       "      <td>s</td>\n",
       "      <td>c</td>\n",
       "      <td>d</td>\n",
       "      <td>ab</td>\n",
       "      <td>j</td>\n",
       "      <td>n</td>\n",
       "      <td>...</td>\n",
       "      <td>0</td>\n",
       "      <td>0</td>\n",
       "      <td>0</td>\n",
       "      <td>0</td>\n",
       "      <td>0</td>\n",
       "      <td>0</td>\n",
       "      <td>0</td>\n",
       "      <td>0</td>\n",
       "      <td>0</td>\n",
       "      <td>0</td>\n",
       "    </tr>\n",
       "    <tr>\n",
       "      <th>2683</th>\n",
       "      <td>5361</td>\n",
       "      <td>86.61</td>\n",
       "      <td>z</td>\n",
       "      <td>b</td>\n",
       "      <td>m</td>\n",
       "      <td>c</td>\n",
       "      <td>d</td>\n",
       "      <td>m</td>\n",
       "      <td>i</td>\n",
       "      <td>j</td>\n",
       "      <td>...</td>\n",
       "      <td>0</td>\n",
       "      <td>0</td>\n",
       "      <td>1</td>\n",
       "      <td>0</td>\n",
       "      <td>0</td>\n",
       "      <td>0</td>\n",
       "      <td>0</td>\n",
       "      <td>0</td>\n",
       "      <td>0</td>\n",
       "      <td>0</td>\n",
       "    </tr>\n",
       "    <tr>\n",
       "      <th>4133</th>\n",
       "      <td>8259</td>\n",
       "      <td>105.04</td>\n",
       "      <td>j</td>\n",
       "      <td>r</td>\n",
       "      <td>t</td>\n",
       "      <td>d</td>\n",
       "      <td>d</td>\n",
       "      <td>aa</td>\n",
       "      <td>j</td>\n",
       "      <td>h</td>\n",
       "      <td>...</td>\n",
       "      <td>0</td>\n",
       "      <td>1</td>\n",
       "      <td>0</td>\n",
       "      <td>0</td>\n",
       "      <td>0</td>\n",
       "      <td>0</td>\n",
       "      <td>0</td>\n",
       "      <td>0</td>\n",
       "      <td>0</td>\n",
       "      <td>0</td>\n",
       "    </tr>\n",
       "    <tr>\n",
       "      <th>2720</th>\n",
       "      <td>5436</td>\n",
       "      <td>98.84</td>\n",
       "      <td>z</td>\n",
       "      <td>b</td>\n",
       "      <td>m</td>\n",
       "      <td>a</td>\n",
       "      <td>d</td>\n",
       "      <td>m</td>\n",
       "      <td>i</td>\n",
       "      <td>j</td>\n",
       "      <td>...</td>\n",
       "      <td>0</td>\n",
       "      <td>0</td>\n",
       "      <td>1</td>\n",
       "      <td>0</td>\n",
       "      <td>0</td>\n",
       "      <td>0</td>\n",
       "      <td>0</td>\n",
       "      <td>0</td>\n",
       "      <td>0</td>\n",
       "      <td>0</td>\n",
       "    </tr>\n",
       "  </tbody>\n",
       "</table>\n",
       "<p>5 rows × 378 columns</p>\n",
       "</div>"
      ],
      "text/plain": [
       "        ID       y  X0 X1 X2 X3 X4  X5 X6 X8  ...   X375  X376  X377  X378  \\\n",
       "4023  8073   82.44  az  v  n  f  d   w  g  f  ...      0     0     0     1   \n",
       "1122  2227  121.03  ap  l  s  c  d  ab  j  n  ...      0     0     0     0   \n",
       "2683  5361   86.61   z  b  m  c  d   m  i  j  ...      0     0     1     0   \n",
       "4133  8259  105.04   j  r  t  d  d  aa  j  h  ...      0     1     0     0   \n",
       "2720  5436   98.84   z  b  m  a  d   m  i  j  ...      0     0     1     0   \n",
       "\n",
       "      X379  X380  X382  X383  X384  X385  \n",
       "4023     0     0     0     0     0     0  \n",
       "1122     0     0     0     0     0     0  \n",
       "2683     0     0     0     0     0     0  \n",
       "4133     0     0     0     0     0     0  \n",
       "2720     0     0     0     0     0     0  \n",
       "\n",
       "[5 rows x 378 columns]"
      ]
     },
     "execution_count": 238,
     "metadata": {},
     "output_type": "execute_result"
    }
   ],
   "source": [
    "mercedes_train[mercedes_train.drop(['ID','y'],axis=1).duplicated()].sample(5)"
   ]
  },
  {
   "cell_type": "code",
   "execution_count": 239,
   "metadata": {
    "collapsed": true
   },
   "outputs": [],
   "source": [
    "duplicate = set(mercedes_train[mercedes_train.drop(['ID','y'],axis=1).duplicated()].index)\n",
    "remaining = set(mercedes_train.loc[duplicate].drop(['ID','y'],axis=1).drop_duplicates().index)\n",
    "rows_to_drop = duplicate.symmetric_difference(remaining)"
   ]
  },
  {
   "cell_type": "markdown",
   "metadata": {},
   "source": [
    "### CHECKING THE RELATIONSHIP OF ID COLUMN TO TARGET VARIABLE."
   ]
  },
  {
   "cell_type": "code",
   "execution_count": 240,
   "metadata": {},
   "outputs": [
    {
     "name": "stdout",
     "output_type": "stream",
     "text": [
      "          ID         y\n",
      "ID  1.000000 -0.055108\n",
      "y  -0.055108  1.000000\n"
     ]
    },
    {
     "data": {
      "image/png": "[encoded data removed]",
      "text/plain": [
       "<matplotlib.figure.Figure at 0x1319eef0>"
      ]
     },
     "metadata": {},
     "output_type": "display_data"
    }
   ],
   "source": [
    "print(mercedes_train[['ID','y']].corr())  ### FINDING CORRELATION WITH ID AND TARGET VARIABLE WITH A VIEW TO DROPPING ID COLUMN.\n",
    "mercedes_train[['ID','y']].plot(x='ID',y='y',kind='scatter')  ### NONE FOUND. (-0.05). CONFIRMING VIA VISUALIZATION.\n",
    "plt.show()"
   ]
  },
  {
   "cell_type": "markdown",
   "metadata": {},
   "source": [
    "As observed, ID column has got hardly any relation with the target variable and can be safely dropped."
   ]
  },
  {
   "cell_type": "markdown",
   "metadata": {},
   "source": [
    "## FEATURE ENGINEERING - REMOVAL AND ADDITION OF FEATURES"
   ]
  },
  {
   "cell_type": "markdown",
   "metadata": {},
   "source": [
    "- **Inorder to encode the Categorical variables and deal with the class imbalance , dummy_encode function is created.** \n",
    "- **Classes which form 80% of total are considered and the rest of them are grouped together into 'Other' category.**\n",
    "- **This approach has led to a reduction of almost 115 columns in the dataset which helps in dealing with the curse of\n",
    " dimensionality.**"
   ]
  },
  {
   "cell_type": "code",
   "execution_count": 241,
   "metadata": {
    "collapsed": true
   },
   "outputs": [],
   "source": [
    "def dummy_encode(df,cols,imbalance=False,pct=0.80):\n",
    "    if imbalance:\n",
    "        for col in list(cols):\n",
    "            n = df[col].nunique()\n",
    "            for i in range(1,n+1):\n",
    "                if (sum(df[col].value_counts()[:i]))/(df[col].shape[0]) > pct:\n",
    "                    class_lst = list(df[col].value_counts()[:i].index)\n",
    "                    break\n",
    "                else:\n",
    "                    continue\n",
    "            df[col] = df[col].apply(lambda x: 'Other' if x not in class_lst else x)\n",
    "        \n",
    "        cols = df.select_dtypes(exclude=[np.number]).columns\n",
    "    \n",
    "    else:\n",
    "        pass\n",
    "    \n",
    "    for col in list(cols):\n",
    "        dummy = pd.get_dummies(df[col],drop_first=True,prefix=str(col)+'_')\n",
    "        df = pd.concat([df,dummy],axis=1)\n",
    "    return df"
   ]
  },
  {
   "cell_type": "code",
   "execution_count": 242,
   "metadata": {
    "collapsed": true
   },
   "outputs": [],
   "source": [
    "train_df_all = dummy_encode(mercedes_train,categ_df.columns) ###\n",
    "train_df_fe = mercedes_train.copy()\n",
    "train_df_fe = dummy_encode(train_df_fe,categ_df.columns,True)"
   ]
  },
  {
   "cell_type": "code",
   "execution_count": 243,
   "metadata": {},
   "outputs": [
    {
     "data": {
      "text/plain": [
       "115"
      ]
     },
     "execution_count": 243,
     "metadata": {},
     "output_type": "execute_result"
    }
   ],
   "source": [
    "train_df_all.shape[1]-train_df_fe.shape[1] ## Difference in the number of columns after handling class imbalance."
   ]
  },
  {
   "cell_type": "markdown",
   "metadata": {},
   "source": [
    "### After the class imbalance and encoding is taken care of, we'll proceed with cleaning the dataset of unwanted columns,both categorical as well as numerical and extreme outliers which can have a detrimental impact on our predictive model."
   ]
  },
  {
   "cell_type": "code",
   "execution_count": 244,
   "metadata": {
    "collapsed": true
   },
   "outputs": [],
   "source": [
    "train_df_dum_encoded_fe = train_df_fe.select_dtypes(include=[np.number]) # filtering labelled columns\n",
    "train_df_clean  = train_df_dum_encoded_fe.drop('ID',axis=1)       #  Removing ID column from dataset\n",
    "train_df_clean = train_df_clean[train_df_clean.y<170]             #  Removing Extreme Outlier from dataset\n",
    "train_df_clean.drop(rows_to_drop,axis=0,inplace=True)             #  Removing 81 duplicate entries from dataset\n",
    "train_df_clean.drop(null_cols,axis=1,inplace=True)              #  Removing 12 meaningless numerical columns"
   ]
  },
  {
   "cell_type": "code",
   "execution_count": 245,
   "metadata": {},
   "outputs": [
    {
     "data": {
      "text/plain": [
       "(4127, 429)"
      ]
     },
     "execution_count": 245,
     "metadata": {},
     "output_type": "execute_result"
    }
   ],
   "source": [
    "train_df_clean.shape"
   ]
  },
  {
   "cell_type": "code",
   "execution_count": 246,
   "metadata": {
    "collapsed": true
   },
   "outputs": [],
   "source": [
    "# SEPARATING THE DATA INTO DEPENDANT AND INDEPENDANT ARRAYS\n",
    "X = train_df_clean.drop('y',axis=1).values\n",
    "y = train_df_clean.y"
   ]
  },
  {
   "cell_type": "markdown",
   "metadata": {},
   "source": [
    "### Feature Scaling the data"
   ]
  },
  {
   "cell_type": "code",
   "execution_count": 247,
   "metadata": {},
   "outputs": [
    {
     "name": "stderr",
     "output_type": "stream",
     "text": [
      "C:\\ProgramData\\Anaconda3\\lib\\site-packages\\sklearn\\utils\\validation.py:444: DataConversionWarning: Data with input dtype int64 was converted to float64 by StandardScaler.\n",
      "  warnings.warn(msg, DataConversionWarning)\n"
     ]
    }
   ],
   "source": [
    "X_scaled = StandardScaler().fit_transform(X)"
   ]
  },
  {
   "cell_type": "markdown",
   "metadata": {},
   "source": [
    "# Applying PCA\n",
    "\n",
    "**Even with all the removal of columns and rows, we are still left with 429 features which is signficantly high and the model will suffer from the curse of dimensionality. To tackle this, we have used the Principal Component Analysis technique to obtain the best components that could explain a high percentage of variance in the data.**"
   ]
  },
  {
   "cell_type": "code",
   "execution_count": 248,
   "metadata": {},
   "outputs": [
    {
     "data": {
      "text/plain": [
       "<matplotlib.text.Annotation at 0x131e3780>"
      ]
     },
     "execution_count": 248,
     "metadata": {},
     "output_type": "execute_result"
    },
    {
     "data": {
      "image/png": "[encoded data removed]",
      "text/plain": [
       "<matplotlib.figure.Figure at 0x1318b710>"
      ]
     },
     "metadata": {},
     "output_type": "display_data"
    }
   ],
   "source": [
    "pca = PCA().fit(X_scaled)\n",
    "\n",
    "## CUMULATIVE EXPLAINED VARIANCE\n",
    "\n",
    "plt.figure(figsize=(14,6))\n",
    "plt.style.use(\"fivethirtyeight\")\n",
    "plt.plot(np.cumsum(pca.explained_variance_ratio_))\n",
    "plt.xlabel(\"No.of Principal Components\")\n",
    "plt.ylabel(\"Cumsum of Explained Variance Ratio\")\n",
    "plt.title(\"Cumulative Explained Variance\")\n",
    "plt.annotate('80%',xy=(100,.80))"
   ]
  },
  {
   "cell_type": "markdown",
   "metadata": {},
   "source": [
    "- *As shown in the plot above, almost 80% of variance in the model is explained by the first 100 Principal Components which is less than 1/4th of the total.*"
   ]
  },
  {
   "cell_type": "code",
   "execution_count": 249,
   "metadata": {},
   "outputs": [
    {
     "data": {
      "text/plain": [
       "<matplotlib.legend.Legend at 0x21d82f60>"
      ]
     },
     "execution_count": 249,
     "metadata": {},
     "output_type": "execute_result"
    },
    {
     "data": {
      "image/png": "[encoded data removed]",
      "text/plain": [
       "<matplotlib.figure.Figure at 0x13157550>"
      ]
     },
     "metadata": {},
     "output_type": "display_data"
    }
   ],
   "source": [
    "# Individual explained variance\n",
    "plt.figure(figsize=(14, 8))\n",
    "plt.bar(range(428), pca.explained_variance_,label='Individual explained variance',width=2)\n",
    "plt.ylabel('Explained variance')\n",
    "plt.xlabel('Principal components')\n",
    "plt.title(\"Individual Components Contribution to Explaining Variance\")\n",
    "plt.xlim(0,50)\n",
    "plt.legend(loc='best')"
   ]
  },
  {
   "cell_type": "markdown",
   "metadata": {},
   "source": [
    "### BEST NUMBER OF PRINCIPAL COMPONENTS BASED ON EVALUATION METRICS\n",
    "**PCA Check function was created to fit and transform the Scaled X with different values of principal components and evaluating the performance based on training score, test score and RMSE via K Fold Cross Validation.**"
   ]
  },
  {
   "cell_type": "code",
   "execution_count": 250,
   "metadata": {
    "collapsed": true
   },
   "outputs": [],
   "source": [
    "def PCA_check(X,n_components,y,model,cv):\n",
    "    \n",
    "    X_pca = PCA(n_components).fit_transform(X)\n",
    "    regressor = model()\n",
    "    regressor.fit(X_pca,y)\n",
    "    \n",
    "    print(\"\\nMean R2 score\",cross_val_score(regressor,X_pca,y,cv=cv).mean())\n",
    "    print(\"\\nMean R2 variance\",cross_val_score(regressor,X_pca,y,cv=cv).std())\n",
    "    print(\"\\nMean RMSE: \",np.sqrt(abs(cross_val_score(regressor,X_pca,y,cv=cv,\\\n",
    "                                                      scoring='neg_mean_squared_error',n_jobs=-1).mean())))"
   ]
  },
  {
   "cell_type": "markdown",
   "metadata": {},
   "source": [
    "### First, we'll take a look at how Linear Regression Model performs with different number of PCs."
   ]
  },
  {
   "cell_type": "code",
   "execution_count": 251,
   "metadata": {},
   "outputs": [
    {
     "name": "stdout",
     "output_type": "stream",
     "text": [
      "PCA Check for 1 components\n",
      "\n",
      "Mean R2 score -0.00012997548190937235\n",
      "\n",
      "Mean R2 variance 0.0111883622852904\n",
      "\n",
      "Mean RMSE:  12.415640035588153\n",
      "\n",
      "****************************************************************************************************\n",
      "\n",
      "PCA Check for 20 components\n",
      "\n",
      "Mean R2 score 0.41683446369203175\n",
      "\n",
      "Mean R2 variance 0.05036736339725429\n",
      "\n",
      "Mean RMSE:  9.52534893738384\n",
      "\n",
      "****************************************************************************************************\n",
      "\n",
      "PCA Check for 40 components\n",
      "\n",
      "Mean R2 score 0.5184919145233039\n",
      "\n",
      "Mean R2 variance 0.05890876537146937\n",
      "\n",
      "Mean RMSE:  8.665881061128276\n",
      "\n",
      "****************************************************************************************************\n",
      "\n",
      "PCA Check for 45 components\n",
      "\n",
      "Mean R2 score 0.529813226680264\n",
      "\n",
      "Mean R2 variance 0.06923939035113089\n",
      "\n",
      "Mean RMSE:  8.569355960355097\n",
      "\n",
      "****************************************************************************************************\n",
      "\n",
      "PCA Check for 50 components\n",
      "\n",
      "Mean R2 score 0.5383293610469049\n",
      "\n",
      "Mean R2 variance 0.056277087983717146\n",
      "\n",
      "Mean RMSE:  8.484850060625652\n",
      "\n",
      "****************************************************************************************************\n",
      "\n",
      "PCA Check for 60 components\n",
      "\n",
      "Mean R2 score 0.5193875044157759\n",
      "\n",
      "Mean R2 variance 0.04519506766553881\n",
      "\n",
      "Mean RMSE:  8.645911641916936\n",
      "\n",
      "****************************************************************************************************\n",
      "\n",
      "PCA Check for 100 components\n",
      "\n",
      "Mean R2 score 0.50271018012574\n",
      "\n",
      "Mean R2 variance 0.10046430764463812\n",
      "\n",
      "Mean RMSE:  8.749038866715757\n",
      "\n",
      "****************************************************************************************************\n",
      "\n",
      "PCA Check for 200 components\n",
      "\n",
      "Mean R2 score -3.9528863364847076\n",
      "\n",
      "Mean R2 variance 5.129650106213337\n",
      "\n",
      "Mean RMSE:  26.566695875003564\n",
      "\n",
      "****************************************************************************************************\n",
      "\n",
      "PCA Check for 300 components\n",
      "\n",
      "Mean R2 score -22448.339471307052\n",
      "\n",
      "Mean R2 variance 38268.1330927157\n",
      "\n",
      "Mean RMSE:  1883.6923515104718\n",
      "\n",
      "****************************************************************************************************\n",
      "\n",
      "PCA Check for 428 components\n",
      "\n",
      "Mean R2 score -6.853753424020117e+26\n",
      "\n",
      "Mean R2 variance 5.7846597565269514e+26\n",
      "\n",
      "Mean RMSE:  321519666890926.4\n",
      "\n",
      "****************************************************************************************************\n",
      "\n"
     ]
    }
   ],
   "source": [
    "### LINEAR REGRESSION MODEL CHECK \n",
    "for i in [1,20,40,45,50,60,100,200,300,428]:\n",
    "    print(\"PCA Check for {} components\".format(i))\n",
    "    PCA_check(X_scaled,i,y,LinearRegression,10)\n",
    "    print('\\n'+'*'*100+'\\n')"
   ]
  },
  {
   "cell_type": "markdown",
   "metadata": {},
   "source": [
    "**Linear Regressor's Best Model was found to be at around the 50 Principal components mark and the results are**\n",
    "\n",
    "PCA Check for 50 components\n",
    "\n",
    "Mean R2 score 0.5232103315715573\n",
    "\n",
    "Mean R2 variance 0.05272744074187317\n",
    "\n",
    "Mean RMSE:  8.602351240610249"
   ]
  },
  {
   "cell_type": "markdown",
   "metadata": {},
   "source": [
    "### Checking for a Non-linear model in Random Forest as well to get the best results"
   ]
  },
  {
   "cell_type": "code",
   "execution_count": 252,
   "metadata": {
    "scrolled": true
   },
   "outputs": [
    {
     "name": "stdout",
     "output_type": "stream",
     "text": [
      "PCA Check for 1 components\n",
      "\n",
      "Mean R2 score -0.2187599732574176\n",
      "\n",
      "Mean R2 variance 0.0932438091388474\n",
      "\n",
      "Mean RMSE:  13.79101208876872\n",
      "\n",
      "****************************************************************************************************\n",
      "\n",
      "PCA Check for 20 components\n",
      "\n",
      "Mean R2 score 0.4316098837497636\n",
      "\n",
      "Mean R2 variance 0.03421172949038336\n",
      "\n",
      "Mean RMSE:  9.27924188311165\n",
      "\n",
      "****************************************************************************************************\n",
      "\n",
      "PCA Check for 40 components\n",
      "\n",
      "Mean R2 score 0.4537552671450655\n",
      "\n",
      "Mean R2 variance 0.048165710705290986\n",
      "\n",
      "Mean RMSE:  9.149258424659575\n",
      "\n",
      "****************************************************************************************************\n",
      "\n",
      "PCA Check for 45 components\n",
      "\n",
      "Mean R2 score 0.4503614243713784\n",
      "\n",
      "Mean R2 variance 0.043634075610622686\n",
      "\n",
      "Mean RMSE:  9.157400646738344\n",
      "\n",
      "****************************************************************************************************\n",
      "\n",
      "PCA Check for 50 components\n",
      "\n",
      "Mean R2 score 0.4565642386706495\n",
      "\n",
      "Mean R2 variance 0.04139071507537304\n",
      "\n",
      "Mean RMSE:  9.19877301468963\n",
      "\n",
      "****************************************************************************************************\n",
      "\n",
      "PCA Check for 60 components\n",
      "\n",
      "Mean R2 score 0.47022703869404714\n",
      "\n",
      "Mean R2 variance 0.035218346660758966\n",
      "\n",
      "Mean RMSE:  9.016283568606438\n",
      "\n",
      "****************************************************************************************************\n",
      "\n",
      "PCA Check for 100 components\n",
      "\n",
      "Mean R2 score 0.447259061094174\n",
      "\n",
      "Mean R2 variance 0.046117534664219445\n",
      "\n",
      "Mean RMSE:  9.251751704153103\n",
      "\n",
      "****************************************************************************************************\n",
      "\n"
     ]
    }
   ],
   "source": [
    "### Random Forest Regressor Model Check\n",
    "for i in [1,20,40,45,50,60,100]:\n",
    "    print(\"PCA Check for {} components\".format(i))\n",
    "    PCA_check(X_scaled,i,y,RandomForestRegressor,10)\n",
    "    print('\\n'+'*'*100+'\\n')"
   ]
  },
  {
   "cell_type": "markdown",
   "metadata": {},
   "source": [
    "**Taking 10 fold cross validation scores of training set, validaion test set and RMSE into account, **\n",
    "**best choice of components is 50 (both using Linear and Random Forest Regressors) **"
   ]
  },
  {
   "cell_type": "markdown",
   "metadata": {},
   "source": [
    "** RE TRANSFORMING SCALED X WITH 50 PRINCIPAL COMPONENTS**"
   ]
  },
  {
   "cell_type": "code",
   "execution_count": 253,
   "metadata": {
    "collapsed": true
   },
   "outputs": [],
   "source": [
    "X_best_pca_ = PCA(n_components=50).fit_transform(X_scaled)"
   ]
  },
  {
   "cell_type": "markdown",
   "metadata": {},
   "source": [
    "# MODELS - TRAINING AND EVALUATION"
   ]
  },
  {
   "cell_type": "markdown",
   "metadata": {},
   "source": [
    "### Defining GRIDSEARCH Function For Model Evaluation "
   ]
  },
  {
   "cell_type": "code",
   "execution_count": 254,
   "metadata": {
    "collapsed": true
   },
   "outputs": [],
   "source": [
    "def model_evaluate(model,X,y,param_grid,cv=10,output=True):\n",
    "    regressor = model()\n",
    "    grid = GridSearchCV(estimator=regressor,param_grid=param_grid,verbose=4,cv=cv,n_jobs=-1)\n",
    "    grid.fit(X,y)\n",
    "    print(\"Best Parameter Combo: \",grid.best_params_)\n",
    "    print(\"Best Mean Score on Training Set: \",grid.best_score_)\n",
    "    if output:\n",
    "          return grid.best_estimator_"
   ]
  },
  {
   "cell_type": "markdown",
   "metadata": {},
   "source": [
    "## RANDOM FOREST REGRESSOR \n",
    "   ** FINDING THE BEST HYPERPARAMETERS VIA CASCADED GRIDSEARCH **"
   ]
  },
  {
   "cell_type": "markdown",
   "metadata": {},
   "source": [
    "- The model training was extremely time consuming when all the parameters were passed in one go.  \n",
    "- To avoid this bottleneck,the best parameters from each set were fine tuned in the next gridsearch to get the best set of hyperparameter values."
   ]
  },
  {
   "cell_type": "code",
   "execution_count": 255,
   "metadata": {},
   "outputs": [
    {
     "name": "stdout",
     "output_type": "stream",
     "text": [
      "Fitting 10 folds for each of 16 candidates, totalling 160 fits\n"
     ]
    },
    {
     "name": "stderr",
     "output_type": "stream",
     "text": [
      "[Parallel(n_jobs=-1)]: Done  17 tasks      | elapsed:  1.7min\n",
      "[Parallel(n_jobs=-1)]: Done  90 tasks      | elapsed:  8.5min\n",
      "[Parallel(n_jobs=-1)]: Done 160 out of 160 | elapsed: 17.0min finished\n"
     ]
    },
    {
     "name": "stdout",
     "output_type": "stream",
     "text": [
      "Best Parameter Combo:  {'max_depth': 10, 'min_samples_leaf': 10, 'n_estimators': 128, 'min_samples_split': 8}\n",
      "Best Mean Score on Training Set:  0.5269760584349665\n"
     ]
    },
    {
     "data": {
      "text/plain": [
       "RandomForestRegressor(bootstrap=True, criterion='mse', max_depth=10,\n",
       "           max_features='auto', max_leaf_nodes=None,\n",
       "           min_impurity_decrease=0.0, min_impurity_split=None,\n",
       "           min_samples_leaf=10, min_samples_split=8,\n",
       "           min_weight_fraction_leaf=0.0, n_estimators=128, n_jobs=1,\n",
       "           oob_score=False, random_state=None, verbose=0, warm_start=False)"
      ]
     },
     "execution_count": 255,
     "metadata": {},
     "output_type": "execute_result"
    }
   ],
   "source": [
    "rf_param_grid1 = [{'n_estimators': [64,128],'max_depth':[10,15],'min_samples_split':[8,10],'min_samples_leaf':[5,10]}]\n",
    "\n",
    "rf_best_estimator1 = model_evaluate(RandomForestRegressor,X_best_pca_,y,rf_param_grid1)\n",
    "\n",
    "rf_best_estimator1"
   ]
  },
  {
   "cell_type": "code",
   "execution_count": 256,
   "metadata": {},
   "outputs": [
    {
     "name": "stdout",
     "output_type": "stream",
     "text": [
      "Fitting 10 folds for each of 16 candidates, totalling 160 fits\n"
     ]
    },
    {
     "name": "stderr",
     "output_type": "stream",
     "text": [
      "[Parallel(n_jobs=-1)]: Done  17 tasks      | elapsed:  2.0min\n",
      "[Parallel(n_jobs=-1)]: Done  90 tasks      | elapsed:  8.6min\n",
      "[Parallel(n_jobs=-1)]: Done 160 out of 160 | elapsed: 17.1min finished\n"
     ]
    },
    {
     "name": "stdout",
     "output_type": "stream",
     "text": [
      "Best Parameter Combo:  {'max_depth': 10, 'min_samples_leaf': 5, 'n_estimators': 128, 'min_samples_split': 8}\n",
      "Best Mean Score on Training Set:  0.5272166779170712\n"
     ]
    },
    {
     "data": {
      "text/plain": [
       "RandomForestRegressor(bootstrap=True, criterion='mse', max_depth=10,\n",
       "           max_features='auto', max_leaf_nodes=None,\n",
       "           min_impurity_decrease=0.0, min_impurity_split=None,\n",
       "           min_samples_leaf=5, min_samples_split=8,\n",
       "           min_weight_fraction_leaf=0.0, n_estimators=128, n_jobs=1,\n",
       "           oob_score=False, random_state=None, verbose=0, warm_start=False)"
      ]
     },
     "execution_count": 256,
     "metadata": {},
     "output_type": "execute_result"
    }
   ],
   "source": [
    "rf_param_grid2 = [{'n_estimators': [128,256],'max_depth':[5,10],'min_samples_split':[5,8],'min_samples_leaf':[10,15]}]\n",
    "\n",
    "rf_best_estimator2 = model_evaluate(RandomForestRegressor,X_best_pca_,y,rf_param_grid1)\n",
    "\n",
    "rf_best_estimator2"
   ]
  },
  {
   "cell_type": "code",
   "execution_count": 257,
   "metadata": {},
   "outputs": [
    {
     "name": "stdout",
     "output_type": "stream",
     "text": [
      "Fitting 10 folds for each of 3 candidates, totalling 30 fits\n"
     ]
    },
    {
     "name": "stderr",
     "output_type": "stream",
     "text": [
      "[Parallel(n_jobs=-1)]: Done  17 tasks      | elapsed:  2.9min\n",
      "[Parallel(n_jobs=-1)]: Done  30 out of  30 | elapsed:  7.7min finished\n"
     ]
    },
    {
     "name": "stdout",
     "output_type": "stream",
     "text": [
      "Best Parameter Combo:  {'max_depth': 10, 'min_samples_leaf': 10, 'n_estimators': 512, 'min_samples_split': 8}\n",
      "Best Mean Score on Training Set:  0.5259823384151685\n"
     ]
    },
    {
     "data": {
      "text/plain": [
       "RandomForestRegressor(bootstrap=True, criterion='mse', max_depth=10,\n",
       "           max_features='auto', max_leaf_nodes=None,\n",
       "           min_impurity_decrease=0.0, min_impurity_split=None,\n",
       "           min_samples_leaf=10, min_samples_split=8,\n",
       "           min_weight_fraction_leaf=0.0, n_estimators=512, n_jobs=1,\n",
       "           oob_score=False, random_state=None, verbose=0, warm_start=False)"
      ]
     },
     "execution_count": 257,
     "metadata": {},
     "output_type": "execute_result"
    }
   ],
   "source": [
    "rf_param_grid3 = [{'n_estimators': [128],'max_depth':[10],'min_samples_split':[8,10],'min_samples_leaf':[5]}]\n",
    "\n",
    "rf_best_estimator3 = model_evaluate(RandomForestRegressor,X_best_pca_,y,rf_param_grid3)\n",
    "\n",
    "rf_best_estimator3"
   ]
  },
  {
   "cell_type": "markdown",
   "metadata": {
    "collapsed": true
   },
   "source": [
    "## SUPPORT VECTOR REGRESSOR"
   ]
  },
  {
   "cell_type": "code",
   "execution_count": 258,
   "metadata": {},
   "outputs": [
    {
     "name": "stdout",
     "output_type": "stream",
     "text": [
      "Fitting 10 folds for each of 18 candidates, totalling 180 fits\n"
     ]
    },
    {
     "name": "stderr",
     "output_type": "stream",
     "text": [
      "[Parallel(n_jobs=-1)]: Done  17 tasks      | elapsed:   33.5s\n",
      "[Parallel(n_jobs=-1)]: Done  90 tasks      | elapsed:  2.8min\n",
      "[Parallel(n_jobs=-1)]: Done 180 out of 180 | elapsed:  6.5min finished\n"
     ]
    },
    {
     "name": "stdout",
     "output_type": "stream",
     "text": [
      "Best Parameter Combo:  {'C': 10, 'gamma': 0.001, 'kernel': 'rbf'}\n",
      "Best Mean Score on Training Set:  0.5357602691983416\n"
     ]
    },
    {
     "data": {
      "text/plain": [
       "SVR(C=10, cache_size=200, coef0=0.0, degree=3, epsilon=0.1, gamma=0.001,\n",
       "  kernel='rbf', max_iter=-1, shrinking=True, tol=0.001, verbose=False)"
      ]
     },
     "execution_count": 258,
     "metadata": {},
     "output_type": "execute_result"
    }
   ],
   "source": [
    "svr_param_grid1 = [\n",
    "    {\n",
    "        'C': [1,10,100], 'kernel': ['rbf','poly','sigmoid'],'gamma':[0.01,0.001]\n",
    "    }\n",
    "]\n",
    "\n",
    "svm_best_estimator1 = model_evaluate(SVR,X_best_pca_,y,svr_param_grid1,cv=10)\n",
    "\n",
    "svm_best_estimator1"
   ]
  },
  {
   "cell_type": "code",
   "execution_count": 259,
   "metadata": {},
   "outputs": [
    {
     "name": "stdout",
     "output_type": "stream",
     "text": [
      "Fitting 10 folds for each of 2 candidates, totalling 20 fits\n"
     ]
    },
    {
     "name": "stderr",
     "output_type": "stream",
     "text": [
      "[Parallel(n_jobs=-1)]: Done  20 out of  20 | elapsed:   41.3s finished\n"
     ]
    },
    {
     "name": "stdout",
     "output_type": "stream",
     "text": [
      "Best Parameter Combo:  {'C': 10, 'gamma': 0.001, 'kernel': 'rbf'}\n",
      "Best Mean Score on Training Set:  0.5357602691983416\n"
     ]
    },
    {
     "data": {
      "text/plain": [
       "SVR(C=10, cache_size=200, coef0=0.0, degree=3, epsilon=0.1, gamma=0.001,\n",
       "  kernel='rbf', max_iter=-1, shrinking=True, tol=0.001, verbose=False)"
      ]
     },
     "execution_count": 259,
     "metadata": {},
     "output_type": "execute_result"
    }
   ],
   "source": [
    "svr_param_grid2 = [\n",
    "    {\n",
    "        'C': [10], 'kernel': ['rbf'],'gamma':[0.001,0.0001]\n",
    "    }\n",
    "]\n",
    "\n",
    "svm_best_estimator2 = model_evaluate(SVR,X_best_pca_,y,svr_param_grid2,cv=10)\n",
    "\n",
    "svm_best_estimator2"
   ]
  },
  {
   "cell_type": "markdown",
   "metadata": {},
   "source": [
    "## KNN REGRESSOR"
   ]
  },
  {
   "cell_type": "code",
   "execution_count": 260,
   "metadata": {},
   "outputs": [
    {
     "name": "stdout",
     "output_type": "stream",
     "text": [
      "Fitting 10 folds for each of 72 candidates, totalling 720 fits\n"
     ]
    },
    {
     "name": "stderr",
     "output_type": "stream",
     "text": [
      "[Parallel(n_jobs=-1)]: Done  17 tasks      | elapsed:   16.2s\n",
      "[Parallel(n_jobs=-1)]: Done  90 tasks      | elapsed:  1.2min\n",
      "[Parallel(n_jobs=-1)]: Done 213 tasks      | elapsed:  3.2min\n",
      "[Parallel(n_jobs=-1)]: Done 384 tasks      | elapsed:  5.8min\n",
      "[Parallel(n_jobs=-1)]: Done 605 tasks      | elapsed:  8.4min\n"
     ]
    },
    {
     "name": "stdout",
     "output_type": "stream",
     "text": [
      "Best Parameter Combo:  {'n_neighbors': 11, 'weights': 'distance', 'algorithm': 'brute', 'metric': 'manhattan'}\n",
      "Best Mean Score on Training Set:  0.4831642561578705\n"
     ]
    },
    {
     "name": "stderr",
     "output_type": "stream",
     "text": [
      "[Parallel(n_jobs=-1)]: Done 720 out of 720 | elapsed:  9.2min finished\n"
     ]
    },
    {
     "data": {
      "text/plain": [
       "KNeighborsRegressor(algorithm='brute', leaf_size=30, metric='manhattan',\n",
       "          metric_params=None, n_jobs=1, n_neighbors=11, p=2,\n",
       "          weights='distance')"
      ]
     },
     "execution_count": 260,
     "metadata": {},
     "output_type": "execute_result"
    }
   ],
   "source": [
    "knn_param_grid1 = {'n_neighbors':[3,7,11],'weights':['uniform','distance'],\\\n",
    "              'algorithm':['auto', 'ball_tree', 'kd_tree', 'brute'],'metric':['euclidean','minkowski','manhattan']}\n",
    "\n",
    "knn_best_estimator1 = model_evaluate(KNeighborsRegressor,X_best_pca_,y,knn_param_grid1,cv=10)\n",
    "\n",
    "knn_best_estimator1"
   ]
  },
  {
   "cell_type": "code",
   "execution_count": 261,
   "metadata": {},
   "outputs": [
    {
     "name": "stdout",
     "output_type": "stream",
     "text": [
      "Fitting 10 folds for each of 8 candidates, totalling 80 fits\n"
     ]
    },
    {
     "name": "stderr",
     "output_type": "stream",
     "text": [
      "[Parallel(n_jobs=-1)]: Done  17 tasks      | elapsed:   24.4s\n",
      "[Parallel(n_jobs=-1)]: Done  80 out of  80 | elapsed:  1.5min finished\n"
     ]
    },
    {
     "name": "stdout",
     "output_type": "stream",
     "text": [
      "Best Parameter Combo:  {'n_neighbors': 19, 'weights': 'distance', 'algorithm': 'auto', 'metric': 'euclidean'}\n",
      "Best Mean Score on Training Set:  0.4853379742842174\n"
     ]
    },
    {
     "data": {
      "text/plain": [
       "KNeighborsRegressor(algorithm='auto', leaf_size=30, metric='euclidean',\n",
       "          metric_params=None, n_jobs=1, n_neighbors=19, p=2,\n",
       "          weights='distance')"
      ]
     },
     "execution_count": 261,
     "metadata": {},
     "output_type": "execute_result"
    }
   ],
   "source": [
    "knn_param_grid2 = {'n_neighbors':[9,11,15,19,23,27,31,35],'weights':['distance'],\\\n",
    "              'algorithm':['auto'],'metric':['euclidean']}\n",
    "\n",
    "knn_best_estimator2 = model_evaluate(KNeighborsRegressor,X_best_pca_,y,knn_param_grid2,cv=10)\n",
    "\n",
    "knn_best_estimator2"
   ]
  },
  {
   "cell_type": "markdown",
   "metadata": {},
   "source": [
    "### DECISION TREE REGRESSOR"
   ]
  },
  {
   "cell_type": "code",
   "execution_count": 263,
   "metadata": {},
   "outputs": [
    {
     "name": "stdout",
     "output_type": "stream",
     "text": [
      "Fitting 10 folds for each of 216 candidates, totalling 2160 fits\n"
     ]
    },
    {
     "name": "stderr",
     "output_type": "stream",
     "text": [
      "[Parallel(n_jobs=-1)]: Done  17 tasks      | elapsed:    8.5s\n",
      "[Parallel(n_jobs=-1)]: Done 355 tasks      | elapsed:   12.7s\n",
      "[Parallel(n_jobs=-1)]: Done 855 tasks      | elapsed:  2.1min\n",
      "[Parallel(n_jobs=-1)]: Done 1033 tasks      | elapsed:  6.3min\n",
      "[Parallel(n_jobs=-1)]: Done 1254 tasks      | elapsed: 12.4min\n",
      "[Parallel(n_jobs=-1)]: Done 1647 tasks      | elapsed: 16.4min\n",
      "[Parallel(n_jobs=-1)]: Done 2160 out of 2160 | elapsed: 16.6min finished\n"
     ]
    },
    {
     "name": "stdout",
     "output_type": "stream",
     "text": [
      "Best Parameter Combo:  {'criterion': 'mse', 'max_features': 'auto', 'min_samples_leaf': 9, 'splitter': 'best', 'max_depth': 5}\n",
      "Best Mean Score on Training Set:  0.41685498847746416\n"
     ]
    },
    {
     "data": {
      "text/plain": [
       "DecisionTreeRegressor(criterion='mse', max_depth=5, max_features='auto',\n",
       "           max_leaf_nodes=None, min_impurity_decrease=0.0,\n",
       "           min_impurity_split=None, min_samples_leaf=9,\n",
       "           min_samples_split=2, min_weight_fraction_leaf=0.0,\n",
       "           presort=False, random_state=None, splitter='best')"
      ]
     },
     "execution_count": 263,
     "metadata": {},
     "output_type": "execute_result"
    }
   ],
   "source": [
    "dt_param_grid1 = {'max_depth':[2,5,8],'min_samples_leaf':[5,7,9],'max_features':['auto','sqrt','log2',None],\\\n",
    "                 'criterion':['mse','mae','friedman_mse'],'splitter':['best','random']}\n",
    "\n",
    "dt_best_model1 = model_evaluate(DecisionTreeRegressor,X_best_pca_,y,dt_param_grid1,cv=10)\n",
    "\n",
    "dt_best_model1"
   ]
  },
  {
   "cell_type": "code",
   "execution_count": 264,
   "metadata": {},
   "outputs": [
    {
     "name": "stdout",
     "output_type": "stream",
     "text": [
      "Fitting 10 folds for each of 32 candidates, totalling 320 fits\n"
     ]
    },
    {
     "name": "stderr",
     "output_type": "stream",
     "text": [
      "[Parallel(n_jobs=-1)]: Done  17 tasks      | elapsed:  1.7min\n",
      "[Parallel(n_jobs=-1)]: Done  90 tasks      | elapsed:  8.4min\n",
      "[Parallel(n_jobs=-1)]: Done 213 tasks      | elapsed: 15.0min\n",
      "[Parallel(n_jobs=-1)]: Done 320 out of 320 | elapsed: 15.3min finished\n"
     ]
    },
    {
     "name": "stdout",
     "output_type": "stream",
     "text": [
      "Best Parameter Combo:  {'criterion': 'mse', 'max_features': None, 'min_samples_leaf': 15, 'splitter': 'best', 'max_depth': 8}\n",
      "Best Mean Score on Training Set:  0.4184508154493024\n"
     ]
    },
    {
     "data": {
      "text/plain": [
       "DecisionTreeRegressor(criterion='mse', max_depth=8, max_features=None,\n",
       "           max_leaf_nodes=None, min_impurity_decrease=0.0,\n",
       "           min_impurity_split=None, min_samples_leaf=15,\n",
       "           min_samples_split=2, min_weight_fraction_leaf=0.0,\n",
       "           presort=False, random_state=None, splitter='best')"
      ]
     },
     "execution_count": 264,
     "metadata": {},
     "output_type": "execute_result"
    }
   ],
   "source": [
    "dt_param_grid2 = {'max_depth':[8,10,12,15],'min_samples_leaf':[9,11,13,15],'max_features':[None],\\\n",
    "                 'criterion':['mae','mse'],'splitter':['best']}\n",
    "\n",
    "dt_best_model2 = model_evaluate(DecisionTreeRegressor,X_best_pca_,y,dt_param_grid2,cv=10)\n",
    "\n",
    "dt_best_model2"
   ]
  },
  {
   "cell_type": "markdown",
   "metadata": {},
   "source": [
    "# BEST OF ALL MODELS\n",
    "\n",
    "- Once the best parameters are picked from each individual model, we can check the performance of the best of each model and compare the results."
   ]
  },
  {
   "cell_type": "code",
   "execution_count": 265,
   "metadata": {
    "collapsed": true
   },
   "outputs": [],
   "source": [
    "def best_model(names,models,X,y,scoring=None):\n",
    "    \n",
    "    scores = dict()\n",
    "    \n",
    "    for name,model in zip(names,models):\n",
    "\n",
    "        scores[name] = cross_val_score(model,X,y,cv=10,n_jobs=-1,scoring=scoring).mean()\n",
    "        \n",
    "    return sorted(scores.items(),key=lambda x:x[1])"
   ]
  },
  {
   "cell_type": "code",
   "execution_count": 266,
   "metadata": {},
   "outputs": [],
   "source": [
    "names = ['Random Forest','KNN','SVM','Decision Tree','Linear Regression']\n",
    "models = [rf_best_estimator1,knn_best_estimator2,svm_best_estimator2,dt_best_model2,LinearRegression()]\n",
    "\n",
    "r2_scores1 = best_model(names,models,X_best_pca_,y)\n",
    "rmse_scores1 = best_model(names,models,X_best_pca_,y,scoring='neg_mean_squared_error')"
   ]
  },
  {
   "cell_type": "code",
   "execution_count": 267,
   "metadata": {
    "scrolled": true
   },
   "outputs": [
    {
     "data": {
      "text/html": [
       "<div>\n",
       "<style>\n",
       "    .dataframe thead tr:only-child th {\n",
       "        text-align: right;\n",
       "    }\n",
       "\n",
       "    .dataframe thead th {\n",
       "        text-align: left;\n",
       "    }\n",
       "\n",
       "    .dataframe tbody tr th {\n",
       "        vertical-align: top;\n",
       "    }\n",
       "</style>\n",
       "<table border=\"1\" class=\"dataframe\">\n",
       "  <thead>\n",
       "    <tr style=\"text-align: right;\">\n",
       "      <th></th>\n",
       "      <th>Model</th>\n",
       "      <th>R2 Score</th>\n",
       "      <th>RMSE</th>\n",
       "    </tr>\n",
       "  </thead>\n",
       "  <tbody>\n",
       "    <tr>\n",
       "      <th>1</th>\n",
       "      <td>Decision Tree</td>\n",
       "      <td>0.418369</td>\n",
       "      <td>9.498045</td>\n",
       "    </tr>\n",
       "    <tr>\n",
       "      <th>2</th>\n",
       "      <td>KNN</td>\n",
       "      <td>0.485368</td>\n",
       "      <td>8.957261</td>\n",
       "    </tr>\n",
       "    <tr>\n",
       "      <th>3</th>\n",
       "      <td>Random Forest</td>\n",
       "      <td>0.526560</td>\n",
       "      <td>8.607764</td>\n",
       "    </tr>\n",
       "    <tr>\n",
       "      <th>4</th>\n",
       "      <td>SVM</td>\n",
       "      <td>0.535810</td>\n",
       "      <td>8.531629</td>\n",
       "    </tr>\n",
       "    <tr>\n",
       "      <th>5</th>\n",
       "      <td>Linear Regression</td>\n",
       "      <td>0.540798</td>\n",
       "      <td>8.464116</td>\n",
       "    </tr>\n",
       "  </tbody>\n",
       "</table>\n",
       "</div>"
      ],
      "text/plain": [
       "               Model  R2 Score      RMSE\n",
       "1      Decision Tree  0.418369  9.498045\n",
       "2                KNN  0.485368  8.957261\n",
       "3      Random Forest  0.526560  8.607764\n",
       "4                SVM  0.535810  8.531629\n",
       "5  Linear Regression  0.540798  8.464116"
      ]
     },
     "execution_count": 267,
     "metadata": {},
     "output_type": "execute_result"
    }
   ],
   "source": [
    "r2_df = pd.DataFrame(r2_scores1,columns=['Model','R2 Score'],index=range(1,6))\n",
    "rmse_df = pd.DataFrame(list(zip([i for i,v in rmse_scores1],[np.sqrt(abs(v)) for i,v in rmse_scores1])),columns=['Model','RMSE'],index=range(1,6))\n",
    "final_df = r2_df.merge(rmse_df,on=['Model'],left_index=True)\n",
    "final_df"
   ]
  },
  {
   "cell_type": "markdown",
   "metadata": {},
   "source": [
    "#### In terms of Goodness of Fit or R2 value, SVM and Linear Regression came out on top, Linear Regression  performing surprisingly well after the PCA was done."
   ]
  },
  {
   "cell_type": "markdown",
   "metadata": {},
   "source": [
    "## USING AUTOMATIC BACKWARD ELIMINATION FOR FEATURE SELECTION\n",
    "\n",
    "- **Based on weighted combination of p values and adjusted r2 score**\n",
    "\n",
    "\n",
    "- ** Once the best results of PCA transformed data was obtained, another technique was tried out to pick the best features from dataset based on the p value and Adjusted R2 value of the features. This combination was used as part of the Backward Elimination technique.**<br>\n",
    "\n",
    "\n",
    "- ** A function was defined to Automate the Backward Elimination technique. The intuition behind this approach was to first check for p values of all the features in the dataset and removing the one with the highest P value until it was lower than the level of significance set (0.05 chosen). However, on top of the P value approach, the Adjusted R2 value was checked both before and after the removal of the feature and compared. If the Adjusted R2 value after removal dropped by more than 3% than before, then the process was stopped and the list of columns with the highest significance returned. This approach led to decreasing the features to just 43 which could best explain the target variable variations.** <br>\n",
    "\n",
    "\n",
    "- ** For this, StatsModels library was imported and and the statsmodels.formula.api fitted on the X and y variables.**<br>\n",
    "\n",
    "\n",
    "- ** X value was appended with an array of ones to compensate for the Constant as unlike Algos this was not taken care of by the Statsmodels library.**"
   ]
  },
  {
   "cell_type": "code",
   "execution_count": 269,
   "metadata": {
    "collapsed": true
   },
   "outputs": [],
   "source": [
    "    def BackwardElimination(X,y,SL,weight=0):\n",
    "\n",
    "        X1 = X.values        \n",
    "        X1 = np.append(arr=np.ones((X1.shape[0],1)),values=X1,axis=1)\n",
    "        y1 = y.values\n",
    "        lst = list(X.columns)\n",
    "        num_cols = len(X1[0])\n",
    "        \n",
    "        for i in range(0,num_cols):\n",
    "            \n",
    "            regressor_OLS = sm.OLS(y1,X1).fit()\n",
    "            max_p = max(regressor_OLS.pvalues.astype(float))\n",
    "            adj_R = regressor_OLS.rsquared_adj.astype(float)\n",
    "            \n",
    "            if max_p > SL :\n",
    "                \n",
    "                lst1 = lst.copy()               \n",
    "                lst1.pop(np.argmax(regressor_OLS.pvalues)-1)\n",
    "                X2 = np.delete(X1,np.argmax(regressor_OLS.pvalues),1)\n",
    "                temp_regressor = sm.OLS(y1,X2).fit()\n",
    "                adj_R_new = temp_regressor.rsquared_adj.astype(float)\n",
    "\n",
    "                if adj_R_new < adj_R - weight :\n",
    "                    \n",
    "                    print(regressor_OLS.summary())\n",
    "                    return lst\n",
    "                \n",
    "                else:\n",
    "                    \n",
    "                    X1 = X2    \n",
    "                    lst = lst1\n",
    "        \n",
    "        print(regressor_OLS.summary())\n",
    "        return lst\n",
    "    \n",
    "copy1 = train_df_clean.copy()\n",
    "X = copy1.drop('y',axis=1)\n",
    "y = copy1['y']"
   ]
  },
  {
   "cell_type": "code",
   "execution_count": 270,
   "metadata": {
    "scrolled": true
   },
   "outputs": [
    {
     "name": "stdout",
     "output_type": "stream",
     "text": [
      "                            OLS Regression Results                            \n",
      "==============================================================================\n",
      "Dep. Variable:                      y   R-squared:                       0.620\n",
      "Model:                            OLS   Adj. R-squared:                  0.616\n",
      "Method:                 Least Squares   F-statistic:                     154.9\n",
      "Date:                Thu, 05 Apr 2018   Prob (F-statistic):               0.00\n",
      "Time:                        15:21:58   Log-Likelihood:                -14270.\n",
      "No. Observations:                4127   AIC:                         2.863e+04\n",
      "Df Residuals:                    4083   BIC:                         2.891e+04\n",
      "Df Model:                          43                                         \n",
      "Covariance Type:            nonrobust                                         \n",
      "==============================================================================\n",
      "                 coef    std err          t      P>|t|      [0.025      0.975]\n",
      "------------------------------------------------------------------------------\n",
      "const        124.4819      5.903     21.088      0.000     112.909     136.055\n",
      "x1            25.8135      7.829      3.297      0.001      10.465      41.162\n",
      "x2             7.8270      1.094      7.156      0.000       5.683       9.971\n",
      "x3            21.1292      7.771      2.719      0.007       5.894      36.365\n",
      "x4            -2.6243      1.004     -2.614      0.009      -4.593      -0.656\n",
      "x5           -28.4888      7.886     -3.613      0.000     -43.949     -13.028\n",
      "x6             7.4035      2.742      2.700      0.007       2.027      12.780\n",
      "x7            -1.2564      0.344     -3.652      0.000      -1.931      -0.582\n",
      "x8           -47.9384      7.995     -5.996      0.000     -63.613     -32.264\n",
      "x9            -1.5942      0.737     -2.162      0.031      -3.040      -0.149\n",
      "x10           -0.8541      0.309     -2.766      0.006      -1.459      -0.249\n",
      "x11          -21.1477      5.597     -3.778      0.000     -32.121     -10.174\n",
      "x12          -20.1946      5.859     -3.447      0.001     -31.681      -8.708\n",
      "x13            1.5296      0.512      2.990      0.003       0.527       2.533\n",
      "x14           41.3025      7.986      5.172      0.000      25.646      56.959\n",
      "x15           31.1203      8.009      3.886      0.000      15.419      46.821\n",
      "x16          -27.1717      9.557     -2.843      0.004     -45.909      -8.434\n",
      "x17           -5.1191      1.559     -3.284      0.001      -8.175      -2.063\n",
      "x18            9.0615      2.593      3.494      0.000       3.977      14.146\n",
      "x19           28.4239      7.764      3.661      0.000      13.202      43.646\n",
      "x20           21.0113      5.590      3.759      0.000      10.053      31.970\n",
      "x21           -6.1378      1.388     -4.421      0.000      -8.859      -3.416\n",
      "x22           11.0955      0.371     29.915      0.000      10.368      11.823\n",
      "x23            4.0865      1.569      2.604      0.009       1.010       7.163\n",
      "x24           -2.6059      1.289     -2.021      0.043      -5.134      -0.078\n",
      "x25           19.1804      0.820     23.394      0.000      17.573      20.788\n",
      "x26            1.1914      0.461      2.585      0.010       0.288       2.095\n",
      "x27           38.0859     10.998      3.463      0.001      16.524      59.648\n",
      "x28          -20.0186      5.794     -3.455      0.001     -31.377      -8.660\n",
      "x29            0.9541      0.378      2.526      0.012       0.214       1.694\n",
      "x30           10.6960      2.962      3.611      0.000       4.889      16.503\n",
      "x31            7.4197      0.561     13.219      0.000       6.319       8.520\n",
      "x32            7.4876      0.723     10.363      0.000       6.071       8.904\n",
      "x33            7.8301      0.706     11.087      0.000       6.446       9.215\n",
      "x34            7.4146      0.603     12.292      0.000       6.232       8.597\n",
      "x35            0.9917      0.480      2.064      0.039       0.050       1.934\n",
      "x36            0.6366      0.300      2.120      0.034       0.048       1.225\n",
      "x37            1.5486      0.429      3.606      0.000       0.707       2.391\n",
      "x38            1.4877      0.557      2.669      0.008       0.395       2.581\n",
      "x39            1.9195      0.559      3.437      0.001       0.824       3.015\n",
      "x40           -1.4302      0.549     -2.604      0.009      -2.507      -0.353\n",
      "x41           -2.5090      0.534     -4.699      0.000      -3.556      -1.462\n",
      "x42            0.7905      0.298      2.650      0.008       0.206       1.375\n",
      "x43            0.8470      0.304      2.784      0.005       0.251       1.443\n",
      "==============================================================================\n",
      "Omnibus:                     2378.852   Durbin-Watson:                   1.991\n",
      "Prob(Omnibus):                  0.000   Jarque-Bera (JB):            23883.517\n",
      "Skew:                           2.608   Prob(JB):                         0.00\n",
      "Kurtosis:                      13.568   Cond. No.                         336.\n",
      "==============================================================================\n",
      "\n",
      "Warnings:\n",
      "[1] Standard Errors assume that the covariance matrix of the errors is correctly specified.\n"
     ]
    }
   ],
   "source": [
    "lst = BackwardElimination(X,y,SL=0.05,weight=0.03)"
   ]
  },
  {
   "cell_type": "code",
   "execution_count": 271,
   "metadata": {},
   "outputs": [
    {
     "name": "stdout",
     "output_type": "stream",
     "text": [
      "43\n",
      "['X15', 'X47', 'X54', 'X75', 'X90', 'X104', 'X115', 'X128', 'X148', 'X163', 'X178', 'X179', 'X181', 'X189', 'X204', 'X210', 'X238', 'X240', 'X249', 'X250', 'X255', 'X261', 'X264', 'X292', 'X315', 'X327', 'X339', 'X348', 'X375', 'X383', 'X0__ak', 'X0__j', 'X0__w', 'X0__x', 'X0__z', 'X3__c', 'X3__f', 'X5__m', 'X5__n', 'X5__r', 'X5__w', 'X6__g', 'X6__j']\n"
     ]
    }
   ],
   "source": [
    "print(len(lst))\n",
    "print(lst)"
   ]
  },
  {
   "cell_type": "markdown",
   "metadata": {},
   "source": [
    "*__Automatic Backward Elimination function returned the list of the most significant features in the dataset. Now we will chose these features and drop the rest.__*"
   ]
  },
  {
   "cell_type": "code",
   "execution_count": 272,
   "metadata": {},
   "outputs": [],
   "source": [
    "X1 = X[lst]\n",
    "X1_scaled = StandardScaler().fit_transform(X1)"
   ]
  },
  {
   "cell_type": "markdown",
   "metadata": {
    "collapsed": true
   },
   "source": [
    "### Linear Regression produced abnormal values as before without PCA."
   ]
  },
  {
   "cell_type": "code",
   "execution_count": 273,
   "metadata": {},
   "outputs": [
    {
     "name": "stdout",
     "output_type": "stream",
     "text": [
      "Linear Regression Score Without Scaling -2.8102853779776383e+20\n",
      "Linear Regression Score After Scaling -2.3515080089808024e+21\n"
     ]
    }
   ],
   "source": [
    "lin_reg_scores1 = cross_val_score(LinearRegression(),X1,y,n_jobs=-1,cv=10)\n",
    "print(\"Linear Regression Score Without Scaling\",lin_reg_scores1.mean()) ### without scaling\n",
    "lin_reg_scores2 = cross_val_score(LinearRegression(),X1_scaled,y,n_jobs=-1,cv=10)\n",
    "print(\"Linear Regression Score After Scaling\",lin_reg_scores2.mean()) ### without scaling"
   ]
  },
  {
   "cell_type": "markdown",
   "metadata": {},
   "source": [
    "# KNN REGRESSOR"
   ]
  },
  {
   "cell_type": "code",
   "execution_count": 274,
   "metadata": {},
   "outputs": [
    {
     "name": "stdout",
     "output_type": "stream",
     "text": [
      "Fitting 10 folds for each of 48 candidates, totalling 480 fits\n"
     ]
    },
    {
     "name": "stderr",
     "output_type": "stream",
     "text": [
      "[Parallel(n_jobs=-1)]: Done  17 tasks      | elapsed:   16.7s\n",
      "[Parallel(n_jobs=-1)]: Done  90 tasks      | elapsed:  1.0min\n",
      "[Parallel(n_jobs=-1)]: Done 213 tasks      | elapsed:  2.3min\n",
      "[Parallel(n_jobs=-1)]: Done 384 tasks      | elapsed:  4.2min\n",
      "[Parallel(n_jobs=-1)]: Done 480 out of 480 | elapsed:  5.3min finished\n"
     ]
    },
    {
     "name": "stdout",
     "output_type": "stream",
     "text": [
      "Best Parameter Combo:  {'n_neighbors': 35, 'weights': 'uniform', 'algorithm': 'ball_tree', 'metric': 'euclidean'}\n",
      "Best Mean Score on Training Set:  0.5579439857253883\n"
     ]
    },
    {
     "data": {
      "text/plain": [
       "KNeighborsRegressor(algorithm='ball_tree', leaf_size=30, metric='euclidean',\n",
       "          metric_params=None, n_jobs=1, n_neighbors=35, p=2,\n",
       "          weights='uniform')"
      ]
     },
     "execution_count": 274,
     "metadata": {},
     "output_type": "execute_result"
    }
   ],
   "source": [
    "knn_param_grid_abe1 = {'n_neighbors':[5,15,25,35],'weights':['uniform','distance'],\\\n",
    "              'algorithm':['auto', 'ball_tree', 'kd_tree'],'metric':['euclidean','manhattan']}\n",
    "\n",
    "knn_best_estimator_abe1 = model_evaluate(KNeighborsRegressor,X1_scaled,y,knn_param_grid_abe1,cv=10)\n",
    "\n",
    "knn_best_estimator_abe1"
   ]
  },
  {
   "cell_type": "code",
   "execution_count": 275,
   "metadata": {},
   "outputs": [
    {
     "name": "stdout",
     "output_type": "stream",
     "text": [
      "Fitting 10 folds for each of 7 candidates, totalling 70 fits\n"
     ]
    },
    {
     "name": "stderr",
     "output_type": "stream",
     "text": [
      "[Parallel(n_jobs=-1)]: Done  17 tasks      | elapsed:   19.6s\n",
      "[Parallel(n_jobs=-1)]: Done  70 out of  70 | elapsed:   56.7s finished\n"
     ]
    },
    {
     "name": "stdout",
     "output_type": "stream",
     "text": [
      "Best Parameter Combo:  {'n_neighbors': 43, 'weights': 'uniform', 'algorithm': 'ball_tree', 'metric': 'euclidean'}\n",
      "Best Mean Score on Training Set:  0.5591767499691511\n"
     ]
    },
    {
     "data": {
      "text/plain": [
       "KNeighborsRegressor(algorithm='ball_tree', leaf_size=30, metric='euclidean',\n",
       "          metric_params=None, n_jobs=1, n_neighbors=43, p=2,\n",
       "          weights='uniform')"
      ]
     },
     "execution_count": 275,
     "metadata": {},
     "output_type": "execute_result"
    }
   ],
   "source": [
    "knn_param_grid_abe2 = {'n_neighbors':[35,37,39,41,43,45,47],'weights':['uniform'],\\\n",
    "              'algorithm':['ball_tree'],'metric':['euclidean']}\n",
    "\n",
    "knn_best_estimator_abe2 = model_evaluate(KNeighborsRegressor,X1_scaled,y,knn_param_grid_abe2,cv=10)\n",
    "\n",
    "knn_best_estimator_abe2"
   ]
  },
  {
   "cell_type": "markdown",
   "metadata": {},
   "source": [
    "# DECISION TREE REGRESSOR"
   ]
  },
  {
   "cell_type": "code",
   "execution_count": 276,
   "metadata": {},
   "outputs": [
    {
     "name": "stdout",
     "output_type": "stream",
     "text": [
      "Fitting 10 folds for each of 216 candidates, totalling 2160 fits\n"
     ]
    },
    {
     "name": "stderr",
     "output_type": "stream",
     "text": [
      "[Parallel(n_jobs=-1)]: Done  17 tasks      | elapsed:   10.1s\n",
      "[Parallel(n_jobs=-1)]: Done 420 tasks      | elapsed:   13.5s\n",
      "[Parallel(n_jobs=-1)]: Done 886 tasks      | elapsed:  1.2min\n",
      "[Parallel(n_jobs=-1)]: Done 1057 tasks      | elapsed:  2.8min\n",
      "[Parallel(n_jobs=-1)]: Done 1278 tasks      | elapsed:  5.8min\n",
      "[Parallel(n_jobs=-1)]: Done 1745 tasks      | elapsed:  8.1min\n"
     ]
    },
    {
     "name": "stdout",
     "output_type": "stream",
     "text": [
      "Best Parameter Combo:  {'criterion': 'friedman_mse', 'max_features': 'auto', 'min_samples_leaf': 3, 'splitter': 'best', 'max_depth': 5}\n",
      "Best Mean Score on Training Set:  0.5716684281836512\n"
     ]
    },
    {
     "name": "stderr",
     "output_type": "stream",
     "text": [
      "[Parallel(n_jobs=-1)]: Done 2160 out of 2160 | elapsed:  8.1min finished\n"
     ]
    },
    {
     "data": {
      "text/plain": [
       "DecisionTreeRegressor(criterion='friedman_mse', max_depth=5,\n",
       "           max_features='auto', max_leaf_nodes=None,\n",
       "           min_impurity_decrease=0.0, min_impurity_split=None,\n",
       "           min_samples_leaf=3, min_samples_split=2,\n",
       "           min_weight_fraction_leaf=0.0, presort=False, random_state=None,\n",
       "           splitter='best')"
      ]
     },
     "execution_count": 276,
     "metadata": {},
     "output_type": "execute_result"
    }
   ],
   "source": [
    "dt_param_grid_abe1 = {'max_depth':[2,5,8,10],'min_samples_leaf':[3,5,7],'max_features':['auto','log2',None],\\\n",
    "                 'criterion':['mse','mae','friedman_mse'],'splitter':['best','random']}\n",
    "\n",
    "dt_best_model_abe1 = model_evaluate(DecisionTreeRegressor,X1_scaled,y,dt_param_grid_abe1,cv=10)\n",
    "\n",
    "dt_best_model_abe1"
   ]
  },
  {
   "cell_type": "code",
   "execution_count": 277,
   "metadata": {},
   "outputs": [
    {
     "name": "stdout",
     "output_type": "stream",
     "text": [
      "Fitting 10 folds for each of 80 candidates, totalling 800 fits\n"
     ]
    },
    {
     "name": "stderr",
     "output_type": "stream",
     "text": [
      "[Parallel(n_jobs=-1)]: Done  17 tasks      | elapsed:    6.2s\n",
      "[Parallel(n_jobs=-1)]: Done 333 tasks      | elapsed:    9.2s\n",
      "[Parallel(n_jobs=-1)]: Done 800 out of 800 | elapsed:   13.4s finished\n"
     ]
    },
    {
     "name": "stdout",
     "output_type": "stream",
     "text": [
      "Best Parameter Combo:  {'criterion': 'mse', 'max_features': 'auto', 'min_samples_leaf': 2, 'splitter': 'best', 'max_depth': 5}\n",
      "Best Mean Score on Training Set:  0.5729688941961867\n"
     ]
    },
    {
     "data": {
      "text/plain": [
       "DecisionTreeRegressor(criterion='mse', max_depth=5, max_features='auto',\n",
       "           max_leaf_nodes=None, min_impurity_decrease=0.0,\n",
       "           min_impurity_split=None, min_samples_leaf=2,\n",
       "           min_samples_split=2, min_weight_fraction_leaf=0.0,\n",
       "           presort=False, random_state=None, splitter='best')"
      ]
     },
     "execution_count": 277,
     "metadata": {},
     "output_type": "execute_result"
    }
   ],
   "source": [
    "dt_param_grid_abe2 = {'max_depth':[3,4,5,6,7],'min_samples_leaf':[1,2,3,4],'max_features':['auto',None],\\\n",
    "                 'criterion':['mse','friedman_mse'],'splitter':['best']}\n",
    "\n",
    "dt_best_model_abe2 = model_evaluate(DecisionTreeRegressor,X1_scaled,y,dt_param_grid_abe2,cv=10)\n",
    "\n",
    "dt_best_model_abe2"
   ]
  },
  {
   "cell_type": "markdown",
   "metadata": {},
   "source": [
    "# RANDOM FOREST REGRESSOR"
   ]
  },
  {
   "cell_type": "code",
   "execution_count": 278,
   "metadata": {},
   "outputs": [
    {
     "name": "stdout",
     "output_type": "stream",
     "text": [
      "Fitting 10 folds for each of 81 candidates, totalling 810 fits\n"
     ]
    },
    {
     "name": "stderr",
     "output_type": "stream",
     "text": [
      "[Parallel(n_jobs=-1)]: Done  17 tasks      | elapsed:   17.1s\n",
      "[Parallel(n_jobs=-1)]: Done  90 tasks      | elapsed:   49.5s\n",
      "[Parallel(n_jobs=-1)]: Done 213 tasks      | elapsed:  1.7min\n",
      "[Parallel(n_jobs=-1)]: Done 384 tasks      | elapsed:  3.3min\n",
      "[Parallel(n_jobs=-1)]: Done 605 tasks      | elapsed:  5.7min\n",
      "[Parallel(n_jobs=-1)]: Done 810 out of 810 | elapsed:  8.1min finished\n"
     ]
    },
    {
     "name": "stdout",
     "output_type": "stream",
     "text": [
      "Best Parameter Combo:  {'max_depth': 10, 'min_samples_leaf': 2, 'n_estimators': 64, 'min_samples_split': 16}\n",
      "Best Mean Score on Training Set:  0.5838508085501704\n"
     ]
    },
    {
     "data": {
      "text/plain": [
       "RandomForestRegressor(bootstrap=True, criterion='mse', max_depth=10,\n",
       "           max_features='auto', max_leaf_nodes=None,\n",
       "           min_impurity_decrease=0.0, min_impurity_split=None,\n",
       "           min_samples_leaf=2, min_samples_split=16,\n",
       "           min_weight_fraction_leaf=0.0, n_estimators=64, n_jobs=1,\n",
       "           oob_score=False, random_state=None, verbose=0, warm_start=False)"
      ]
     },
     "execution_count": 278,
     "metadata": {},
     "output_type": "execute_result"
    }
   ],
   "source": [
    "rf_param_grid_abe1 = [{'n_estimators': [64,128,256],'max_depth':[5,8,10],'min_samples_split':[12,14,16],\\\n",
    "                   'min_samples_leaf':[2,5,8]}]\n",
    "\n",
    "rf_best_estimator_abe1 = model_evaluate(RandomForestRegressor,X1_scaled,y,rf_param_grid_abe1,cv=10)\n",
    "\n",
    "rf_best_estimator_abe1"
   ]
  },
  {
   "cell_type": "code",
   "execution_count": 279,
   "metadata": {},
   "outputs": [
    {
     "name": "stdout",
     "output_type": "stream",
     "text": [
      "Fitting 10 folds for each of 24 candidates, totalling 240 fits\n"
     ]
    },
    {
     "name": "stderr",
     "output_type": "stream",
     "text": [
      "[Parallel(n_jobs=-1)]: Done  17 tasks      | elapsed:   10.1s\n",
      "[Parallel(n_jobs=-1)]: Done  90 tasks      | elapsed:   35.5s\n",
      "[Parallel(n_jobs=-1)]: Done 213 tasks      | elapsed:  1.3min\n",
      "[Parallel(n_jobs=-1)]: Done 240 out of 240 | elapsed:  1.5min finished\n"
     ]
    },
    {
     "name": "stdout",
     "output_type": "stream",
     "text": [
      "Best Parameter Combo:  {'max_depth': 8, 'min_samples_leaf': 7, 'n_estimators': 64, 'min_samples_split': 12}\n",
      "Best Mean Score on Training Set:  0.5831779416333828\n"
     ]
    },
    {
     "data": {
      "text/plain": [
       "RandomForestRegressor(bootstrap=True, criterion='mse', max_depth=8,\n",
       "           max_features='auto', max_leaf_nodes=None,\n",
       "           min_impurity_decrease=0.0, min_impurity_split=None,\n",
       "           min_samples_leaf=7, min_samples_split=12,\n",
       "           min_weight_fraction_leaf=0.0, n_estimators=64, n_jobs=1,\n",
       "           oob_score=False, random_state=None, verbose=0, warm_start=False)"
      ]
     },
     "execution_count": 279,
     "metadata": {},
     "output_type": "execute_result"
    }
   ],
   "source": [
    "rf_param_grid_abe2 = [{'n_estimators': [32,64,128],'max_depth':[8],'min_samples_split':[10,12],\\\n",
    "                   'min_samples_leaf':[6,7,8,9]}]\n",
    "\n",
    "rf_best_estimator_abe2 = model_evaluate(RandomForestRegressor,X1_scaled,y,rf_param_grid_abe2,cv=10)\n",
    "\n",
    "rf_best_estimator_abe2"
   ]
  },
  {
   "cell_type": "code",
   "execution_count": 280,
   "metadata": {},
   "outputs": [
    {
     "name": "stdout",
     "output_type": "stream",
     "text": [
      "Fitting 10 folds for each of 2 candidates, totalling 20 fits\n"
     ]
    },
    {
     "name": "stderr",
     "output_type": "stream",
     "text": [
      "[Parallel(n_jobs=-1)]: Done  20 out of  20 | elapsed:   12.5s finished\n"
     ]
    },
    {
     "name": "stdout",
     "output_type": "stream",
     "text": [
      "Best Parameter Combo:  {'max_depth': 8, 'min_samples_leaf': 6, 'n_estimators': 64, 'min_samples_split': 8}\n",
      "Best Mean Score on Training Set:  0.5827599558927896\n"
     ]
    },
    {
     "data": {
      "text/plain": [
       "RandomForestRegressor(bootstrap=True, criterion='mse', max_depth=8,\n",
       "           max_features='auto', max_leaf_nodes=None,\n",
       "           min_impurity_decrease=0.0, min_impurity_split=None,\n",
       "           min_samples_leaf=6, min_samples_split=8,\n",
       "           min_weight_fraction_leaf=0.0, n_estimators=64, n_jobs=1,\n",
       "           oob_score=False, random_state=None, verbose=0, warm_start=False)"
      ]
     },
     "execution_count": 280,
     "metadata": {},
     "output_type": "execute_result"
    }
   ],
   "source": [
    "rf_param_grid_abe3 = [{'n_estimators': [64],'max_depth':[8],'min_samples_split':[8,10],\\\n",
    "                   'min_samples_leaf':[6]}]\n",
    "\n",
    "rf_best_estimator_abe3 = model_evaluate(RandomForestRegressor,X1_scaled,y,rf_param_grid_abe3,cv=10)\n",
    "\n",
    "rf_best_estimator_abe3"
   ]
  },
  {
   "cell_type": "markdown",
   "metadata": {
    "collapsed": true
   },
   "source": [
    "# SUPPORT VECTOR REGRESSOR"
   ]
  },
  {
   "cell_type": "code",
   "execution_count": 281,
   "metadata": {},
   "outputs": [
    {
     "name": "stdout",
     "output_type": "stream",
     "text": [
      "Fitting 10 folds for each of 18 candidates, totalling 180 fits\n"
     ]
    },
    {
     "name": "stderr",
     "output_type": "stream",
     "text": [
      "[Parallel(n_jobs=-1)]: Done  17 tasks      | elapsed:   32.6s\n",
      "[Parallel(n_jobs=-1)]: Done  90 tasks      | elapsed:  2.5min\n",
      "[Parallel(n_jobs=-1)]: Done 180 out of 180 | elapsed:  4.9min finished\n"
     ]
    },
    {
     "name": "stdout",
     "output_type": "stream",
     "text": [
      "Best Parameter Combo:  {'C': 100, 'gamma': 0.001, 'kernel': 'rbf'}\n",
      "Best Mean Score on Training Set:  0.5715199016984716\n"
     ]
    },
    {
     "data": {
      "text/plain": [
       "SVR(C=100, cache_size=200, coef0=0.0, degree=3, epsilon=0.1, gamma=0.001,\n",
       "  kernel='rbf', max_iter=-1, shrinking=True, tol=0.001, verbose=False)"
      ]
     },
     "execution_count": 281,
     "metadata": {},
     "output_type": "execute_result"
    }
   ],
   "source": [
    "svr_param_grid_abe1 = [\n",
    "    {\n",
    "        'C': [1,10,100], 'kernel': ['rbf','poly','sigmoid'],'gamma':[0.01,0.001]\n",
    "    }\n",
    "]\n",
    "\n",
    "svm_best_estimator_abe1 = model_evaluate(SVR,X1_scaled,y,svr_param_grid_abe1,cv=10)\n",
    "\n",
    "svm_best_estimator_abe1"
   ]
  },
  {
   "cell_type": "code",
   "execution_count": 282,
   "metadata": {},
   "outputs": [
    {
     "name": "stdout",
     "output_type": "stream",
     "text": [
      "Fitting 10 folds for each of 8 candidates, totalling 80 fits\n"
     ]
    },
    {
     "name": "stderr",
     "output_type": "stream",
     "text": [
      "[Parallel(n_jobs=-1)]: Done  17 tasks      | elapsed:   42.7s\n",
      "[Parallel(n_jobs=-1)]: Done  80 out of  80 | elapsed:  2.4min finished\n"
     ]
    },
    {
     "name": "stdout",
     "output_type": "stream",
     "text": [
      "Best Parameter Combo:  {'C': 200, 'gamma': 0.001, 'kernel': 'rbf'}\n",
      "Best Mean Score on Training Set:  0.5716925203376825\n"
     ]
    },
    {
     "data": {
      "text/plain": [
       "SVR(C=200, cache_size=200, coef0=0.0, degree=3, epsilon=0.1, gamma=0.001,\n",
       "  kernel='rbf', max_iter=-1, shrinking=True, tol=0.001, verbose=False)"
      ]
     },
     "execution_count": 282,
     "metadata": {},
     "output_type": "execute_result"
    }
   ],
   "source": [
    "svr_param_grid_abe2 = [\n",
    "    {\n",
    "        'C': [50,100,200,500], 'kernel': ['rbf'],'gamma':[0.001,0.0001]\n",
    "    }\n",
    "]\n",
    "\n",
    "svm_best_estimator_abe2 = model_evaluate(SVR,X1_scaled,y,svr_param_grid_abe2,cv=10)\n",
    "\n",
    "svm_best_estimator_abe2"
   ]
  },
  {
   "cell_type": "code",
   "execution_count": 283,
   "metadata": {},
   "outputs": [
    {
     "name": "stdout",
     "output_type": "stream",
     "text": [
      "Fitting 10 folds for each of 5 candidates, totalling 50 fits\n"
     ]
    },
    {
     "name": "stderr",
     "output_type": "stream",
     "text": [
      "[Parallel(n_jobs=-1)]: Done  17 tasks      | elapsed:   40.4s\n",
      "[Parallel(n_jobs=-1)]: Done  50 out of  50 | elapsed:  1.5min finished\n"
     ]
    },
    {
     "name": "stdout",
     "output_type": "stream",
     "text": [
      "Best Parameter Combo:  {'C': 200, 'gamma': 0.0005, 'kernel': 'rbf'}\n",
      "Best Mean Score on Training Set:  0.5719673201236359\n"
     ]
    },
    {
     "data": {
      "text/plain": [
       "SVR(C=200, cache_size=200, coef0=0.0, degree=3, epsilon=0.1, gamma=0.0005,\n",
       "  kernel='rbf', max_iter=-1, shrinking=True, tol=0.001, verbose=False)"
      ]
     },
     "execution_count": 283,
     "metadata": {},
     "output_type": "execute_result"
    }
   ],
   "source": [
    "svr_param_grid_abe3 = [\n",
    "    {\n",
    "        'C': [200], 'kernel': ['rbf'],'gamma':[0.01,0.005,0.001,0.0001,0.0005]\n",
    "    }\n",
    "]\n",
    "\n",
    "svm_best_estimator_abe3 = model_evaluate(SVR,X1_scaled,y,svr_param_grid_abe3,cv=10)\n",
    "\n",
    "svm_best_estimator_abe3"
   ]
  },
  {
   "cell_type": "markdown",
   "metadata": {},
   "source": [
    "# BEST MODELS"
   ]
  },
  {
   "cell_type": "code",
   "execution_count": 284,
   "metadata": {
    "collapsed": true
   },
   "outputs": [],
   "source": [
    "names = ['Random Forest','KNN','SVM','Decision Tree','Linear Regression']\n",
    "models = [rf_best_estimator_abe2,knn_best_estimator_abe2,svm_best_estimator_abe3,dt_best_model_abe2,LinearRegression()]\n",
    "\n",
    "r2_scores_abe = best_model(names,models,X1_scaled,y)\n",
    "rmse_scores_abe = best_model(names,models,X1_scaled,y,scoring='neg_mean_squared_error')"
   ]
  },
  {
   "cell_type": "code",
   "execution_count": 285,
   "metadata": {},
   "outputs": [
    {
     "data": {
      "text/html": [
       "<div>\n",
       "<style>\n",
       "    .dataframe thead tr:only-child th {\n",
       "        text-align: right;\n",
       "    }\n",
       "\n",
       "    .dataframe thead th {\n",
       "        text-align: left;\n",
       "    }\n",
       "\n",
       "    .dataframe tbody tr th {\n",
       "        vertical-align: top;\n",
       "    }\n",
       "</style>\n",
       "<table border=\"1\" class=\"dataframe\">\n",
       "  <thead>\n",
       "    <tr style=\"text-align: right;\">\n",
       "      <th></th>\n",
       "      <th>Model</th>\n",
       "      <th>R2 Score</th>\n",
       "      <th>RMSE</th>\n",
       "    </tr>\n",
       "  </thead>\n",
       "  <tbody>\n",
       "    <tr>\n",
       "      <th>1</th>\n",
       "      <td>Linear Regression</td>\n",
       "      <td>-3.290863e+21</td>\n",
       "      <td>6.861856e+11</td>\n",
       "    </tr>\n",
       "    <tr>\n",
       "      <th>2</th>\n",
       "      <td>KNN</td>\n",
       "      <td>5.592117e-01</td>\n",
       "      <td>8.307875e+00</td>\n",
       "    </tr>\n",
       "    <tr>\n",
       "      <th>3</th>\n",
       "      <td>SVM</td>\n",
       "      <td>5.720211e-01</td>\n",
       "      <td>8.200383e+00</td>\n",
       "    </tr>\n",
       "    <tr>\n",
       "      <th>4</th>\n",
       "      <td>Decision Tree</td>\n",
       "      <td>5.729063e-01</td>\n",
       "      <td>8.180872e+00</td>\n",
       "    </tr>\n",
       "    <tr>\n",
       "      <th>5</th>\n",
       "      <td>Random Forest</td>\n",
       "      <td>5.817378e-01</td>\n",
       "      <td>8.105168e+00</td>\n",
       "    </tr>\n",
       "  </tbody>\n",
       "</table>\n",
       "</div>"
      ],
      "text/plain": [
       "               Model      R2 Score          RMSE\n",
       "1  Linear Regression -3.290863e+21  6.861856e+11\n",
       "2                KNN  5.592117e-01  8.307875e+00\n",
       "3                SVM  5.720211e-01  8.200383e+00\n",
       "4      Decision Tree  5.729063e-01  8.180872e+00\n",
       "5      Random Forest  5.817378e-01  8.105168e+00"
      ]
     },
     "execution_count": 285,
     "metadata": {},
     "output_type": "execute_result"
    }
   ],
   "source": [
    "r2_df_abe = pd.DataFrame(r2_scores_abe,columns=['Model','R2 Score'],index=range(1,6))\n",
    "rmse_df_abe = pd.DataFrame(list(zip([i for i,v in rmse_scores_abe],[np.sqrt(abs(v)) for i,v in rmse_scores_abe])),columns=['Model','RMSE'],index=range(1,6))\n",
    "final_df_abe = r2_df_abe.merge(rmse_df_abe,on=['Model'],left_index=True)\n",
    "final_df_abe"
   ]
  },
  {
   "cell_type": "markdown",
   "metadata": {},
   "source": [
    "## There was a marked improvement (almost 5%) in the results of most of the models from the previous attempt except for the Linear Regression without PCA."
   ]
  },
  {
   "cell_type": "markdown",
   "metadata": {},
   "source": [
    "# PCA TRANSFORMATION AND RESULTS\n",
    "\n",
    "- We'll check if doing PCA again on these extracted features would help improve results."
   ]
  },
  {
   "cell_type": "code",
   "execution_count": null,
   "metadata": {},
   "outputs": [],
   "source": [
    "pca_2 = PCA().fit(X1_scaled)\n",
    "\n",
    "## CUMULATIVE EXPLAINED VARIANCE\n",
    "\n",
    "plt.figure(figsize=(14,6))\n",
    "plt.style.use(\"fivethirtyeight\")\n",
    "plt.plot(np.cumsum(pca_2.explained_variance_ratio_))\n",
    "plt.xlabel(\"No.of Principal Components\")\n",
    "plt.ylabel(\"Cumsum of Explained Variance Ratio\")\n",
    "plt.title(\"Cumulative Explained Variance\")\n",
    "plt.annotate('80%',xy=(100,.80))"
   ]
  },
  {
   "cell_type": "markdown",
   "metadata": {},
   "source": [
    "Around 22 components could explain 80% of variance in the data as shown above"
   ]
  },
  {
   "cell_type": "code",
   "execution_count": null,
   "metadata": {},
   "outputs": [],
   "source": [
    "# Individual explained variance\n",
    "plt.figure(figsize=(14, 8))\n",
    "plt.bar(range(43), pca_2.explained_variance_,label='Individual explained variance',width=2)\n",
    "plt.ylabel('Explained variance')\n",
    "plt.xlabel('Principal components')\n",
    "plt.title(\"Individual Components Contribution to Explaining Variance\")\n",
    "plt.xlim(0,50)\n",
    "plt.legend(loc='best')"
   ]
  },
  {
   "cell_type": "markdown",
   "metadata": {},
   "source": [
    "### CHOSING THE BEST PCA.\n",
    "\n",
    "- The best number of components was found to be 10 for both Linear and Random Forest Models."
   ]
  },
  {
   "cell_type": "code",
   "execution_count": 314,
   "metadata": {
    "scrolled": true
   },
   "outputs": [
    {
     "name": "stdout",
     "output_type": "stream",
     "text": [
      "PCA Check for 1 components\n",
      "\n",
      "Mean R2 score 0.028112966958795303\n",
      "\n",
      "Mean R2 variance 0.014371879569627507\n",
      "\n",
      "Mean RMSE:  12.242776558449469\n",
      "\n",
      "****************************************************************************************************\n",
      "\n",
      "PCA Check for 10 components\n",
      "\n",
      "Mean R2 score 0.4778201282986643\n",
      "\n",
      "Mean R2 variance 0.050427352800002545\n",
      "\n",
      "Mean RMSE:  9.016036234668277\n",
      "\n",
      "****************************************************************************************************\n",
      "\n",
      "PCA Check for 15 components\n",
      "\n",
      "Mean R2 score 0.4562913962444397\n",
      "\n",
      "Mean R2 variance 0.05735763069575786\n",
      "\n",
      "Mean RMSE:  9.188091519969596\n",
      "\n",
      "****************************************************************************************************\n",
      "\n",
      "PCA Check for 20 components\n",
      "\n",
      "Mean R2 score 0.4517026861546173\n",
      "\n",
      "Mean R2 variance 0.0727315922429268\n",
      "\n",
      "Mean RMSE:  9.244693169482437\n",
      "\n",
      "****************************************************************************************************\n",
      "\n",
      "PCA Check for 25 components\n",
      "\n",
      "Mean R2 score -7.279240618938827\n",
      "\n",
      "Mean R2 variance 19.63517996084198\n",
      "\n",
      "Mean RMSE:  38.59322664563631\n",
      "\n",
      "****************************************************************************************************\n",
      "\n",
      "PCA Check for 30 components\n",
      "\n",
      "Mean R2 score -82.08323349607564\n",
      "\n",
      "Mean R2 variance 150.06282883477226\n",
      "\n",
      "Mean RMSE:  118.78347371494502\n",
      "\n",
      "****************************************************************************************************\n",
      "\n",
      "PCA Check for 40 components\n",
      "\n",
      "Mean R2 score -3501390.0433739275\n",
      "\n",
      "Mean R2 variance 8962992.757454267\n",
      "\n",
      "Mean RMSE:  24002.946696404964\n",
      "\n",
      "****************************************************************************************************\n",
      "\n",
      "PCA Check for 43 components\n",
      "\n",
      "Mean R2 score -1.227125100274809e+26\n",
      "\n",
      "Mean R2 variance 3.134437516317257e+26\n",
      "\n",
      "Mean RMSE:  140177822805836.66\n",
      "\n",
      "****************************************************************************************************\n",
      "\n"
     ]
    }
   ],
   "source": [
    "### LINEAR REGRESSION MODEL CHECK \n",
    "for i in [1,10,15,20,25,30,40,43]:\n",
    "    print(\"PCA Check for {} components\".format(i))\n",
    "    PCA_check(X1_scaled,i,y,LinearRegression,10)\n",
    "    print('\\n'+'*'*100+'\\n')"
   ]
  },
  {
   "cell_type": "code",
   "execution_count": 315,
   "metadata": {
    "scrolled": true
   },
   "outputs": [
    {
     "name": "stdout",
     "output_type": "stream",
     "text": [
      "PCA Check for 1 components\n",
      "\n",
      "Mean R2 score 0.28851384148110704\n",
      "\n",
      "Mean R2 variance 0.17750572199767847\n",
      "\n",
      "Mean RMSE:  10.406995971637558\n",
      "\n",
      "****************************************************************************************************\n",
      "\n",
      "PCA Check for 10 components\n",
      "\n",
      "Mean R2 score 0.5045284716604709\n",
      "\n",
      "Mean R2 variance 0.04760191806714269\n",
      "\n",
      "Mean RMSE:  8.735719150363382\n",
      "\n",
      "****************************************************************************************************\n",
      "\n",
      "PCA Check for 20 components\n",
      "\n",
      "Mean R2 score 0.4296859267406769\n",
      "\n",
      "Mean R2 variance 0.14258138384583374\n",
      "\n",
      "Mean RMSE:  9.271021808993758\n",
      "\n",
      "****************************************************************************************************\n",
      "\n",
      "PCA Check for 30 components\n",
      "\n",
      "Mean R2 score 0.48071023207495056\n",
      "\n",
      "Mean R2 variance 0.0481127015309537\n",
      "\n",
      "Mean RMSE:  9.14557668274716\n",
      "\n",
      "****************************************************************************************************\n",
      "\n",
      "PCA Check for 40 components\n",
      "\n",
      "Mean R2 score 0.4904048812659757\n",
      "\n",
      "Mean R2 variance 0.09779820006864537\n",
      "\n",
      "Mean RMSE:  8.94076829334217\n",
      "\n",
      "****************************************************************************************************\n",
      "\n",
      "PCA Check for 43 components\n",
      "\n",
      "Mean R2 score 0.49396110094938467\n",
      "\n",
      "Mean R2 variance 0.09226172530352253\n",
      "\n",
      "Mean RMSE:  8.85388934827385\n",
      "\n",
      "****************************************************************************************************\n",
      "\n"
     ]
    }
   ],
   "source": [
    "### RANDOM FOREST REGRESSION MODEL CHECK \n",
    "for i in [1,10,20,30,40,43]:\n",
    "    print(\"PCA Check for {} components\".format(i))\n",
    "    PCA_check(X1_scaled,i,y,RandomForestRegressor,10)\n",
    "    print('\\n'+'*'*100+'\\n')"
   ]
  },
  {
   "cell_type": "code",
   "execution_count": 316,
   "metadata": {
    "scrolled": true
   },
   "outputs": [
    {
     "name": "stdout",
     "output_type": "stream",
     "text": [
      "PCA Check for 5 components\n",
      "\n",
      "Mean R2 score 0.4697950053288502\n",
      "\n",
      "Mean R2 variance 0.05943605319758529\n",
      "\n",
      "Mean RMSE:  9.003117318767826\n",
      "\n",
      "****************************************************************************************************\n",
      "\n",
      "PCA Check for 8 components\n",
      "\n",
      "Mean R2 score 0.5185037566352623\n",
      "\n",
      "Mean R2 variance 0.060741791730453264\n",
      "\n",
      "Mean RMSE:  8.808356401647675\n",
      "\n",
      "****************************************************************************************************\n",
      "\n",
      "PCA Check for 10 components\n",
      "\n",
      "Mean R2 score 0.49660694667380445\n",
      "\n",
      "Mean R2 variance 0.05689820346196865\n",
      "\n",
      "Mean RMSE:  8.892023897177046\n",
      "\n",
      "****************************************************************************************************\n",
      "\n",
      "PCA Check for 13 components\n",
      "\n",
      "Mean R2 score 0.45894478454038745\n",
      "\n",
      "Mean R2 variance 0.06391222710305666\n",
      "\n",
      "Mean RMSE:  8.934173363274192\n",
      "\n",
      "****************************************************************************************************\n",
      "\n",
      "PCA Check for 16 components\n",
      "\n",
      "Mean R2 score 0.4790886165871422\n",
      "\n",
      "Mean R2 variance 0.043047804991829676\n",
      "\n",
      "Mean RMSE:  8.874847448056737\n",
      "\n",
      "****************************************************************************************************\n",
      "\n",
      "PCA Check for 18 components\n",
      "\n",
      "Mean R2 score 0.42094201163963\n",
      "\n",
      "Mean R2 variance 0.09537032377746713\n",
      "\n",
      "Mean RMSE:  9.513207422736471\n",
      "\n",
      "****************************************************************************************************\n",
      "\n",
      "PCA Check for 20 components\n",
      "\n",
      "Mean R2 score 0.44915823758407225\n",
      "\n",
      "Mean R2 variance 0.0596146383466521\n",
      "\n",
      "Mean RMSE:  9.298249493113103\n",
      "\n",
      "****************************************************************************************************\n",
      "\n"
     ]
    }
   ],
   "source": [
    "### RANDOM FOREST REGRESSION MODEL CHECK \n",
    "for i in [5,8,10,13,16,18,20]:\n",
    "    print(\"PCA Check for {} components\".format(i))\n",
    "    PCA_check(X1_scaled,i,y,RandomForestRegressor,10)\n",
    "    print('\\n'+'*'*100+'\\n')"
   ]
  },
  {
   "cell_type": "markdown",
   "metadata": {},
   "source": [
    "### THE PRINCIPAL COMPONENT NUMBER WITH THE BEST RESULTS IS 10 FOR BOTH LINEAR AND RF. "
   ]
  },
  {
   "cell_type": "code",
   "execution_count": 317,
   "metadata": {
    "collapsed": true
   },
   "outputs": [],
   "source": [
    "X1_pca = PCA(n_components=10).fit_transform(X1_scaled)"
   ]
  },
  {
   "cell_type": "markdown",
   "metadata": {},
   "source": [
    "# KNN REGRESSOR"
   ]
  },
  {
   "cell_type": "code",
   "execution_count": 318,
   "metadata": {},
   "outputs": [
    {
     "name": "stdout",
     "output_type": "stream",
     "text": [
      "Fitting 10 folds for each of 72 candidates, totalling 720 fits\n"
     ]
    },
    {
     "name": "stderr",
     "output_type": "stream",
     "text": [
      "[Parallel(n_jobs=-1)]: Done  17 tasks      | elapsed:    6.7s\n",
      "[Parallel(n_jobs=-1)]: Done  90 tasks      | elapsed:   12.5s\n",
      "[Parallel(n_jobs=-1)]: Done 213 tasks      | elapsed:   28.1s\n",
      "[Parallel(n_jobs=-1)]: Done 384 tasks      | elapsed:  1.0min\n",
      "[Parallel(n_jobs=-1)]: Done 605 tasks      | elapsed:  1.6min\n",
      "[Parallel(n_jobs=-1)]: Done 720 out of 720 | elapsed:  2.0min finished\n"
     ]
    },
    {
     "name": "stdout",
     "output_type": "stream",
     "text": [
      "Best Parameter Combo:  {'n_neighbors': 19, 'weights': 'uniform', 'algorithm': 'brute', 'metric': 'manhattan'}\n",
      "Best Mean Score on Training Set:  0.5641699818154449\n"
     ]
    },
    {
     "data": {
      "text/plain": [
       "KNeighborsRegressor(algorithm='brute', leaf_size=30, metric='manhattan',\n",
       "          metric_params=None, n_jobs=1, n_neighbors=19, p=2,\n",
       "          weights='uniform')"
      ]
     },
     "execution_count": 318,
     "metadata": {},
     "output_type": "execute_result"
    }
   ],
   "source": [
    "knn_param_grid_abe_pca1 = {'n_neighbors':[15,19,23],'weights':['uniform','distance'],\\\n",
    "              'algorithm':['auto', 'ball_tree', 'kd_tree', 'brute'],'metric':['euclidean','minkowski','manhattan']}\n",
    "\n",
    "knn_best_estimator_abe_pca1 = model_evaluate(KNeighborsRegressor,X1_pca,y,knn_param_grid_abe_pca1,cv=10)\n",
    "\n",
    "knn_best_estimator_abe_pca1"
   ]
  },
  {
   "cell_type": "code",
   "execution_count": 319,
   "metadata": {},
   "outputs": [
    {
     "name": "stdout",
     "output_type": "stream",
     "text": [
      "Fitting 10 folds for each of 7 candidates, totalling 70 fits\n"
     ]
    },
    {
     "name": "stderr",
     "output_type": "stream",
     "text": [
      "[Parallel(n_jobs=-1)]: Done  17 tasks      | elapsed:    9.5s\n",
      "[Parallel(n_jobs=-1)]: Done  70 out of  70 | elapsed:   15.7s finished\n"
     ]
    },
    {
     "name": "stdout",
     "output_type": "stream",
     "text": [
      "Best Parameter Combo:  {'n_neighbors': 21, 'weights': 'uniform', 'algorithm': 'auto', 'metric': 'manhattan'}\n",
      "Best Mean Score on Training Set:  0.5638288657613164\n"
     ]
    },
    {
     "data": {
      "text/plain": [
       "KNeighborsRegressor(algorithm='auto', leaf_size=30, metric='manhattan',\n",
       "          metric_params=None, n_jobs=1, n_neighbors=21, p=2,\n",
       "          weights='uniform')"
      ]
     },
     "execution_count": 319,
     "metadata": {},
     "output_type": "execute_result"
    }
   ],
   "source": [
    "knn_param_grid_abe_pca2 = {'n_neighbors':[16,17,18,19,20,21,22],'weights':['uniform'],\\\n",
    "              'algorithm':['auto'],'metric':['manhattan']}\n",
    "\n",
    "knn_best_estimator_abe_pca2 = model_evaluate(KNeighborsRegressor,X1_pca,y,knn_param_grid_abe_pca2,cv=10)\n",
    "\n",
    "knn_best_estimator_abe_pca2"
   ]
  },
  {
   "cell_type": "markdown",
   "metadata": {},
   "source": [
    "# DECISION TREE REGRESSOR"
   ]
  },
  {
   "cell_type": "code",
   "execution_count": 320,
   "metadata": {},
   "outputs": [
    {
     "name": "stdout",
     "output_type": "stream",
     "text": [
      "Fitting 10 folds for each of 216 candidates, totalling 2160 fits\n"
     ]
    },
    {
     "name": "stderr",
     "output_type": "stream",
     "text": [
      "[Parallel(n_jobs=-1)]: Done  17 tasks      | elapsed:    5.5s\n",
      "[Parallel(n_jobs=-1)]: Done 895 tasks      | elapsed:   31.4s\n",
      "[Parallel(n_jobs=-1)]: Done 1058 tasks      | elapsed:  1.2min\n",
      "[Parallel(n_jobs=-1)]: Done 1229 tasks      | elapsed:  2.0min\n",
      "[Parallel(n_jobs=-1)]: Done 1450 tasks      | elapsed:  2.9min\n",
      "[Parallel(n_jobs=-1)]: Done 2160 out of 2160 | elapsed:  3.0min finished\n"
     ]
    },
    {
     "name": "stdout",
     "output_type": "stream",
     "text": [
      "Best Parameter Combo:  {'criterion': 'mse', 'max_features': 'sqrt', 'min_samples_leaf': 7, 'splitter': 'best', 'max_depth': 8}\n",
      "Best Mean Score on Training Set:  0.4794737651701507\n"
     ]
    },
    {
     "data": {
      "text/plain": [
       "DecisionTreeRegressor(criterion='mse', max_depth=8, max_features='sqrt',\n",
       "           max_leaf_nodes=None, min_impurity_decrease=0.0,\n",
       "           min_impurity_split=None, min_samples_leaf=7,\n",
       "           min_samples_split=2, min_weight_fraction_leaf=0.0,\n",
       "           presort=False, random_state=None, splitter='best')"
      ]
     },
     "execution_count": 320,
     "metadata": {},
     "output_type": "execute_result"
    }
   ],
   "source": [
    "dt_param_grid_abe_pca1 = {'max_depth':[2,5,8],'min_samples_leaf':[5,7,9],'max_features':['auto','sqrt','log2',None],\\\n",
    "                 'criterion':['mse','mae','friedman_mse'],'splitter':['best','random']}\n",
    "\n",
    "dt_best_model1_abe_pca1 = model_evaluate(DecisionTreeRegressor,X1_pca,y,dt_param_grid_abe_pca1,cv=10)\n",
    "\n",
    "dt_best_model1_abe_pca1"
   ]
  },
  {
   "cell_type": "code",
   "execution_count": 321,
   "metadata": {},
   "outputs": [
    {
     "name": "stdout",
     "output_type": "stream",
     "text": [
      "Fitting 10 folds for each of 15 candidates, totalling 150 fits\n"
     ]
    },
    {
     "name": "stderr",
     "output_type": "stream",
     "text": [
      "[Parallel(n_jobs=-1)]: Done  17 tasks      | elapsed:   10.8s\n",
      "[Parallel(n_jobs=-1)]: Done 150 out of 150 | elapsed:   12.7s finished\n"
     ]
    },
    {
     "name": "stdout",
     "output_type": "stream",
     "text": [
      "Best Parameter Combo:  {'criterion': 'mse', 'max_features': None, 'min_samples_leaf': 8, 'splitter': 'best', 'max_depth': 7}\n",
      "Best Mean Score on Training Set:  0.48047318939200206\n"
     ]
    },
    {
     "data": {
      "text/plain": [
       "DecisionTreeRegressor(criterion='mse', max_depth=7, max_features=None,\n",
       "           max_leaf_nodes=None, min_impurity_decrease=0.0,\n",
       "           min_impurity_split=None, min_samples_leaf=8,\n",
       "           min_samples_split=2, min_weight_fraction_leaf=0.0,\n",
       "           presort=False, random_state=None, splitter='best')"
      ]
     },
     "execution_count": 321,
     "metadata": {},
     "output_type": "execute_result"
    }
   ],
   "source": [
    "dt_param_grid_abe_pca2 = {'max_depth':[6,7,8,9,10],'min_samples_leaf':[6,7,8],'max_features':[None],\\\n",
    "                 'criterion':['mse'],'splitter':['best']}\n",
    "\n",
    "dt_best_model1_abe_pca2 = model_evaluate(DecisionTreeRegressor,X1_pca,y,dt_param_grid_abe_pca2,cv=10)\n",
    "\n",
    "dt_best_model1_abe_pca2"
   ]
  },
  {
   "cell_type": "markdown",
   "metadata": {},
   "source": [
    "# RANDOM FOREST REGRESSOR"
   ]
  },
  {
   "cell_type": "code",
   "execution_count": 322,
   "metadata": {},
   "outputs": [
    {
     "name": "stdout",
     "output_type": "stream",
     "text": [
      "Fitting 10 folds for each of 54 candidates, totalling 540 fits\n"
     ]
    },
    {
     "name": "stderr",
     "output_type": "stream",
     "text": [
      "[Parallel(n_jobs=-1)]: Done  17 tasks      | elapsed:   35.0s\n",
      "[Parallel(n_jobs=-1)]: Done  90 tasks      | elapsed:  2.4min\n",
      "[Parallel(n_jobs=-1)]: Done 213 tasks      | elapsed:  5.4min\n",
      "[Parallel(n_jobs=-1)]: Done 384 tasks      | elapsed: 10.0min\n",
      "[Parallel(n_jobs=-1)]: Done 540 out of 540 | elapsed: 14.5min finished\n"
     ]
    },
    {
     "name": "stdout",
     "output_type": "stream",
     "text": [
      "Best Parameter Combo:  {'max_depth': 8, 'min_samples_leaf': 5, 'n_estimators': 256, 'min_samples_split': 12}\n",
      "Best Mean Score on Training Set:  0.5440844558752826\n"
     ]
    },
    {
     "data": {
      "text/plain": [
       "RandomForestRegressor(bootstrap=True, criterion='mse', max_depth=8,\n",
       "           max_features='auto', max_leaf_nodes=None,\n",
       "           min_impurity_decrease=0.0, min_impurity_split=None,\n",
       "           min_samples_leaf=5, min_samples_split=12,\n",
       "           min_weight_fraction_leaf=0.0, n_estimators=256, n_jobs=1,\n",
       "           oob_score=False, random_state=None, verbose=0, warm_start=False)"
      ]
     },
     "execution_count": 322,
     "metadata": {},
     "output_type": "execute_result"
    }
   ],
   "source": [
    "rf_param_grid_abe_pca1 = [{'n_estimators': [128,256],'max_depth':[8,10,13],'min_samples_split':[8,10,12],\\\n",
    "                   'min_samples_leaf':[5,10,15]}]\n",
    "\n",
    "rf_best_estimator_abe_pca1 = model_evaluate(RandomForestRegressor,X1_pca,y,rf_param_grid_abe_pca1,cv=10)\n",
    "\n",
    "rf_best_estimator_abe_pca1"
   ]
  },
  {
   "cell_type": "code",
   "execution_count": 323,
   "metadata": {},
   "outputs": [
    {
     "name": "stdout",
     "output_type": "stream",
     "text": [
      "Fitting 10 folds for each of 36 candidates, totalling 360 fits\n"
     ]
    },
    {
     "name": "stderr",
     "output_type": "stream",
     "text": [
      "[Parallel(n_jobs=-1)]: Done  17 tasks      | elapsed:   20.9s\n",
      "[Parallel(n_jobs=-1)]: Done  90 tasks      | elapsed:  1.1min\n",
      "[Parallel(n_jobs=-1)]: Done 213 tasks      | elapsed:  2.5min\n",
      "[Parallel(n_jobs=-1)]: Done 360 out of 360 | elapsed:  4.6min finished\n"
     ]
    },
    {
     "name": "stdout",
     "output_type": "stream",
     "text": [
      "Best Parameter Combo:  {'max_depth': 8, 'min_samples_leaf': 1, 'n_estimators': 128, 'min_samples_split': 8}\n",
      "Best Mean Score on Training Set:  0.5474958636051086\n"
     ]
    },
    {
     "data": {
      "text/plain": [
       "RandomForestRegressor(bootstrap=True, criterion='mse', max_depth=8,\n",
       "           max_features='auto', max_leaf_nodes=None,\n",
       "           min_impurity_decrease=0.0, min_impurity_split=None,\n",
       "           min_samples_leaf=1, min_samples_split=8,\n",
       "           min_weight_fraction_leaf=0.0, n_estimators=128, n_jobs=1,\n",
       "           oob_score=False, random_state=None, verbose=0, warm_start=False)"
      ]
     },
     "execution_count": 323,
     "metadata": {},
     "output_type": "execute_result"
    }
   ],
   "source": [
    "rf_param_grid_abe_pca2 = [{'n_estimators': [64,128],'max_depth':[5,8],'min_samples_split':[3,5,8],\\\n",
    "                   'min_samples_leaf':[1,3,5]}]\n",
    "\n",
    "rf_best_estimator_abe_pca2 = model_evaluate(RandomForestRegressor,X1_pca,y,rf_param_grid_abe_pca2,cv=10)\n",
    "\n",
    "rf_best_estimator_abe_pca2"
   ]
  },
  {
   "cell_type": "markdown",
   "metadata": {},
   "source": [
    "# SUPPORT VECTOR REGRESSOR"
   ]
  },
  {
   "cell_type": "code",
   "execution_count": 324,
   "metadata": {},
   "outputs": [
    {
     "name": "stdout",
     "output_type": "stream",
     "text": [
      "Fitting 10 folds for each of 18 candidates, totalling 180 fits\n"
     ]
    },
    {
     "name": "stderr",
     "output_type": "stream",
     "text": [
      "[Parallel(n_jobs=-1)]: Done  17 tasks      | elapsed:   23.1s\n",
      "[Parallel(n_jobs=-1)]: Done  90 tasks      | elapsed:  1.4min\n",
      "[Parallel(n_jobs=-1)]: Done 180 out of 180 | elapsed:  2.8min finished\n"
     ]
    },
    {
     "name": "stdout",
     "output_type": "stream",
     "text": [
      "Best Parameter Combo:  {'C': 100, 'gamma': 0.01, 'kernel': 'rbf'}\n",
      "Best Mean Score on Training Set:  0.5461895519972529\n"
     ]
    },
    {
     "data": {
      "text/plain": [
       "SVR(C=100, cache_size=200, coef0=0.0, degree=3, epsilon=0.1, gamma=0.01,\n",
       "  kernel='rbf', max_iter=-1, shrinking=True, tol=0.001, verbose=False)"
      ]
     },
     "execution_count": 324,
     "metadata": {},
     "output_type": "execute_result"
    }
   ],
   "source": [
    "svr_param_grid_abe_pca1 = [\n",
    "    {\n",
    "        'C': [1,10,100], 'kernel': ['rbf','poly','sigmoid'],'gamma':[0.01,0.001]\n",
    "    }\n",
    "]\n",
    "\n",
    "svm_best_estimator_abe_pca1 = model_evaluate(SVR,X1_pca,y,svr_param_grid_abe_pca1,cv=10)\n",
    "\n",
    "svm_best_estimator_abe_pca1"
   ]
  },
  {
   "cell_type": "code",
   "execution_count": 325,
   "metadata": {},
   "outputs": [
    {
     "name": "stdout",
     "output_type": "stream",
     "text": [
      "Fitting 10 folds for each of 9 candidates, totalling 90 fits\n"
     ]
    },
    {
     "name": "stderr",
     "output_type": "stream",
     "text": [
      "[Parallel(n_jobs=-1)]: Done  17 tasks      | elapsed:   29.2s\n",
      "[Parallel(n_jobs=-1)]: Done  90 out of  90 | elapsed:  1.9min finished\n"
     ]
    },
    {
     "name": "stdout",
     "output_type": "stream",
     "text": [
      "Best Parameter Combo:  {'C': 50, 'gamma': 0.05, 'kernel': 'rbf'}\n",
      "Best Mean Score on Training Set:  0.550137614114114\n"
     ]
    },
    {
     "data": {
      "text/plain": [
       "SVR(C=50, cache_size=200, coef0=0.0, degree=3, epsilon=0.1, gamma=0.05,\n",
       "  kernel='rbf', max_iter=-1, shrinking=True, tol=0.001, verbose=False)"
      ]
     },
     "execution_count": 325,
     "metadata": {},
     "output_type": "execute_result"
    }
   ],
   "source": [
    "svr_param_grid_abe_pca2 = [\n",
    "    {\n",
    "        'C': [50,100,150], 'kernel': ['rbf'],'gamma':[0.05,0.01,0.005]\n",
    "    }\n",
    "]\n",
    "\n",
    "svm_best_estimator_abe_pca2 = model_evaluate(SVR,X1_pca,y,svr_param_grid_abe_pca2,cv=10)\n",
    "\n",
    "svm_best_estimator_abe_pca2"
   ]
  },
  {
   "cell_type": "code",
   "execution_count": 326,
   "metadata": {
    "collapsed": true
   },
   "outputs": [],
   "source": [
    "names = ['Random Forest','KNN','SVM','Decision Tree','Linear Regression']\n",
    "models = [rf_best_estimator_abe_pca2,knn_best_estimator_abe_pca2,svm_best_estimator_abe_pca2,dt_best_model1_abe_pca2,LinearRegression()]\n",
    "\n",
    "r2_scores_abe_pca = best_model(names,models,X1_pca,y)\n",
    "rmse_scores_abe_pca = best_model(names,models,X1_pca,y,scoring='neg_mean_squared_error')"
   ]
  },
  {
   "cell_type": "code",
   "execution_count": 327,
   "metadata": {},
   "outputs": [
    {
     "data": {
      "text/html": [
       "<div>\n",
       "<style>\n",
       "    .dataframe thead tr:only-child th {\n",
       "        text-align: right;\n",
       "    }\n",
       "\n",
       "    .dataframe thead th {\n",
       "        text-align: left;\n",
       "    }\n",
       "\n",
       "    .dataframe tbody tr th {\n",
       "        vertical-align: top;\n",
       "    }\n",
       "</style>\n",
       "<table border=\"1\" class=\"dataframe\">\n",
       "  <thead>\n",
       "    <tr style=\"text-align: right;\">\n",
       "      <th></th>\n",
       "      <th>Model</th>\n",
       "      <th>R2 Score</th>\n",
       "      <th>RMSE</th>\n",
       "    </tr>\n",
       "  </thead>\n",
       "  <tbody>\n",
       "    <tr>\n",
       "      <th>1</th>\n",
       "      <td>Linear Regression</td>\n",
       "      <td>-3.290863e+21</td>\n",
       "      <td>9.055015</td>\n",
       "    </tr>\n",
       "    <tr>\n",
       "      <th>5</th>\n",
       "      <td>KNN</td>\n",
       "      <td>5.592117e-01</td>\n",
       "      <td>8.262270</td>\n",
       "    </tr>\n",
       "    <tr>\n",
       "      <th>4</th>\n",
       "      <td>SVM</td>\n",
       "      <td>5.720211e-01</td>\n",
       "      <td>8.400410</td>\n",
       "    </tr>\n",
       "    <tr>\n",
       "      <th>2</th>\n",
       "      <td>Decision Tree</td>\n",
       "      <td>5.729063e-01</td>\n",
       "      <td>8.992355</td>\n",
       "    </tr>\n",
       "    <tr>\n",
       "      <th>3</th>\n",
       "      <td>Random Forest</td>\n",
       "      <td>5.817378e-01</td>\n",
       "      <td>8.407072</td>\n",
       "    </tr>\n",
       "  </tbody>\n",
       "</table>\n",
       "</div>"
      ],
      "text/plain": [
       "               Model      R2 Score      RMSE\n",
       "1  Linear Regression -3.290863e+21  9.055015\n",
       "5                KNN  5.592117e-01  8.262270\n",
       "4                SVM  5.720211e-01  8.400410\n",
       "2      Decision Tree  5.729063e-01  8.992355\n",
       "3      Random Forest  5.817378e-01  8.407072"
      ]
     },
     "execution_count": 327,
     "metadata": {},
     "output_type": "execute_result"
    }
   ],
   "source": [
    "r2_df_abe_pca = pd.DataFrame(r2_scores_abe_pca,columns=['Model','R2 Score'],index=range(1,6))\n",
    "rmse_df_abe_pca = pd.DataFrame(list(zip([i for i,v in rmse_scores_abe_pca],[np.sqrt(abs(v)) for i,v in rmse_scores_abe_pca])),columns=['Model','RMSE'],index=range(1,6))\n",
    "final_df_abe_pca = r2_df_abe.merge(rmse_df_abe_pca,on=['Model'],left_index=True)\n",
    "final_df_abe_pca"
   ]
  },
  {
   "cell_type": "markdown",
   "metadata": {},
   "source": [
    "## Results didn't improve much although it didn't deteriorate either with using just 10 PCs!"
   ]
  },
  {
   "cell_type": "markdown",
   "metadata": {
    "collapsed": true
   },
   "source": [
    "# TEST DATA SUBMISSION"
   ]
  },
  {
   "cell_type": "markdown",
   "metadata": {},
   "source": [
    "### In total, three submissions were made on Kaggle under Mercedes Competition. The criteria for ranking was R2 Score.The approaches used for preprocessing of data for the three different submissions were\n",
    "\n",
    "**1. Data Cleaning (Feature selection and Class imbalance Sorting) followed by PCA. SVM Model had the highest score in training and hence was used for prediction.This was the benchmark model which had a\n",
    "   score of 0.27726.**\n",
    "    \n",
    "**2. Data Cleaning followed by Automatic Backward Elimination method and scaling. The best estimator in this case was Random Forest Model in the training phase and was used for the predictions.**\n",
    "\n",
    "  **The model returned a score of 0.54369 on the Private Leadership Board (highest score was 0.55550).**\n",
    "    \n",
    "**3. Data Cleaning then Automatic Backward Elimination and scaling followed by PCA. Again, Random Forest estimator was used for predicting the test set and the predictions returned a score of 41.236**"
   ]
  },
  {
   "cell_type": "code",
   "execution_count": 297,
   "metadata": {
    "collapsed": true
   },
   "outputs": [],
   "source": [
    "def preprocessing_abe_pca(file):\n",
    "    \n",
    "    mercedes_train = pd.read_csv(file)\n",
    "    categ_df = mercedes_train.select_dtypes(exclude=[np.number])\n",
    "    numeric_df = mercedes_train.select_dtypes(include=[np.number])\n",
    "    \n",
    "    train_df_fe = mercedes_train.copy()\n",
    "    train_df_fe = dummy_encode(train_df_fe,categ_df.columns,True)\n",
    "    train_df_dum_encoded_fe = train_df_fe.select_dtypes(include=[np.number])\n",
    "       \n",
    "    train_df_clean  = train_df_dum_encoded_fe.drop('ID',axis=1)        #  Removing ID column from dataset\n",
    "    X = train_df_clean[lst]                                           # Selecting the best feature columns\n",
    "    X_scaled = StandardScaler().fit_transform(X)                    # Feature Scaling\n",
    "    X_scaled_pca = PCA_fit(X_scaled,n_components=10)                # PCA transforming data with 10 components.\n",
    "    return X_scaled_pca"
   ]
  },
  {
   "cell_type": "code",
   "execution_count": 298,
   "metadata": {
    "collapsed": true
   },
   "outputs": [],
   "source": [
    "def preprocessing_abe(file):\n",
    "    \n",
    "    mercedes_train = pd.read_csv(file)\n",
    "    categ_df = mercedes_train.select_dtypes(exclude=[np.number])\n",
    "    numeric_df = mercedes_train.select_dtypes(include=[np.number])\n",
    "    \n",
    "    train_df_fe = mercedes_train.copy()\n",
    "    train_df_fe = dummy_encode(train_df_fe,categ_df.columns,True)\n",
    "    train_df_dum_encoded_fe = train_df_fe.select_dtypes(include=[np.number])\n",
    "       \n",
    "    train_df_clean  = train_df_dum_encoded_fe.drop('ID',axis=1)        #  Removing ID column from dataset\n",
    "    X = train_df_clean[lst]                                           # Selecting the best feature columns\n",
    "    X_scaled = StandardScaler().fit_transform(X)                    # Feature Scaling\n",
    "    return X_scaled"
   ]
  },
  {
   "cell_type": "code",
   "execution_count": 299,
   "metadata": {
    "collapsed": true
   },
   "outputs": [],
   "source": [
    "def preprocessing_pca(file):\n",
    "    \n",
    "    mercedes_train = pd.read_csv(file)\n",
    "    categ_df = mercedes_train.select_dtypes(exclude=[np.number])\n",
    "    numeric_df = mercedes_train.select_dtypes(include=[np.number])\n",
    "    \n",
    "    train_df_fe = mercedes_train.copy()\n",
    "    train_df_fe = dummy_encode(train_df_fe,categ_df.columns,True)\n",
    "    train_df_dum_encoded_fe = train_df_fe.select_dtypes(include=[np.number])\n",
    "       \n",
    "    train_df_clean  = train_df_dum_encoded_fe.drop('ID',axis=1)        #  Removing ID column from dataset\n",
    "    X_scaled = StandardScaler().fit_transform(train_df_clean)                    # Feature Scaling\n",
    "    X_scaled_pca = PCA(n_components=50).fit_transform(X_scaled)\n",
    "    return X_scaled_pca"
   ]
  },
  {
   "cell_type": "code",
   "execution_count": 300,
   "metadata": {
    "collapsed": true
   },
   "outputs": [],
   "source": [
    "def submission(preprocessing,estimator):\n",
    "    test_df = pd.read_csv('test.csv')\n",
    "    test_X = preprocessing('test.csv')\n",
    "    predictions_df = pd.DataFrame()\n",
    "    predictions_df['ID'] = test_df.ID\n",
    "    predictions_df['y'] = estimator.predict(test_X)\n",
    "    return predictions_df"
   ]
  },
  {
   "cell_type": "code",
   "execution_count": 307,
   "metadata": {},
   "outputs": [],
   "source": [
    "results_abe_pca = submission(preprocessing_abe_pca,rf_best_estimator_abe_pca2)\n",
    "results_abe = submission(preprocessing_abe,rf_best_estimator_abe3)\n",
    "results_pca = submission(preprocessing_pca,svm_best_estimator2)"
   ]
  }
 ],
 "metadata": {
  "kernelspec": {
   "display_name": "Python 3",
   "language": "python",
   "name": "python3"
  },
  "language_info": {
   "codemirror_mode": {
    "name": "ipython",
    "version": 3
   },
   "file_extension": ".py",
   "mimetype": "text/x-python",
   "name": "python",
   "nbconvert_exporter": "python",
   "pygments_lexer": "ipython3",
   "version": "3.7.1"
  }
 },
 "nbformat": 4,
 "nbformat_minor": 2
}
