{
 "cells": [
  {
   "cell_type": "markdown",
   "metadata": {},
   "source": [
    "# Customer Segmentation using Clustering Techniques"
   ]
  },
  {
   "cell_type": "markdown",
   "metadata": {},
   "source": [
    "**Agenda**\n",
    "\n",
    "1. Exploratory Data Analysis of Supermarket Purchase data.\n",
    "2. Fitting an Unsupervised KMeans Clustering Model on the data.\n",
    "3. Using Elbow method to obtain the optimal number of clusters.\n",
    "4. Analyzing the different clusters and Hypothesis Testing.\n",
    "5. Using Hierarchical Clustering to fit the model.\n",
    "6. Plotting dendrogram to obtain the optimal number of clusters\n",
    "7. Analyzing Results.\n",
    "8. Conclusion of Customer catgeories involved."
   ]
  },
  {
   "cell_type": "code",
   "execution_count": 61,
   "metadata": {},
   "outputs": [],
   "source": [
    "## Loading Libraries\n",
    "\n",
    "import numpy as np,pandas as pd\n",
    "import matplotlib.pyplot as plt, seaborn as sns\n",
    "%matplotlib inline\n",
    "\n",
    "from sklearn.decomposition import PCA\n",
    "\n",
    "filepath = 'C:\\\\Users\\\\Nithin\\\\Machine_Learning_Projects\\\\Datasets\\\\'"
   ]
  },
  {
   "cell_type": "code",
   "execution_count": 14,
   "metadata": {},
   "outputs": [
    {
     "data": {
      "text/html": [
       "<div>\n",
       "<style scoped>\n",
       "    .dataframe tbody tr th:only-of-type {\n",
       "        vertical-align: middle;\n",
       "    }\n",
       "\n",
       "    .dataframe tbody tr th {\n",
       "        vertical-align: top;\n",
       "    }\n",
       "\n",
       "    .dataframe thead th {\n",
       "        text-align: right;\n",
       "    }\n",
       "</style>\n",
       "<table border=\"1\" class=\"dataframe\">\n",
       "  <thead>\n",
       "    <tr style=\"text-align: right;\">\n",
       "      <th></th>\n",
       "      <th>Cust_id</th>\n",
       "      <th>AVG_Actual_price_12</th>\n",
       "      <th>Purchase_Value</th>\n",
       "      <th>No_of_Items</th>\n",
       "      <th>Total_Discount</th>\n",
       "      <th>MONTH_SINCE_LAST_TRANSACTION</th>\n",
       "    </tr>\n",
       "  </thead>\n",
       "  <tbody>\n",
       "    <tr>\n",
       "      <th>0</th>\n",
       "      <td>1</td>\n",
       "      <td>300.000000</td>\n",
       "      <td>1200.00</td>\n",
       "      <td>4</td>\n",
       "      <td>0.00</td>\n",
       "      <td>11</td>\n",
       "    </tr>\n",
       "    <tr>\n",
       "      <th>1</th>\n",
       "      <td>2</td>\n",
       "      <td>2563.282500</td>\n",
       "      <td>41012.52</td>\n",
       "      <td>16</td>\n",
       "      <td>78737.48</td>\n",
       "      <td>2</td>\n",
       "    </tr>\n",
       "    <tr>\n",
       "      <th>2</th>\n",
       "      <td>4</td>\n",
       "      <td>3510.000000</td>\n",
       "      <td>7020.00</td>\n",
       "      <td>2</td>\n",
       "      <td>780.00</td>\n",
       "      <td>4</td>\n",
       "    </tr>\n",
       "    <tr>\n",
       "      <th>3</th>\n",
       "      <td>8</td>\n",
       "      <td>4530.000000</td>\n",
       "      <td>13590.00</td>\n",
       "      <td>3</td>\n",
       "      <td>1510.00</td>\n",
       "      <td>1</td>\n",
       "    </tr>\n",
       "    <tr>\n",
       "      <th>4</th>\n",
       "      <td>9</td>\n",
       "      <td>2428.076923</td>\n",
       "      <td>33455.00</td>\n",
       "      <td>15</td>\n",
       "      <td>17445.00</td>\n",
       "      <td>6</td>\n",
       "    </tr>\n",
       "  </tbody>\n",
       "</table>\n",
       "</div>"
      ],
      "text/plain": [
       "   Cust_id  AVG_Actual_price_12  Purchase_Value  No_of_Items  Total_Discount  \\\n",
       "0        1           300.000000         1200.00            4            0.00   \n",
       "1        2          2563.282500        41012.52           16        78737.48   \n",
       "2        4          3510.000000         7020.00            2          780.00   \n",
       "3        8          4530.000000        13590.00            3         1510.00   \n",
       "4        9          2428.076923        33455.00           15        17445.00   \n",
       "\n",
       "   MONTH_SINCE_LAST_TRANSACTION  \n",
       "0                            11  \n",
       "1                             2  \n",
       "2                             4  \n",
       "3                             1  \n",
       "4                             6  "
      ]
     },
     "execution_count": 14,
     "metadata": {},
     "output_type": "execute_result"
    }
   ],
   "source": [
    "## Loading Supermarket purchases Dataset\n",
    "\n",
    "market = pd.read_csv(filepath+'Supermarket Purchase.csv')\n",
    "market.head()"
   ]
  },
  {
   "cell_type": "code",
   "execution_count": 15,
   "metadata": {},
   "outputs": [
    {
     "name": "stdout",
     "output_type": "stream",
     "text": [
      "<class 'pandas.core.frame.DataFrame'>\n",
      "RangeIndex: 702 entries, 0 to 701\n",
      "Data columns (total 6 columns):\n",
      "Cust_id                         702 non-null int64\n",
      "AVG_Actual_price_12             702 non-null float64\n",
      "Purchase_Value                  702 non-null float64\n",
      "No_of_Items                     702 non-null int64\n",
      "Total_Discount                  702 non-null float64\n",
      "MONTH_SINCE_LAST_TRANSACTION    702 non-null int64\n",
      "dtypes: float64(3), int64(3)\n",
      "memory usage: 33.0 KB\n"
     ]
    },
    {
     "data": {
      "text/html": [
       "<div>\n",
       "<style scoped>\n",
       "    .dataframe tbody tr th:only-of-type {\n",
       "        vertical-align: middle;\n",
       "    }\n",
       "\n",
       "    .dataframe tbody tr th {\n",
       "        vertical-align: top;\n",
       "    }\n",
       "\n",
       "    .dataframe thead th {\n",
       "        text-align: right;\n",
       "    }\n",
       "</style>\n",
       "<table border=\"1\" class=\"dataframe\">\n",
       "  <thead>\n",
       "    <tr style=\"text-align: right;\">\n",
       "      <th></th>\n",
       "      <th>Cust_id</th>\n",
       "      <th>AVG_Actual_price_12</th>\n",
       "      <th>Purchase_Value</th>\n",
       "      <th>No_of_Items</th>\n",
       "      <th>Total_Discount</th>\n",
       "      <th>MONTH_SINCE_LAST_TRANSACTION</th>\n",
       "    </tr>\n",
       "  </thead>\n",
       "  <tbody>\n",
       "    <tr>\n",
       "      <th>count</th>\n",
       "      <td>702.000000</td>\n",
       "      <td>702.000000</td>\n",
       "      <td>702.000000</td>\n",
       "      <td>702.000000</td>\n",
       "      <td>702.000000</td>\n",
       "      <td>702.000000</td>\n",
       "    </tr>\n",
       "    <tr>\n",
       "      <th>mean</th>\n",
       "      <td>501.414530</td>\n",
       "      <td>2642.877917</td>\n",
       "      <td>19820.633305</td>\n",
       "      <td>10.720798</td>\n",
       "      <td>20806.339088</td>\n",
       "      <td>5.029915</td>\n",
       "    </tr>\n",
       "    <tr>\n",
       "      <th>std</th>\n",
       "      <td>295.756706</td>\n",
       "      <td>1879.138285</td>\n",
       "      <td>34639.752609</td>\n",
       "      <td>20.038311</td>\n",
       "      <td>58427.798572</td>\n",
       "      <td>3.562840</td>\n",
       "    </tr>\n",
       "    <tr>\n",
       "      <th>min</th>\n",
       "      <td>1.000000</td>\n",
       "      <td>22.500000</td>\n",
       "      <td>45.000000</td>\n",
       "      <td>1.000000</td>\n",
       "      <td>-3962.480000</td>\n",
       "      <td>1.000000</td>\n",
       "    </tr>\n",
       "    <tr>\n",
       "      <th>25%</th>\n",
       "      <td>245.750000</td>\n",
       "      <td>1238.750000</td>\n",
       "      <td>4200.000000</td>\n",
       "      <td>2.000000</td>\n",
       "      <td>0.000000</td>\n",
       "      <td>2.000000</td>\n",
       "    </tr>\n",
       "    <tr>\n",
       "      <th>50%</th>\n",
       "      <td>486.500000</td>\n",
       "      <td>2100.000000</td>\n",
       "      <td>8660.000000</td>\n",
       "      <td>4.000000</td>\n",
       "      <td>2599.250000</td>\n",
       "      <td>4.000000</td>\n",
       "    </tr>\n",
       "    <tr>\n",
       "      <th>75%</th>\n",
       "      <td>763.750000</td>\n",
       "      <td>3700.000000</td>\n",
       "      <td>21197.000000</td>\n",
       "      <td>10.000000</td>\n",
       "      <td>17433.750000</td>\n",
       "      <td>8.000000</td>\n",
       "    </tr>\n",
       "    <tr>\n",
       "      <th>max</th>\n",
       "      <td>1006.000000</td>\n",
       "      <td>10000.000000</td>\n",
       "      <td>302721.740000</td>\n",
       "      <td>172.000000</td>\n",
       "      <td>734349.820000</td>\n",
       "      <td>12.000000</td>\n",
       "    </tr>\n",
       "  </tbody>\n",
       "</table>\n",
       "</div>"
      ],
      "text/plain": [
       "           Cust_id  AVG_Actual_price_12  Purchase_Value  No_of_Items  \\\n",
       "count   702.000000           702.000000      702.000000   702.000000   \n",
       "mean    501.414530          2642.877917    19820.633305    10.720798   \n",
       "std     295.756706          1879.138285    34639.752609    20.038311   \n",
       "min       1.000000            22.500000       45.000000     1.000000   \n",
       "25%     245.750000          1238.750000     4200.000000     2.000000   \n",
       "50%     486.500000          2100.000000     8660.000000     4.000000   \n",
       "75%     763.750000          3700.000000    21197.000000    10.000000   \n",
       "max    1006.000000         10000.000000   302721.740000   172.000000   \n",
       "\n",
       "       Total_Discount  MONTH_SINCE_LAST_TRANSACTION  \n",
       "count      702.000000                    702.000000  \n",
       "mean     20806.339088                      5.029915  \n",
       "std      58427.798572                      3.562840  \n",
       "min      -3962.480000                      1.000000  \n",
       "25%          0.000000                      2.000000  \n",
       "50%       2599.250000                      4.000000  \n",
       "75%      17433.750000                      8.000000  \n",
       "max     734349.820000                     12.000000  "
      ]
     },
     "execution_count": 15,
     "metadata": {},
     "output_type": "execute_result"
    }
   ],
   "source": [
    "## Initial checks \n",
    "\n",
    "market.info()\n",
    "market.describe()"
   ]
  },
  {
   "cell_type": "code",
   "execution_count": 16,
   "metadata": {},
   "outputs": [
    {
     "data": {
      "text/plain": [
       "<matplotlib.axes._subplots.AxesSubplot at 0x990dd30>"
      ]
     },
     "execution_count": 16,
     "metadata": {},
     "output_type": "execute_result"
    },
    {
     "data": {
      "image/png": "[encoded data removed]",
      "text/plain": [
       "<Figure size 720x432 with 2 Axes>"
      ]
     },
     "metadata": {
      "needs_background": "light"
     },
     "output_type": "display_data"
    }
   ],
   "source": [
    "## Purchase Value is correlated with Number of Items and Discounts which is an expected trend.\n",
    "\n",
    "plt.figure(figsize=(10,6))\n",
    "sns.heatmap(market.corr(),annot=True,cmap='viridis')"
   ]
  },
  {
   "cell_type": "code",
   "execution_count": 17,
   "metadata": {},
   "outputs": [],
   "source": [
    "## Dropping irrelevant id column\n",
    "X = market.drop('Cust_id',axis=1)"
   ]
  },
  {
   "cell_type": "code",
   "execution_count": 21,
   "metadata": {},
   "outputs": [],
   "source": [
    "from sklearn.preprocessing import StandardScaler\n",
    "X_scaled = StandardScaler().fit_transform(X.astype(float))"
   ]
  },
  {
   "cell_type": "code",
   "execution_count": 22,
   "metadata": {},
   "outputs": [],
   "source": [
    "## Implementing Elbow method\n",
    "from scipy.spatial.distance import cdist\n",
    "from sklearn.cluster import KMeans"
   ]
  },
  {
   "cell_type": "code",
   "execution_count": 23,
   "metadata": {},
   "outputs": [],
   "source": [
    "def kmeans_elbow_method(df,krange,metric):\n",
    "\n",
    "    elbow = []\n",
    "    K = range(1,krange)\n",
    "    for k in K:\n",
    "        kmeans = KMeans(n_clusters=k)\n",
    "        kmeans.fit(df)\n",
    "\n",
    "        if metric=='cdist':\n",
    "            elbow.append(sum(np.min(cdist(df, kmeans.cluster_centers_, 'euclidean'), axis=1)) / df.shape[0])\n",
    "\n",
    "        elif metric=='inertia':\n",
    "            elbow.append(kmeans.inertia_)\n",
    "\n",
    "        elif metric=='score':\n",
    "            elbow.append(kmeans.score(df))\n",
    "\n",
    "    plt.plot(K,elbow,color='blue', linestyle='dashed', marker='o',markerfacecolor='red', markersize=10)\n",
    "    plt.xlabel('K')\n",
    "    plt.ylabel('{}'.format(metric))\n",
    "    plt.title('The Elbow Method showing the optimal k')\n",
    "    plt.show()\n",
    "    \n",
    "    return elbow"
   ]
  },
  {
   "cell_type": "code",
   "execution_count": 24,
   "metadata": {},
   "outputs": [
    {
     "data": {
      "image/png": "[encoded data removed]",
      "text/plain": [
       "<Figure size 432x288 with 1 Axes>"
      ]
     },
     "metadata": {
      "needs_background": "light"
     },
     "output_type": "display_data"
    }
   ],
   "source": [
    "wss = kmeans_elbow_method(X_scaled,10,'inertia')"
   ]
  },
  {
   "cell_type": "code",
   "execution_count": 52,
   "metadata": {},
   "outputs": [
    {
     "data": {
      "text/plain": [
       "0         NaN\n",
       "1   -0.362763\n",
       "2   -0.253388\n",
       "3   -0.252499\n",
       "4   -0.235208\n",
       "5   -0.102539\n",
       "6   -0.092195\n",
       "7   -0.092181\n",
       "8   -0.093407\n",
       "dtype: float64"
      ]
     },
     "execution_count": 52,
     "metadata": {},
     "output_type": "execute_result"
    }
   ],
   "source": [
    "# Checking for more info on which is the ideal point of elbow\n",
    "pd.Series(wss).pct_change()\n",
    "#mean_dist"
   ]
  },
  {
   "cell_type": "code",
   "execution_count": 59,
   "metadata": {},
   "outputs": [
    {
     "data": {
      "text/plain": [
       "KMeans(algorithm='auto', copy_x=True, init='k-means++', max_iter=300,\n",
       "    n_clusters=5, n_init=10, n_jobs=None, precompute_distances='auto',\n",
       "    random_state=None, tol=0.0001, verbose=0)"
      ]
     },
     "execution_count": 59,
     "metadata": {},
     "output_type": "execute_result"
    }
   ],
   "source": [
    "# From above wss percentage change result, the two sections of obvious drop are after 2 (11% drop) and after 5 (13% drop)\n",
    "# For K Means we will choose the optimal number of clusters as 5.\n",
    "\n",
    "kmeans = KMeans(n_clusters=5)\n",
    "kmeans.fit(X_scaled)"
   ]
  },
  {
   "cell_type": "code",
   "execution_count": 62,
   "metadata": {},
   "outputs": [
    {
     "data": {
      "text/plain": [
       "Text(2, 0.93, '*')"
      ]
     },
     "execution_count": 62,
     "metadata": {},
     "output_type": "execute_result"
    },
    {
     "data": {
      "image/png": "[encoded data removed]",
      "text/plain": [
       "<Figure size 432x288 with 1 Axes>"
      ]
     },
     "metadata": {
      "needs_background": "light"
     },
     "output_type": "display_data"
    }
   ],
   "source": [
    "## Applying PCA Dimensionality Reduction to reduce data to 2 components for visualization purposes.\n",
    "\n",
    "pca = PCA()\n",
    "pca.fit(X_scaled)\n",
    "\n",
    "## Almost 93% of information is captured by the first 2 Principal Components.\n",
    "\n",
    "plt.plot(np.cumsum(pca.explained_variance_ratio_))\n",
    "plt.annotate('*',xy=(2,0.93))"
   ]
  },
  {
   "cell_type": "code",
   "execution_count": 63,
   "metadata": {},
   "outputs": [
    {
     "data": {
      "text/plain": [
       "<matplotlib.collections.PathCollection at 0xdef3198>"
      ]
     },
     "execution_count": 63,
     "metadata": {},
     "output_type": "execute_result"
    },
    {
     "data": {
      "image/png": "[encoded data removed]",
      "text/plain": [
       "<Figure size 864x432 with 1 Axes>"
      ]
     },
     "metadata": {
      "needs_background": "light"
     },
     "output_type": "display_data"
    }
   ],
   "source": [
    "## Reducing variables to 2D Principal Components for visualization\n",
    "\n",
    "X_pca = PCA(n_components=2).fit_transform(X_scaled)\n",
    "\n",
    "plt.figure(figsize=(12,6))\n",
    "plt.scatter(X_pca[:,0],X_pca[:,1],c= kmeans.predict(X_scaled))"
   ]
  },
  {
   "cell_type": "code",
   "execution_count": 64,
   "metadata": {},
   "outputs": [],
   "source": [
    "X['segments'] = kmeans.labels_"
   ]
  },
  {
   "cell_type": "code",
   "execution_count": 65,
   "metadata": {},
   "outputs": [
    {
     "data": {
      "text/html": [
       "<div>\n",
       "<style scoped>\n",
       "    .dataframe tbody tr th:only-of-type {\n",
       "        vertical-align: middle;\n",
       "    }\n",
       "\n",
       "    .dataframe tbody tr th {\n",
       "        vertical-align: top;\n",
       "    }\n",
       "\n",
       "    .dataframe thead tr th {\n",
       "        text-align: left;\n",
       "    }\n",
       "\n",
       "    .dataframe thead tr:last-of-type th {\n",
       "        text-align: right;\n",
       "    }\n",
       "</style>\n",
       "<table border=\"1\" class=\"dataframe\">\n",
       "  <thead>\n",
       "    <tr>\n",
       "      <th></th>\n",
       "      <th colspan=\"8\" halign=\"left\">AVG_Actual_price_12</th>\n",
       "      <th colspan=\"2\" halign=\"left\">MONTH_SINCE_LAST_TRANSACTION</th>\n",
       "      <th>...</th>\n",
       "      <th colspan=\"2\" halign=\"left\">Total_Discount</th>\n",
       "      <th colspan=\"8\" halign=\"left\">segments2</th>\n",
       "    </tr>\n",
       "    <tr>\n",
       "      <th></th>\n",
       "      <th>count</th>\n",
       "      <th>mean</th>\n",
       "      <th>std</th>\n",
       "      <th>min</th>\n",
       "      <th>25%</th>\n",
       "      <th>50%</th>\n",
       "      <th>75%</th>\n",
       "      <th>max</th>\n",
       "      <th>count</th>\n",
       "      <th>mean</th>\n",
       "      <th>...</th>\n",
       "      <th>75%</th>\n",
       "      <th>max</th>\n",
       "      <th>count</th>\n",
       "      <th>mean</th>\n",
       "      <th>std</th>\n",
       "      <th>min</th>\n",
       "      <th>25%</th>\n",
       "      <th>50%</th>\n",
       "      <th>75%</th>\n",
       "      <th>max</th>\n",
       "    </tr>\n",
       "    <tr>\n",
       "      <th>segments</th>\n",
       "      <th></th>\n",
       "      <th></th>\n",
       "      <th></th>\n",
       "      <th></th>\n",
       "      <th></th>\n",
       "      <th></th>\n",
       "      <th></th>\n",
       "      <th></th>\n",
       "      <th></th>\n",
       "      <th></th>\n",
       "      <th></th>\n",
       "      <th></th>\n",
       "      <th></th>\n",
       "      <th></th>\n",
       "      <th></th>\n",
       "      <th></th>\n",
       "      <th></th>\n",
       "      <th></th>\n",
       "      <th></th>\n",
       "      <th></th>\n",
       "      <th></th>\n",
       "    </tr>\n",
       "  </thead>\n",
       "  <tbody>\n",
       "    <tr>\n",
       "      <th>0</th>\n",
       "      <td>224.0</td>\n",
       "      <td>2188.035926</td>\n",
       "      <td>1343.607257</td>\n",
       "      <td>22.500000</td>\n",
       "      <td>1050.000000</td>\n",
       "      <td>1989.166666</td>\n",
       "      <td>3244.061250</td>\n",
       "      <td>5625.000000</td>\n",
       "      <td>224.0</td>\n",
       "      <td>9.383929</td>\n",
       "      <td>...</td>\n",
       "      <td>7515.00</td>\n",
       "      <td>76670.00</td>\n",
       "      <td>224.0</td>\n",
       "      <td>0.00</td>\n",
       "      <td>0.000000</td>\n",
       "      <td>0.0</td>\n",
       "      <td>0.00</td>\n",
       "      <td>0.0</td>\n",
       "      <td>0.0</td>\n",
       "      <td>0.0</td>\n",
       "    </tr>\n",
       "    <tr>\n",
       "      <th>1</th>\n",
       "      <td>262.0</td>\n",
       "      <td>1748.293279</td>\n",
       "      <td>899.662402</td>\n",
       "      <td>50.000000</td>\n",
       "      <td>1070.833333</td>\n",
       "      <td>1747.250000</td>\n",
       "      <td>2336.416666</td>\n",
       "      <td>3735.000000</td>\n",
       "      <td>262.0</td>\n",
       "      <td>2.916031</td>\n",
       "      <td>...</td>\n",
       "      <td>20468.75</td>\n",
       "      <td>85250.00</td>\n",
       "      <td>262.0</td>\n",
       "      <td>0.00</td>\n",
       "      <td>0.000000</td>\n",
       "      <td>0.0</td>\n",
       "      <td>0.00</td>\n",
       "      <td>0.0</td>\n",
       "      <td>0.0</td>\n",
       "      <td>0.0</td>\n",
       "    </tr>\n",
       "    <tr>\n",
       "      <th>2</th>\n",
       "      <td>12.0</td>\n",
       "      <td>1736.197131</td>\n",
       "      <td>678.937372</td>\n",
       "      <td>1026.325821</td>\n",
       "      <td>1250.454575</td>\n",
       "      <td>1673.846055</td>\n",
       "      <td>2074.288289</td>\n",
       "      <td>3433.333333</td>\n",
       "      <td>12.0</td>\n",
       "      <td>1.083333</td>\n",
       "      <td>...</td>\n",
       "      <td>462338.57</td>\n",
       "      <td>734349.82</td>\n",
       "      <td>12.0</td>\n",
       "      <td>0.75</td>\n",
       "      <td>0.452267</td>\n",
       "      <td>0.0</td>\n",
       "      <td>0.75</td>\n",
       "      <td>1.0</td>\n",
       "      <td>1.0</td>\n",
       "      <td>1.0</td>\n",
       "    </tr>\n",
       "    <tr>\n",
       "      <th>3</th>\n",
       "      <td>67.0</td>\n",
       "      <td>1843.712923</td>\n",
       "      <td>965.809564</td>\n",
       "      <td>453.000000</td>\n",
       "      <td>1118.650000</td>\n",
       "      <td>1683.000000</td>\n",
       "      <td>2213.023214</td>\n",
       "      <td>5395.833333</td>\n",
       "      <td>67.0</td>\n",
       "      <td>2.373134</td>\n",
       "      <td>...</td>\n",
       "      <td>97060.62</td>\n",
       "      <td>266950.00</td>\n",
       "      <td>67.0</td>\n",
       "      <td>0.00</td>\n",
       "      <td>0.000000</td>\n",
       "      <td>0.0</td>\n",
       "      <td>0.00</td>\n",
       "      <td>0.0</td>\n",
       "      <td>0.0</td>\n",
       "      <td>0.0</td>\n",
       "    </tr>\n",
       "    <tr>\n",
       "      <th>4</th>\n",
       "      <td>137.0</td>\n",
       "      <td>5567.622481</td>\n",
       "      <td>1520.191703</td>\n",
       "      <td>3691.499000</td>\n",
       "      <td>4335.000000</td>\n",
       "      <td>5100.000000</td>\n",
       "      <td>6500.000000</td>\n",
       "      <td>10000.000000</td>\n",
       "      <td>137.0</td>\n",
       "      <td>3.598540</td>\n",
       "      <td>...</td>\n",
       "      <td>2330.00</td>\n",
       "      <td>47500.00</td>\n",
       "      <td>137.0</td>\n",
       "      <td>0.00</td>\n",
       "      <td>0.000000</td>\n",
       "      <td>0.0</td>\n",
       "      <td>0.00</td>\n",
       "      <td>0.0</td>\n",
       "      <td>0.0</td>\n",
       "      <td>0.0</td>\n",
       "    </tr>\n",
       "  </tbody>\n",
       "</table>\n",
       "<p>5 rows × 48 columns</p>\n",
       "</div>"
      ],
      "text/plain": [
       "         AVG_Actual_price_12                                         \\\n",
       "                       count         mean          std          min   \n",
       "segments                                                              \n",
       "0                      224.0  2188.035926  1343.607257    22.500000   \n",
       "1                      262.0  1748.293279   899.662402    50.000000   \n",
       "2                       12.0  1736.197131   678.937372  1026.325821   \n",
       "3                       67.0  1843.712923   965.809564   453.000000   \n",
       "4                      137.0  5567.622481  1520.191703  3691.499000   \n",
       "\n",
       "                                                               \\\n",
       "                  25%          50%          75%           max   \n",
       "segments                                                        \n",
       "0         1050.000000  1989.166666  3244.061250   5625.000000   \n",
       "1         1070.833333  1747.250000  2336.416666   3735.000000   \n",
       "2         1250.454575  1673.846055  2074.288289   3433.333333   \n",
       "3         1118.650000  1683.000000  2213.023214   5395.833333   \n",
       "4         4335.000000  5100.000000  6500.000000  10000.000000   \n",
       "\n",
       "         MONTH_SINCE_LAST_TRANSACTION           ...  Total_Discount  \\\n",
       "                                count      mean ...             75%   \n",
       "segments                                        ...                   \n",
       "0                               224.0  9.383929 ...         7515.00   \n",
       "1                               262.0  2.916031 ...        20468.75   \n",
       "2                                12.0  1.083333 ...       462338.57   \n",
       "3                                67.0  2.373134 ...        97060.62   \n",
       "4                               137.0  3.598540 ...         2330.00   \n",
       "\n",
       "                    segments2                                            \n",
       "                max     count  mean       std  min   25%  50%  75%  max  \n",
       "segments                                                                 \n",
       "0          76670.00     224.0  0.00  0.000000  0.0  0.00  0.0  0.0  0.0  \n",
       "1          85250.00     262.0  0.00  0.000000  0.0  0.00  0.0  0.0  0.0  \n",
       "2         734349.82      12.0  0.75  0.452267  0.0  0.75  1.0  1.0  1.0  \n",
       "3         266950.00      67.0  0.00  0.000000  0.0  0.00  0.0  0.0  0.0  \n",
       "4          47500.00     137.0  0.00  0.000000  0.0  0.00  0.0  0.0  0.0  \n",
       "\n",
       "[5 rows x 48 columns]"
      ]
     },
     "execution_count": 65,
     "metadata": {},
     "output_type": "execute_result"
    }
   ],
   "source": [
    "X.groupby('segments').describe() ## Group 4 has significant differences with the rest."
   ]
  },
  {
   "cell_type": "code",
   "execution_count": 66,
   "metadata": {},
   "outputs": [
    {
     "data": {
      "text/plain": [
       "1.186437125058297"
      ]
     },
     "execution_count": 66,
     "metadata": {},
     "output_type": "execute_result"
    },
    {
     "data": {
      "image/png": "[encoded data removed]",
      "text/plain": [
       "<Figure size 432x288 with 1 Axes>"
      ]
     },
     "metadata": {
      "needs_background": "light"
     },
     "output_type": "display_data"
    }
   ],
   "source": [
    "plt.hist(market.AVG_Actual_price_12)\n",
    "market.AVG_Actual_price_12.skew() ## Positively Skewed data"
   ]
  },
  {
   "cell_type": "code",
   "execution_count": 94,
   "metadata": {},
   "outputs": [],
   "source": [
    "### CHECKING IF THE CLUSTERS CREATED ARE ACTUALLY DIFFERENT FROM EACH OTHER\n",
    "### USING STATISTICAL HYPTHESIS TESTS.\n",
    "\n",
    "\n",
    "def cluster_significance_test(test,df,col,clust):\n",
    "    \n",
    "    \"\"\"Returns the results of the Hypothesis test mentioned for the column.\n",
    "       Should be called after defining dictionary_mean function.\n",
    "       Min number of samples is equal to 35 or the no.of samples present in\n",
    "       the smallest class\"\"\"\n",
    "    \n",
    "    d = {}\n",
    "    \n",
    "    for i in X[clust].unique():\n",
    "        d[col +'_'+str(i) ] = df[df[clust]==i][col]\n",
    "    \n",
    "    x = list(d.keys())\n",
    "    \n",
    "    min_length_lst = min([len(d[i]) for i in x])\n",
    "    \n",
    "    if min_length_lst<35:\n",
    "        size = min_length_lst\n",
    "    else:\n",
    "        size = 35\n",
    "\n",
    "    return f_oneway(d[x[0]].sample(size,random_state=2),\n",
    "                    d[x[1]].sample(size,random_state=2),\n",
    "                    d[x[2]].sample(size,random_state=2),\n",
    "                    d[x[3]].sample(size,random_state=2))"
   ]
  },
  {
   "cell_type": "code",
   "execution_count": 97,
   "metadata": {
    "scrolled": true
   },
   "outputs": [
    {
     "data": {
      "text/plain": [
       "F_onewayResult(statistic=29.744362736571123, pvalue=1.1560941109641797e-10)"
      ]
     },
     "execution_count": 97,
     "metadata": {},
     "output_type": "execute_result"
    }
   ],
   "source": [
    "cluster_significance_test(kruskal,X,clust='segments',col='AVG_Actual_price_12')"
   ]
  },
  {
   "cell_type": "code",
   "execution_count": 40,
   "metadata": {},
   "outputs": [],
   "source": [
    "## CONCLUSION : THE CLUSTERING INDEED SPLIT THE OBSERVATIONS INTO CATEGORIES THAT ARE SIGNIFICANTLY DIFFERENT FROM EACH OTHER."
   ]
  },
  {
   "cell_type": "code",
   "execution_count": 41,
   "metadata": {},
   "outputs": [
    {
     "data": {
      "image/png": "[encoded data removed]",
      "text/plain": [
       "<Figure size 720x864 with 1 Axes>"
      ]
     },
     "metadata": {
      "needs_background": "light"
     },
     "output_type": "display_data"
    }
   ],
   "source": [
    "## HIERARCHIAL CLUSTERING\n",
    "\n",
    "##Importing Dendogram from scipy library.\n",
    "\n",
    "import scipy.cluster.hierarchy as sch\n",
    "\n",
    "plt.figure(figsize=(10,12))\n",
    "dendrogram = sch.dendrogram(sch.linkage(X_scaled,method='ward')) \n",
    "\n",
    "# Plotting dendogram, the optimal number of clusters i obtained by finding the longest uncut line\n",
    "# Here it is the topmost one. Cutting which we will get 2 clusters (keeping in line with KMeans results)."
   ]
  },
  {
   "cell_type": "code",
   "execution_count": 42,
   "metadata": {},
   "outputs": [],
   "source": [
    "## Fitting model with 2 clusters and classifying the datapoints using fit_predict.\n",
    "\n",
    "from sklearn.cluster import AgglomerativeClustering\n",
    "\n",
    "hc = AgglomerativeClustering(n_clusters=2,affinity='euclidean',linkage='ward')\n",
    "\n",
    "y_hc = hc.fit_predict(X_scaled)"
   ]
  },
  {
   "cell_type": "code",
   "execution_count": 43,
   "metadata": {},
   "outputs": [
    {
     "data": {
      "text/plain": [
       "<matplotlib.collections.PathCollection at 0xc704c88>"
      ]
     },
     "execution_count": 43,
     "metadata": {},
     "output_type": "execute_result"
    },
    {
     "data": {
      "image/png": "[encoded data removed]",
      "text/plain": [
       "<Figure size 864x432 with 1 Axes>"
      ]
     },
     "metadata": {
      "needs_background": "light"
     },
     "output_type": "display_data"
    }
   ],
   "source": [
    "## PCA components plotted with the labels marked. 2 clusters are distinctly apart.\n",
    "\n",
    "X_pca = PCA(n_components=2).fit_transform(X_scaled)\n",
    "\n",
    "plt.figure(figsize=(12,6))\n",
    "plt.scatter(X_pca[:,0],X_pca[:,1],c= y_hc)"
   ]
  },
  {
   "cell_type": "code",
   "execution_count": 44,
   "metadata": {},
   "outputs": [],
   "source": [
    "## Creating another column with 2 segements.\n",
    "\n",
    "X['segments2'] = y_hc"
   ]
  },
  {
   "cell_type": "code",
   "execution_count": 45,
   "metadata": {},
   "outputs": [
    {
     "data": {
      "text/html": [
       "<div>\n",
       "<style scoped>\n",
       "    .dataframe tbody tr th:only-of-type {\n",
       "        vertical-align: middle;\n",
       "    }\n",
       "\n",
       "    .dataframe tbody tr th {\n",
       "        vertical-align: top;\n",
       "    }\n",
       "\n",
       "    .dataframe thead th {\n",
       "        text-align: right;\n",
       "    }\n",
       "</style>\n",
       "<table border=\"1\" class=\"dataframe\">\n",
       "  <thead>\n",
       "    <tr style=\"text-align: right;\">\n",
       "      <th></th>\n",
       "      <th>count</th>\n",
       "      <th>mean</th>\n",
       "      <th>std</th>\n",
       "      <th>min</th>\n",
       "      <th>25%</th>\n",
       "      <th>50%</th>\n",
       "      <th>75%</th>\n",
       "      <th>max</th>\n",
       "    </tr>\n",
       "    <tr>\n",
       "      <th>segments2</th>\n",
       "      <th></th>\n",
       "      <th></th>\n",
       "      <th></th>\n",
       "      <th></th>\n",
       "      <th></th>\n",
       "      <th></th>\n",
       "      <th></th>\n",
       "      <th></th>\n",
       "    </tr>\n",
       "  </thead>\n",
       "  <tbody>\n",
       "    <tr>\n",
       "      <th>0</th>\n",
       "      <td>693.0</td>\n",
       "      <td>2655.264478</td>\n",
       "      <td>1887.631428</td>\n",
       "      <td>22.500000</td>\n",
       "      <td>1237.500000</td>\n",
       "      <td>2100.000000</td>\n",
       "      <td>3705.147059</td>\n",
       "      <td>10000.000000</td>\n",
       "    </tr>\n",
       "    <tr>\n",
       "      <th>1</th>\n",
       "      <td>9.0</td>\n",
       "      <td>1689.112781</td>\n",
       "      <td>410.616014</td>\n",
       "      <td>1026.325821</td>\n",
       "      <td>1310.493827</td>\n",
       "      <td>1678.153649</td>\n",
       "      <td>2055.238095</td>\n",
       "      <td>2163.279221</td>\n",
       "    </tr>\n",
       "  </tbody>\n",
       "</table>\n",
       "</div>"
      ],
      "text/plain": [
       "           count         mean          std          min          25%  \\\n",
       "segments2                                                              \n",
       "0          693.0  2655.264478  1887.631428    22.500000  1237.500000   \n",
       "1            9.0  1689.112781   410.616014  1026.325821  1310.493827   \n",
       "\n",
       "                   50%          75%           max  \n",
       "segments2                                          \n",
       "0          2100.000000  3705.147059  10000.000000  \n",
       "1          1678.153649  2055.238095   2163.279221  "
      ]
     },
     "execution_count": 45,
     "metadata": {},
     "output_type": "execute_result"
    }
   ],
   "source": [
    "## Checking the differences between the clusters for different attributes starting with Avg.actual.price\n",
    "\n",
    "# Customers of Segment 0 are considerably more active and productive than segment 1\n",
    "\n",
    "X.groupby('segments2').describe()['AVG_Actual_price_12']"
   ]
  },
  {
   "cell_type": "code",
   "execution_count": 46,
   "metadata": {},
   "outputs": [
    {
     "data": {
      "text/html": [
       "<div>\n",
       "<style scoped>\n",
       "    .dataframe tbody tr th:only-of-type {\n",
       "        vertical-align: middle;\n",
       "    }\n",
       "\n",
       "    .dataframe tbody tr th {\n",
       "        vertical-align: top;\n",
       "    }\n",
       "\n",
       "    .dataframe thead th {\n",
       "        text-align: right;\n",
       "    }\n",
       "</style>\n",
       "<table border=\"1\" class=\"dataframe\">\n",
       "  <thead>\n",
       "    <tr style=\"text-align: right;\">\n",
       "      <th></th>\n",
       "      <th>count</th>\n",
       "      <th>mean</th>\n",
       "      <th>std</th>\n",
       "      <th>min</th>\n",
       "      <th>25%</th>\n",
       "      <th>50%</th>\n",
       "      <th>75%</th>\n",
       "      <th>max</th>\n",
       "    </tr>\n",
       "    <tr>\n",
       "      <th>segments2</th>\n",
       "      <th></th>\n",
       "      <th></th>\n",
       "      <th></th>\n",
       "      <th></th>\n",
       "      <th></th>\n",
       "      <th></th>\n",
       "      <th></th>\n",
       "      <th></th>\n",
       "    </tr>\n",
       "  </thead>\n",
       "  <tbody>\n",
       "    <tr>\n",
       "      <th>0</th>\n",
       "      <td>693.0</td>\n",
       "      <td>16940.017114</td>\n",
       "      <td>23245.318560</td>\n",
       "      <td>45.00</td>\n",
       "      <td>4200.0</td>\n",
       "      <td>8400.0</td>\n",
       "      <td>19920.0</td>\n",
       "      <td>191192.12</td>\n",
       "    </tr>\n",
       "    <tr>\n",
       "      <th>1</th>\n",
       "      <td>9.0</td>\n",
       "      <td>241628.080000</td>\n",
       "      <td>48325.251486</td>\n",
       "      <td>170390.16</td>\n",
       "      <td>206681.9</td>\n",
       "      <td>234203.0</td>\n",
       "      <td>286244.5</td>\n",
       "      <td>302721.74</td>\n",
       "    </tr>\n",
       "  </tbody>\n",
       "</table>\n",
       "</div>"
      ],
      "text/plain": [
       "           count           mean           std        min       25%       50%  \\\n",
       "segments2                                                                      \n",
       "0          693.0   16940.017114  23245.318560      45.00    4200.0    8400.0   \n",
       "1            9.0  241628.080000  48325.251486  170390.16  206681.9  234203.0   \n",
       "\n",
       "                75%        max  \n",
       "segments2                       \n",
       "0           19920.0  191192.12  \n",
       "1          286244.5  302721.74  "
      ]
     },
     "execution_count": 46,
     "metadata": {},
     "output_type": "execute_result"
    }
   ],
   "source": [
    "## Purchase value seems to depict a pattern. Segment 1 customers are at the high end of transactions.\n",
    "\n",
    "X.groupby('segments2').describe()['Purchase_Value']"
   ]
  },
  {
   "cell_type": "code",
   "execution_count": 47,
   "metadata": {},
   "outputs": [
    {
     "data": {
      "text/html": [
       "<div>\n",
       "<style scoped>\n",
       "    .dataframe tbody tr th:only-of-type {\n",
       "        vertical-align: middle;\n",
       "    }\n",
       "\n",
       "    .dataframe tbody tr th {\n",
       "        vertical-align: top;\n",
       "    }\n",
       "\n",
       "    .dataframe thead th {\n",
       "        text-align: right;\n",
       "    }\n",
       "</style>\n",
       "<table border=\"1\" class=\"dataframe\">\n",
       "  <thead>\n",
       "    <tr style=\"text-align: right;\">\n",
       "      <th></th>\n",
       "      <th>count</th>\n",
       "      <th>mean</th>\n",
       "      <th>std</th>\n",
       "      <th>min</th>\n",
       "      <th>25%</th>\n",
       "      <th>50%</th>\n",
       "      <th>75%</th>\n",
       "      <th>max</th>\n",
       "    </tr>\n",
       "    <tr>\n",
       "      <th>segments2</th>\n",
       "      <th></th>\n",
       "      <th></th>\n",
       "      <th></th>\n",
       "      <th></th>\n",
       "      <th></th>\n",
       "      <th></th>\n",
       "      <th></th>\n",
       "      <th></th>\n",
       "    </tr>\n",
       "  </thead>\n",
       "  <tbody>\n",
       "    <tr>\n",
       "      <th>0</th>\n",
       "      <td>693.0</td>\n",
       "      <td>9.037518</td>\n",
       "      <td>13.385407</td>\n",
       "      <td>1.0</td>\n",
       "      <td>2.0</td>\n",
       "      <td>4.0</td>\n",
       "      <td>10.0</td>\n",
       "      <td>113.0</td>\n",
       "    </tr>\n",
       "    <tr>\n",
       "      <th>1</th>\n",
       "      <td>9.0</td>\n",
       "      <td>140.333333</td>\n",
       "      <td>23.270153</td>\n",
       "      <td>104.0</td>\n",
       "      <td>126.0</td>\n",
       "      <td>146.0</td>\n",
       "      <td>154.0</td>\n",
       "      <td>172.0</td>\n",
       "    </tr>\n",
       "  </tbody>\n",
       "</table>\n",
       "</div>"
      ],
      "text/plain": [
       "           count        mean        std    min    25%    50%    75%    max\n",
       "segments2                                                                 \n",
       "0          693.0    9.037518  13.385407    1.0    2.0    4.0   10.0  113.0\n",
       "1            9.0  140.333333  23.270153  104.0  126.0  146.0  154.0  172.0"
      ]
     },
     "execution_count": 47,
     "metadata": {},
     "output_type": "execute_result"
    }
   ],
   "source": [
    "## Number of Items as well shows considerable difference betweeen Segments. Segment 1 buys lots more stuff than Segment 0.\n",
    "\n",
    "## Could be the case that Segment 1 include wholesale buyers and Segment 0 are retailers.\n",
    "\n",
    "X.groupby('segments2').describe()['No_of_Items']"
   ]
  },
  {
   "cell_type": "code",
   "execution_count": 48,
   "metadata": {},
   "outputs": [
    {
     "data": {
      "text/html": [
       "<div>\n",
       "<style scoped>\n",
       "    .dataframe tbody tr th:only-of-type {\n",
       "        vertical-align: middle;\n",
       "    }\n",
       "\n",
       "    .dataframe tbody tr th {\n",
       "        vertical-align: top;\n",
       "    }\n",
       "\n",
       "    .dataframe thead th {\n",
       "        text-align: right;\n",
       "    }\n",
       "</style>\n",
       "<table border=\"1\" class=\"dataframe\">\n",
       "  <thead>\n",
       "    <tr style=\"text-align: right;\">\n",
       "      <th></th>\n",
       "      <th>count</th>\n",
       "      <th>mean</th>\n",
       "      <th>std</th>\n",
       "      <th>min</th>\n",
       "      <th>25%</th>\n",
       "      <th>50%</th>\n",
       "      <th>75%</th>\n",
       "      <th>max</th>\n",
       "    </tr>\n",
       "    <tr>\n",
       "      <th>segments2</th>\n",
       "      <th></th>\n",
       "      <th></th>\n",
       "      <th></th>\n",
       "      <th></th>\n",
       "      <th></th>\n",
       "      <th></th>\n",
       "      <th></th>\n",
       "      <th></th>\n",
       "    </tr>\n",
       "  </thead>\n",
       "  <tbody>\n",
       "    <tr>\n",
       "      <th>0</th>\n",
       "      <td>693.0</td>\n",
       "      <td>16136.372496</td>\n",
       "      <td>36295.311364</td>\n",
       "      <td>-3962.48</td>\n",
       "      <td>0.00</td>\n",
       "      <td>2330.00</td>\n",
       "      <td>16420.0</td>\n",
       "      <td>406350.00</td>\n",
       "    </tr>\n",
       "    <tr>\n",
       "      <th>1</th>\n",
       "      <td>9.0</td>\n",
       "      <td>380393.766667</td>\n",
       "      <td>194496.723583</td>\n",
       "      <td>163280.50</td>\n",
       "      <td>211364.84</td>\n",
       "      <td>350467.88</td>\n",
       "      <td>524174.0</td>\n",
       "      <td>734349.82</td>\n",
       "    </tr>\n",
       "  </tbody>\n",
       "</table>\n",
       "</div>"
      ],
      "text/plain": [
       "           count           mean            std        min        25%  \\\n",
       "segments2                                                              \n",
       "0          693.0   16136.372496   36295.311364   -3962.48       0.00   \n",
       "1            9.0  380393.766667  194496.723583  163280.50  211364.84   \n",
       "\n",
       "                 50%       75%        max  \n",
       "segments2                                  \n",
       "0            2330.00   16420.0  406350.00  \n",
       "1          350467.88  524174.0  734349.82  "
      ]
     },
     "execution_count": 48,
     "metadata": {},
     "output_type": "execute_result"
    }
   ],
   "source": [
    "## Segment 1 buyers enjoy higher discount in lieu for their heavy purchases.\n",
    "\n",
    "X.groupby('segments2').describe()['Total_Discount']"
   ]
  },
  {
   "cell_type": "code",
   "execution_count": 49,
   "metadata": {
    "scrolled": true
   },
   "outputs": [
    {
     "data": {
      "text/html": [
       "<div>\n",
       "<style scoped>\n",
       "    .dataframe tbody tr th:only-of-type {\n",
       "        vertical-align: middle;\n",
       "    }\n",
       "\n",
       "    .dataframe tbody tr th {\n",
       "        vertical-align: top;\n",
       "    }\n",
       "\n",
       "    .dataframe thead th {\n",
       "        text-align: right;\n",
       "    }\n",
       "</style>\n",
       "<table border=\"1\" class=\"dataframe\">\n",
       "  <thead>\n",
       "    <tr style=\"text-align: right;\">\n",
       "      <th></th>\n",
       "      <th>count</th>\n",
       "      <th>mean</th>\n",
       "      <th>std</th>\n",
       "      <th>min</th>\n",
       "      <th>25%</th>\n",
       "      <th>50%</th>\n",
       "      <th>75%</th>\n",
       "      <th>max</th>\n",
       "    </tr>\n",
       "    <tr>\n",
       "      <th>segments2</th>\n",
       "      <th></th>\n",
       "      <th></th>\n",
       "      <th></th>\n",
       "      <th></th>\n",
       "      <th></th>\n",
       "      <th></th>\n",
       "      <th></th>\n",
       "      <th></th>\n",
       "    </tr>\n",
       "  </thead>\n",
       "  <tbody>\n",
       "    <tr>\n",
       "      <th>0</th>\n",
       "      <td>693.0</td>\n",
       "      <td>5.080808</td>\n",
       "      <td>3.557430</td>\n",
       "      <td>1.0</td>\n",
       "      <td>2.0</td>\n",
       "      <td>4.0</td>\n",
       "      <td>8.0</td>\n",
       "      <td>12.0</td>\n",
       "    </tr>\n",
       "    <tr>\n",
       "      <th>1</th>\n",
       "      <td>9.0</td>\n",
       "      <td>1.111111</td>\n",
       "      <td>0.333333</td>\n",
       "      <td>1.0</td>\n",
       "      <td>1.0</td>\n",
       "      <td>1.0</td>\n",
       "      <td>1.0</td>\n",
       "      <td>2.0</td>\n",
       "    </tr>\n",
       "  </tbody>\n",
       "</table>\n",
       "</div>"
      ],
      "text/plain": [
       "           count      mean       std  min  25%  50%  75%   max\n",
       "segments2                                                     \n",
       "0          693.0  5.080808  3.557430  1.0  2.0  4.0  8.0  12.0\n",
       "1            9.0  1.111111  0.333333  1.0  1.0  1.0  1.0   2.0"
      ]
     },
     "execution_count": 49,
     "metadata": {},
     "output_type": "execute_result"
    }
   ],
   "source": [
    "## Segment 1 players are very active and their month since last transaction on average is way less than retail customers.\n",
    "\n",
    "X.groupby('segments2').describe()['MONTH_SINCE_LAST_TRANSACTION']"
   ]
  },
  {
   "cell_type": "code",
   "execution_count": 50,
   "metadata": {},
   "outputs": [
    {
     "data": {
      "text/html": [
       "<div>\n",
       "<style scoped>\n",
       "    .dataframe tbody tr th:only-of-type {\n",
       "        vertical-align: middle;\n",
       "    }\n",
       "\n",
       "    .dataframe tbody tr th {\n",
       "        vertical-align: top;\n",
       "    }\n",
       "\n",
       "    .dataframe thead th {\n",
       "        text-align: right;\n",
       "    }\n",
       "</style>\n",
       "<table border=\"1\" class=\"dataframe\">\n",
       "  <thead>\n",
       "    <tr style=\"text-align: right;\">\n",
       "      <th></th>\n",
       "      <th>AVG_Actual_price_12</th>\n",
       "      <th>Purchase_Value</th>\n",
       "      <th>No_of_Items</th>\n",
       "      <th>Total_Discount</th>\n",
       "      <th>MONTH_SINCE_LAST_TRANSACTION</th>\n",
       "      <th>segments</th>\n",
       "      <th>segments2</th>\n",
       "    </tr>\n",
       "  </thead>\n",
       "  <tbody>\n",
       "    <tr>\n",
       "      <th>16</th>\n",
       "      <td>1276.385086</td>\n",
       "      <td>206681.90</td>\n",
       "      <td>172</td>\n",
       "      <td>291783.10</td>\n",
       "      <td>1</td>\n",
       "      <td>3</td>\n",
       "      <td>1</td>\n",
       "    </tr>\n",
       "    <tr>\n",
       "      <th>32</th>\n",
       "      <td>1669.538462</td>\n",
       "      <td>185976.00</td>\n",
       "      <td>104</td>\n",
       "      <td>524174.00</td>\n",
       "      <td>1</td>\n",
       "      <td>3</td>\n",
       "      <td>1</td>\n",
       "    </tr>\n",
       "    <tr>\n",
       "      <th>67</th>\n",
       "      <td>2163.279221</td>\n",
       "      <td>286244.50</td>\n",
       "      <td>154</td>\n",
       "      <td>163280.50</td>\n",
       "      <td>1</td>\n",
       "      <td>3</td>\n",
       "      <td>1</td>\n",
       "    </tr>\n",
       "    <tr>\n",
       "      <th>267</th>\n",
       "      <td>1026.325821</td>\n",
       "      <td>170390.16</td>\n",
       "      <td>149</td>\n",
       "      <td>211364.84</td>\n",
       "      <td>1</td>\n",
       "      <td>3</td>\n",
       "      <td>1</td>\n",
       "    </tr>\n",
       "    <tr>\n",
       "      <th>274</th>\n",
       "      <td>1678.153649</td>\n",
       "      <td>298429.24</td>\n",
       "      <td>168</td>\n",
       "      <td>441726.76</td>\n",
       "      <td>1</td>\n",
       "      <td>3</td>\n",
       "      <td>1</td>\n",
       "    </tr>\n",
       "    <tr>\n",
       "      <th>327</th>\n",
       "      <td>2131.438872</td>\n",
       "      <td>302721.74</td>\n",
       "      <td>146</td>\n",
       "      <td>350467.88</td>\n",
       "      <td>1</td>\n",
       "      <td>3</td>\n",
       "      <td>1</td>\n",
       "    </tr>\n",
       "    <tr>\n",
       "      <th>484</th>\n",
       "      <td>2055.238095</td>\n",
       "      <td>256450.00</td>\n",
       "      <td>126</td>\n",
       "      <td>170200.00</td>\n",
       "      <td>1</td>\n",
       "      <td>3</td>\n",
       "      <td>1</td>\n",
       "    </tr>\n",
       "    <tr>\n",
       "      <th>497</th>\n",
       "      <td>1310.493827</td>\n",
       "      <td>234203.00</td>\n",
       "      <td>128</td>\n",
       "      <td>536197.00</td>\n",
       "      <td>1</td>\n",
       "      <td>3</td>\n",
       "      <td>1</td>\n",
       "    </tr>\n",
       "    <tr>\n",
       "      <th>691</th>\n",
       "      <td>1891.162000</td>\n",
       "      <td>233556.18</td>\n",
       "      <td>116</td>\n",
       "      <td>734349.82</td>\n",
       "      <td>2</td>\n",
       "      <td>3</td>\n",
       "      <td>1</td>\n",
       "    </tr>\n",
       "  </tbody>\n",
       "</table>\n",
       "</div>"
      ],
      "text/plain": [
       "     AVG_Actual_price_12  Purchase_Value  No_of_Items  Total_Discount  \\\n",
       "16           1276.385086       206681.90          172       291783.10   \n",
       "32           1669.538462       185976.00          104       524174.00   \n",
       "67           2163.279221       286244.50          154       163280.50   \n",
       "267          1026.325821       170390.16          149       211364.84   \n",
       "274          1678.153649       298429.24          168       441726.76   \n",
       "327          2131.438872       302721.74          146       350467.88   \n",
       "484          2055.238095       256450.00          126       170200.00   \n",
       "497          1310.493827       234203.00          128       536197.00   \n",
       "691          1891.162000       233556.18          116       734349.82   \n",
       "\n",
       "     MONTH_SINCE_LAST_TRANSACTION  segments  segments2  \n",
       "16                              1         3          1  \n",
       "32                              1         3          1  \n",
       "67                              1         3          1  \n",
       "267                             1         3          1  \n",
       "274                             1         3          1  \n",
       "327                             1         3          1  \n",
       "484                             1         3          1  \n",
       "497                             1         3          1  \n",
       "691                             2         3          1  "
      ]
     },
     "execution_count": 50,
     "metadata": {},
     "output_type": "execute_result"
    }
   ],
   "source": [
    "X[X['segments2']==1]  ## Lots of items purchases and at high prices. These are not retail customers for sure!!!"
   ]
  },
  {
   "cell_type": "code",
   "execution_count": 51,
   "metadata": {},
   "outputs": [],
   "source": [
    "## CONCLUSION 2: CUSTOMERS CAN BE CLASSIFIED INTO THE RETAILERS AND WHOLE SALE BUYERS/DEALERS. "
   ]
  }
 ],
 "metadata": {
  "kernelspec": {
   "display_name": "Python 3",
   "language": "python",
   "name": "python3"
  },
  "language_info": {
   "codemirror_mode": {
    "name": "ipython",
    "version": 3
   },
   "file_extension": ".py",
   "mimetype": "text/x-python",
   "name": "python",
   "nbconvert_exporter": "python",
   "pygments_lexer": "ipython3",
   "version": "3.7.1"
  }
 },
 "nbformat": 4,
 "nbformat_minor": 2
}
